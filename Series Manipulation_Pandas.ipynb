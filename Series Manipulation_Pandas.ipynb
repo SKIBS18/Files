{
 "cells": [
  {
   "cell_type": "code",
   "execution_count": 1,
   "id": "f222d2cf",
   "metadata": {},
   "outputs": [],
   "source": [
    "import pandas as pd\n",
    "import numpy as np"
   ]
  },
  {
   "cell_type": "code",
   "execution_count": 3,
   "id": "ebd97ce7",
   "metadata": {},
   "outputs": [
    {
     "data": {
      "text/plain": [
       "CA    1\n",
       "OR    2\n",
       "CO    3\n",
       "AZ    4\n",
       "dtype: int64"
      ]
     },
     "execution_count": 3,
     "metadata": {},
     "output_type": "execute_result"
    }
   ],
   "source": [
    "ser1 = pd.Series([1,2,3,4],['CA','OR','CO','AZ'])\n",
    "ser1"
   ]
  },
  {
   "cell_type": "code",
   "execution_count": 4,
   "id": "1f5eb673",
   "metadata": {},
   "outputs": [
    {
     "data": {
      "text/plain": [
       "3"
      ]
     },
     "execution_count": 4,
     "metadata": {},
     "output_type": "execute_result"
    }
   ],
   "source": [
    "ser1['CO']"
   ]
  },
  {
   "cell_type": "code",
   "execution_count": 5,
   "id": "b27dc7b9",
   "metadata": {},
   "outputs": [
    {
     "name": "stdout",
     "output_type": "stream",
     "text": [
      "Value of CA in ser1: 1\n"
     ]
    }
   ],
   "source": [
    "#indexingByname of item\n",
    "\n",
    "print('Value of CA in ser1:',ser1['CA'])"
   ]
  },
  {
   "cell_type": "code",
   "execution_count": 6,
   "id": "342d668b",
   "metadata": {},
   "outputs": [
    {
     "name": "stdout",
     "output_type": "stream",
     "text": [
      "Value of CO in ser1: 3\n"
     ]
    }
   ],
   "source": [
    "#Fetching By Positional Index\n",
    "\n",
    "print('Value of CO in ser1:',ser1[2])"
   ]
  },
  {
   "cell_type": "code",
   "execution_count": 7,
   "id": "ce726358",
   "metadata": {},
   "outputs": [
    {
     "data": {
      "text/plain": [
       "CA    1\n",
       "OR    2\n",
       "CO    3\n",
       "AZ    4\n",
       "dtype: int64"
      ]
     },
     "execution_count": 7,
     "metadata": {},
     "output_type": "execute_result"
    }
   ],
   "source": [
    "ser1"
   ]
  },
  {
   "cell_type": "code",
   "execution_count": 15,
   "id": "195e8ddb",
   "metadata": {},
   "outputs": [
    {
     "name": "stdout",
     "output_type": "stream",
     "text": [
      "Value of elements from index 1 to 3 in ser1:\n",
      " OR    2\n",
      "CO    3\n",
      "AZ    4\n",
      "dtype: int64\n"
     ]
    }
   ],
   "source": [
    "#Fetching by range\n",
    "print('Value of elements from index 1 to 3 in ser1:\\n',ser1[1:4])"
   ]
  },
  {
   "cell_type": "code",
   "execution_count": 13,
   "id": "c35692b9",
   "metadata": {},
   "outputs": [],
   "source": [
    "ser1 = pd.Series([1,2,3,4,10],['CA','OR','CO','AZ','NV'])\n",
    "ser2 = pd.Series([1,2,5,4,30],['CA','OR','NV','PA','CO'])"
   ]
  },
  {
   "cell_type": "code",
   "execution_count": 14,
   "id": "553a3265",
   "metadata": {},
   "outputs": [
    {
     "data": {
      "text/plain": [
       "AZ     NaN\n",
       "CA     2.0\n",
       "CO    33.0\n",
       "NV    15.0\n",
       "OR     4.0\n",
       "PA     NaN\n",
       "dtype: float64"
      ]
     },
     "execution_count": 14,
     "metadata": {},
     "output_type": "execute_result"
    }
   ],
   "source": [
    "ser3 = ser1 + ser2\n",
    "ser3"
   ]
  },
  {
   "cell_type": "code",
   "execution_count": null,
   "id": "9f0aac37",
   "metadata": {},
   "outputs": [],
   "source": []
  }
 ],
 "metadata": {
  "kernelspec": {
   "display_name": "Python 3 (ipykernel)",
   "language": "python",
   "name": "python3"
  },
  "language_info": {
   "codemirror_mode": {
    "name": "ipython",
    "version": 3
   },
   "file_extension": ".py",
   "mimetype": "text/x-python",
   "name": "python",
   "nbconvert_exporter": "python",
   "pygments_lexer": "ipython3",
   "version": "3.9.7"
  }
 },
 "nbformat": 4,
 "nbformat_minor": 5
}
