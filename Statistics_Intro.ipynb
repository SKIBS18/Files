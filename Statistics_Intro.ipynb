{
 "cells": [
  {
   "cell_type": "code",
   "execution_count": 1,
   "id": "f34d20f6",
   "metadata": {},
   "outputs": [
    {
     "name": "stdout",
     "output_type": "stream",
     "text": [
      "48.18181818181818\n"
     ]
    }
   ],
   "source": [
    "#Mean using stat\n",
    "\n",
    "import statistics as st\n",
    "x = [10,20,30,40,40,40,50,60,70,80,90]\n",
    "print(st.mean(x))\n",
    "\n",
    "#using pandas\n",
    "\n",
    "#x_ =pd.DataFrame(x)\n",
    "#print(x_.mean())"
   ]
  },
  {
   "cell_type": "code",
   "execution_count": 3,
   "id": "18fbee45",
   "metadata": {},
   "outputs": [
    {
     "name": "stdout",
     "output_type": "stream",
     "text": [
      "40\n"
     ]
    }
   ],
   "source": [
    "#median\n",
    "\n",
    "print(st.median(x))"
   ]
  },
  {
   "cell_type": "code",
   "execution_count": 4,
   "id": "3cdc8919",
   "metadata": {},
   "outputs": [
    {
     "name": "stdout",
     "output_type": "stream",
     "text": [
      "40\n"
     ]
    }
   ],
   "source": [
    "print(st.mode(x))"
   ]
  },
  {
   "cell_type": "code",
   "execution_count": null,
   "id": "35df9d00",
   "metadata": {},
   "outputs": [],
   "source": []
  }
 ],
 "metadata": {
  "kernelspec": {
   "display_name": "Python 3 (ipykernel)",
   "language": "python",
   "name": "python3"
  },
  "language_info": {
   "codemirror_mode": {
    "name": "ipython",
    "version": 3
   },
   "file_extension": ".py",
   "mimetype": "text/x-python",
   "name": "python",
   "nbconvert_exporter": "python",
   "pygments_lexer": "ipython3",
   "version": "3.9.7"
  }
 },
 "nbformat": 4,
 "nbformat_minor": 5
}
