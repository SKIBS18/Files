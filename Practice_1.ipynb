{
 "cells": [
  {
   "cell_type": "code",
   "execution_count": 2,
   "id": "744d7d1b",
   "metadata": {},
   "outputs": [],
   "source": [
    "import numpy as np\n",
    "import pandas as pd\n",
    "import seaborn as sns\n",
    "import matplotlib.pyplot as plt\n",
    "#matplotlib inline\n",
    "from numpy.random import randn"
   ]
  },
  {
   "cell_type": "code",
   "execution_count": 2,
   "id": "0f892346",
   "metadata": {},
   "outputs": [
    {
     "data": {
      "text/html": [
       "<div>\n",
       "<style scoped>\n",
       "    .dataframe tbody tr th:only-of-type {\n",
       "        vertical-align: middle;\n",
       "    }\n",
       "\n",
       "    .dataframe tbody tr th {\n",
       "        vertical-align: top;\n",
       "    }\n",
       "\n",
       "    .dataframe thead th {\n",
       "        text-align: right;\n",
       "    }\n",
       "</style>\n",
       "<table border=\"1\" class=\"dataframe\">\n",
       "  <thead>\n",
       "    <tr style=\"text-align: right;\">\n",
       "      <th></th>\n",
       "      <th>a</th>\n",
       "      <th>b</th>\n",
       "      <th>c</th>\n",
       "      <th>d</th>\n",
       "    </tr>\n",
       "  </thead>\n",
       "  <tbody>\n",
       "    <tr>\n",
       "      <th>0</th>\n",
       "      <td>0.714318</td>\n",
       "      <td>1.684859</td>\n",
       "      <td>0.933646</td>\n",
       "      <td>0.306189</td>\n",
       "    </tr>\n",
       "    <tr>\n",
       "      <th>1</th>\n",
       "      <td>-0.463032</td>\n",
       "      <td>-0.731314</td>\n",
       "      <td>0.095823</td>\n",
       "      <td>-0.083664</td>\n",
       "    </tr>\n",
       "    <tr>\n",
       "      <th>2</th>\n",
       "      <td>-0.760664</td>\n",
       "      <td>1.342416</td>\n",
       "      <td>0.312288</td>\n",
       "      <td>-0.760800</td>\n",
       "    </tr>\n",
       "    <tr>\n",
       "      <th>3</th>\n",
       "      <td>2.956164</td>\n",
       "      <td>0.557587</td>\n",
       "      <td>1.177804</td>\n",
       "      <td>1.140080</td>\n",
       "    </tr>\n",
       "    <tr>\n",
       "      <th>4</th>\n",
       "      <td>0.841931</td>\n",
       "      <td>0.197237</td>\n",
       "      <td>-1.508894</td>\n",
       "      <td>-0.133241</td>\n",
       "    </tr>\n",
       "    <tr>\n",
       "      <th>5</th>\n",
       "      <td>-0.682482</td>\n",
       "      <td>1.890300</td>\n",
       "      <td>0.017747</td>\n",
       "      <td>3.111591</td>\n",
       "    </tr>\n",
       "    <tr>\n",
       "      <th>6</th>\n",
       "      <td>0.426240</td>\n",
       "      <td>-0.541605</td>\n",
       "      <td>0.895455</td>\n",
       "      <td>0.968478</td>\n",
       "    </tr>\n",
       "    <tr>\n",
       "      <th>7</th>\n",
       "      <td>0.782810</td>\n",
       "      <td>0.547389</td>\n",
       "      <td>-0.119447</td>\n",
       "      <td>1.444206</td>\n",
       "    </tr>\n",
       "    <tr>\n",
       "      <th>8</th>\n",
       "      <td>-0.790471</td>\n",
       "      <td>2.052629</td>\n",
       "      <td>-0.713641</td>\n",
       "      <td>-1.139680</td>\n",
       "    </tr>\n",
       "    <tr>\n",
       "      <th>9</th>\n",
       "      <td>1.277585</td>\n",
       "      <td>0.605478</td>\n",
       "      <td>0.300206</td>\n",
       "      <td>0.409157</td>\n",
       "    </tr>\n",
       "  </tbody>\n",
       "</table>\n",
       "</div>"
      ],
      "text/plain": [
       "          a         b         c         d\n",
       "0  0.714318  1.684859  0.933646  0.306189\n",
       "1 -0.463032 -0.731314  0.095823 -0.083664\n",
       "2 -0.760664  1.342416  0.312288 -0.760800\n",
       "3  2.956164  0.557587  1.177804  1.140080\n",
       "4  0.841931  0.197237 -1.508894 -0.133241\n",
       "5 -0.682482  1.890300  0.017747  3.111591\n",
       "6  0.426240 -0.541605  0.895455  0.968478\n",
       "7  0.782810  0.547389 -0.119447  1.444206\n",
       "8 -0.790471  2.052629 -0.713641 -1.139680\n",
       "9  1.277585  0.605478  0.300206  0.409157"
      ]
     },
     "execution_count": 2,
     "metadata": {},
     "output_type": "execute_result"
    }
   ],
   "source": [
    "df = pd.DataFrame(randn(10,4),columns=['a','b','c','d'])\n",
    "df"
   ]
  },
  {
   "cell_type": "code",
   "execution_count": 27,
   "id": "0840518e",
   "metadata": {},
   "outputs": [
    {
     "data": {
      "text/html": [
       "<div>\n",
       "<style scoped>\n",
       "    .dataframe tbody tr th:only-of-type {\n",
       "        vertical-align: middle;\n",
       "    }\n",
       "\n",
       "    .dataframe tbody tr th {\n",
       "        vertical-align: top;\n",
       "    }\n",
       "\n",
       "    .dataframe thead th {\n",
       "        text-align: right;\n",
       "    }\n",
       "</style>\n",
       "<table border=\"1\" class=\"dataframe\">\n",
       "  <thead>\n",
       "    <tr style=\"text-align: right;\">\n",
       "      <th></th>\n",
       "      <th>sepal_length</th>\n",
       "      <th>sepal_width</th>\n",
       "      <th>petal_length</th>\n",
       "      <th>petal_width</th>\n",
       "    </tr>\n",
       "  </thead>\n",
       "  <tbody>\n",
       "    <tr>\n",
       "      <th>0</th>\n",
       "      <td>5.1</td>\n",
       "      <td>3.5</td>\n",
       "      <td>1.4</td>\n",
       "      <td>0.2</td>\n",
       "    </tr>\n",
       "    <tr>\n",
       "      <th>1</th>\n",
       "      <td>4.9</td>\n",
       "      <td>3.0</td>\n",
       "      <td>1.4</td>\n",
       "      <td>0.2</td>\n",
       "    </tr>\n",
       "    <tr>\n",
       "      <th>2</th>\n",
       "      <td>4.7</td>\n",
       "      <td>3.2</td>\n",
       "      <td>1.3</td>\n",
       "      <td>0.2</td>\n",
       "    </tr>\n",
       "    <tr>\n",
       "      <th>3</th>\n",
       "      <td>4.6</td>\n",
       "      <td>3.1</td>\n",
       "      <td>1.5</td>\n",
       "      <td>0.2</td>\n",
       "    </tr>\n",
       "    <tr>\n",
       "      <th>4</th>\n",
       "      <td>5.0</td>\n",
       "      <td>3.6</td>\n",
       "      <td>1.4</td>\n",
       "      <td>0.2</td>\n",
       "    </tr>\n",
       "    <tr>\n",
       "      <th>5</th>\n",
       "      <td>5.4</td>\n",
       "      <td>3.9</td>\n",
       "      <td>1.7</td>\n",
       "      <td>0.4</td>\n",
       "    </tr>\n",
       "    <tr>\n",
       "      <th>6</th>\n",
       "      <td>4.6</td>\n",
       "      <td>3.4</td>\n",
       "      <td>1.4</td>\n",
       "      <td>0.3</td>\n",
       "    </tr>\n",
       "    <tr>\n",
       "      <th>7</th>\n",
       "      <td>5.0</td>\n",
       "      <td>3.4</td>\n",
       "      <td>1.5</td>\n",
       "      <td>0.2</td>\n",
       "    </tr>\n",
       "    <tr>\n",
       "      <th>8</th>\n",
       "      <td>4.4</td>\n",
       "      <td>2.9</td>\n",
       "      <td>1.4</td>\n",
       "      <td>0.2</td>\n",
       "    </tr>\n",
       "    <tr>\n",
       "      <th>9</th>\n",
       "      <td>4.9</td>\n",
       "      <td>3.1</td>\n",
       "      <td>1.5</td>\n",
       "      <td>0.1</td>\n",
       "    </tr>\n",
       "  </tbody>\n",
       "</table>\n",
       "</div>"
      ],
      "text/plain": [
       "   sepal_length  sepal_width  petal_length  petal_width\n",
       "0           5.1          3.5           1.4          0.2\n",
       "1           4.9          3.0           1.4          0.2\n",
       "2           4.7          3.2           1.3          0.2\n",
       "3           4.6          3.1           1.5          0.2\n",
       "4           5.0          3.6           1.4          0.2\n",
       "5           5.4          3.9           1.7          0.4\n",
       "6           4.6          3.4           1.4          0.3\n",
       "7           5.0          3.4           1.5          0.2\n",
       "8           4.4          2.9           1.4          0.2\n",
       "9           4.9          3.1           1.5          0.1"
      ]
     },
     "execution_count": 27,
     "metadata": {},
     "output_type": "execute_result"
    }
   ],
   "source": [
    "df.head(10)"
   ]
  },
  {
   "cell_type": "code",
   "execution_count": 26,
   "id": "726c84b1",
   "metadata": {},
   "outputs": [
    {
     "data": {
      "image/png": "[encoded data removed]",
      "text/plain": [
       "<Figure size 432x288 with 1 Axes>"
      ]
     },
     "metadata": {
      "needs_background": "light"
     },
     "output_type": "display_data"
    }
   ],
   "source": [
    "df.plot.bar()\n",
    "plt.show()"
   ]
  },
  {
   "cell_type": "code",
   "execution_count": 5,
   "id": "ac1d7daa",
   "metadata": {},
   "outputs": [
    {
     "data": {
      "text/plain": [
       "<AxesSubplot:>"
      ]
     },
     "execution_count": 5,
     "metadata": {},
     "output_type": "execute_result"
    },
    {
     "data": {
      "image/png": "[encoded data removed]",
      "text/plain": [
       "<Figure size 432x288 with 1 Axes>"
      ]
     },
     "metadata": {
      "needs_background": "light"
     },
     "output_type": "display_data"
    }
   ],
   "source": [
    "df.plot(kind='bar')"
   ]
  },
  {
   "cell_type": "code",
   "execution_count": 6,
   "id": "511e8ee3",
   "metadata": {},
   "outputs": [
    {
     "data": {
      "text/plain": [
       "<AxesSubplot:>"
      ]
     },
     "execution_count": 6,
     "metadata": {},
     "output_type": "execute_result"
    },
    {
     "data": {
      "image/png": "[encoded data removed]",
      "text/plain": [
       "<Figure size 432x288 with 1 Axes>"
      ]
     },
     "metadata": {
      "needs_background": "light"
     },
     "output_type": "display_data"
    }
   ],
   "source": [
    "df.plot.barh()"
   ]
  },
  {
   "cell_type": "code",
   "execution_count": 7,
   "id": "e9e2d7c0",
   "metadata": {},
   "outputs": [
    {
     "data": {
      "text/plain": [
       "<AxesSubplot:>"
      ]
     },
     "execution_count": 7,
     "metadata": {},
     "output_type": "execute_result"
    },
    {
     "data": {
      "image/png": "[encoded data removed]",
      "text/plain": [
       "<Figure size 432x288 with 1 Axes>"
      ]
     },
     "metadata": {
      "needs_background": "light"
     },
     "output_type": "display_data"
    }
   ],
   "source": [
    "df.plot(kind='barh')"
   ]
  },
  {
   "cell_type": "code",
   "execution_count": 8,
   "id": "e3f146b2",
   "metadata": {},
   "outputs": [],
   "source": [
    "iris = sns.load_dataset('iris')"
   ]
  },
  {
   "cell_type": "code",
   "execution_count": 9,
   "id": "26a05f08",
   "metadata": {},
   "outputs": [
    {
     "data": {
      "text/html": [
       "<div>\n",
       "<style scoped>\n",
       "    .dataframe tbody tr th:only-of-type {\n",
       "        vertical-align: middle;\n",
       "    }\n",
       "\n",
       "    .dataframe tbody tr th {\n",
       "        vertical-align: top;\n",
       "    }\n",
       "\n",
       "    .dataframe thead th {\n",
       "        text-align: right;\n",
       "    }\n",
       "</style>\n",
       "<table border=\"1\" class=\"dataframe\">\n",
       "  <thead>\n",
       "    <tr style=\"text-align: right;\">\n",
       "      <th></th>\n",
       "      <th>sepal_length</th>\n",
       "      <th>sepal_width</th>\n",
       "      <th>petal_length</th>\n",
       "      <th>petal_width</th>\n",
       "      <th>species</th>\n",
       "    </tr>\n",
       "  </thead>\n",
       "  <tbody>\n",
       "    <tr>\n",
       "      <th>145</th>\n",
       "      <td>6.7</td>\n",
       "      <td>3.0</td>\n",
       "      <td>5.2</td>\n",
       "      <td>2.3</td>\n",
       "      <td>virginica</td>\n",
       "    </tr>\n",
       "    <tr>\n",
       "      <th>146</th>\n",
       "      <td>6.3</td>\n",
       "      <td>2.5</td>\n",
       "      <td>5.0</td>\n",
       "      <td>1.9</td>\n",
       "      <td>virginica</td>\n",
       "    </tr>\n",
       "    <tr>\n",
       "      <th>147</th>\n",
       "      <td>6.5</td>\n",
       "      <td>3.0</td>\n",
       "      <td>5.2</td>\n",
       "      <td>2.0</td>\n",
       "      <td>virginica</td>\n",
       "    </tr>\n",
       "    <tr>\n",
       "      <th>148</th>\n",
       "      <td>6.2</td>\n",
       "      <td>3.4</td>\n",
       "      <td>5.4</td>\n",
       "      <td>2.3</td>\n",
       "      <td>virginica</td>\n",
       "    </tr>\n",
       "    <tr>\n",
       "      <th>149</th>\n",
       "      <td>5.9</td>\n",
       "      <td>3.0</td>\n",
       "      <td>5.1</td>\n",
       "      <td>1.8</td>\n",
       "      <td>virginica</td>\n",
       "    </tr>\n",
       "  </tbody>\n",
       "</table>\n",
       "</div>"
      ],
      "text/plain": [
       "     sepal_length  sepal_width  petal_length  petal_width    species\n",
       "145           6.7          3.0           5.2          2.3  virginica\n",
       "146           6.3          2.5           5.0          1.9  virginica\n",
       "147           6.5          3.0           5.2          2.0  virginica\n",
       "148           6.2          3.4           5.4          2.3  virginica\n",
       "149           5.9          3.0           5.1          1.8  virginica"
      ]
     },
     "execution_count": 9,
     "metadata": {},
     "output_type": "execute_result"
    }
   ],
   "source": [
    "iris.tail()"
   ]
  },
  {
   "cell_type": "code",
   "execution_count": 13,
   "id": "d840a083",
   "metadata": {},
   "outputs": [
    {
     "data": {
      "text/plain": [
       "<AxesSubplot:ylabel='Frequency'>"
      ]
     },
     "execution_count": 13,
     "metadata": {},
     "output_type": "execute_result"
    },
    {
     "data": {
      "image/png": "[encoded data removed]",
      "text/plain": [
       "<Figure size 432x288 with 1 Axes>"
      ]
     },
     "metadata": {
      "needs_background": "light"
     },
     "output_type": "display_data"
    }
   ],
   "source": [
    "iris.sepal_length.plot.hist()"
   ]
  },
  {
   "cell_type": "code",
   "execution_count": 14,
   "id": "68f359ac",
   "metadata": {
    "scrolled": true
   },
   "outputs": [
    {
     "data": {
      "text/plain": [
       "<AxesSubplot:ylabel='Frequency'>"
      ]
     },
     "execution_count": 14,
     "metadata": {},
     "output_type": "execute_result"
    },
    {
     "data": {
      "image/png": "[encoded data removed]",
      "text/plain": [
       "<Figure size 432x288 with 1 Axes>"
      ]
     },
     "metadata": {
      "needs_background": "light"
     },
     "output_type": "display_data"
    }
   ],
   "source": [
    "iris.sepal_length.plot(kind='hist',bins=30)"
   ]
  },
  {
   "cell_type": "code",
   "execution_count": 31,
   "id": "50ec8590",
   "metadata": {},
   "outputs": [
    {
     "data": {
      "image/png": "[encoded data removed]",
      "text/plain": [
       "<Figure size 720x432 with 4 Axes>"
      ]
     },
     "metadata": {
      "needs_background": "light"
     },
     "output_type": "display_data"
    }
   ],
   "source": [
    "iris.hist(color='r',figsize=(10,6),bins=30)\n",
    "plt.show()"
   ]
  },
  {
   "cell_type": "code",
   "execution_count": 15,
   "id": "9ee133f1",
   "metadata": {},
   "outputs": [
    {
     "data": {
      "text/html": [
       "<div>\n",
       "<style scoped>\n",
       "    .dataframe tbody tr th:only-of-type {\n",
       "        vertical-align: middle;\n",
       "    }\n",
       "\n",
       "    .dataframe tbody tr th {\n",
       "        vertical-align: top;\n",
       "    }\n",
       "\n",
       "    .dataframe thead th {\n",
       "        text-align: right;\n",
       "    }\n",
       "</style>\n",
       "<table border=\"1\" class=\"dataframe\">\n",
       "  <thead>\n",
       "    <tr style=\"text-align: right;\">\n",
       "      <th></th>\n",
       "      <th>sepal_length</th>\n",
       "      <th>sepal_width</th>\n",
       "      <th>petal_length</th>\n",
       "      <th>petal_width</th>\n",
       "    </tr>\n",
       "  </thead>\n",
       "  <tbody>\n",
       "    <tr>\n",
       "      <th>0</th>\n",
       "      <td>5.1</td>\n",
       "      <td>3.5</td>\n",
       "      <td>1.4</td>\n",
       "      <td>0.2</td>\n",
       "    </tr>\n",
       "    <tr>\n",
       "      <th>1</th>\n",
       "      <td>4.9</td>\n",
       "      <td>3.0</td>\n",
       "      <td>1.4</td>\n",
       "      <td>0.2</td>\n",
       "    </tr>\n",
       "    <tr>\n",
       "      <th>2</th>\n",
       "      <td>4.7</td>\n",
       "      <td>3.2</td>\n",
       "      <td>1.3</td>\n",
       "      <td>0.2</td>\n",
       "    </tr>\n",
       "    <tr>\n",
       "      <th>3</th>\n",
       "      <td>4.6</td>\n",
       "      <td>3.1</td>\n",
       "      <td>1.5</td>\n",
       "      <td>0.2</td>\n",
       "    </tr>\n",
       "    <tr>\n",
       "      <th>4</th>\n",
       "      <td>5.0</td>\n",
       "      <td>3.6</td>\n",
       "      <td>1.4</td>\n",
       "      <td>0.2</td>\n",
       "    </tr>\n",
       "  </tbody>\n",
       "</table>\n",
       "</div>"
      ],
      "text/plain": [
       "   sepal_length  sepal_width  petal_length  petal_width\n",
       "0           5.1          3.5           1.4          0.2\n",
       "1           4.9          3.0           1.4          0.2\n",
       "2           4.7          3.2           1.3          0.2\n",
       "3           4.6          3.1           1.5          0.2\n",
       "4           5.0          3.6           1.4          0.2"
      ]
     },
     "execution_count": 15,
     "metadata": {},
     "output_type": "execute_result"
    }
   ],
   "source": [
    "df = iris.drop(['species'],axis=1)\n",
    "df.head()"
   ]
  },
  {
   "cell_type": "code",
   "execution_count": 20,
   "id": "f248a340",
   "metadata": {},
   "outputs": [
    {
     "data": {
      "image/png": "[encoded data removed]",
      "text/plain": [
       "<Figure size 720x360 with 4 Axes>"
      ]
     },
     "metadata": {
      "needs_background": "light"
     },
     "output_type": "display_data"
    }
   ],
   "source": [
    "df.hist(color='r',figsize=(10,5),bins=20)\n",
    "plt.show()"
   ]
  },
  {
   "cell_type": "code",
   "execution_count": 32,
   "id": "0c26c3ec",
   "metadata": {},
   "outputs": [],
   "source": [
    "import pandas as pd\n",
    "import numpy as np\n",
    "import matplotlib.pyplot as plt\n",
    "import seaborn as sns\n",
    "#matplotlib inline"
   ]
  },
  {
   "cell_type": "code",
   "execution_count": 33,
   "id": "5ee7d0ba",
   "metadata": {},
   "outputs": [
    {
     "data": {
      "text/html": [
       "<div>\n",
       "<style scoped>\n",
       "    .dataframe tbody tr th:only-of-type {\n",
       "        vertical-align: middle;\n",
       "    }\n",
       "\n",
       "    .dataframe tbody tr th {\n",
       "        vertical-align: top;\n",
       "    }\n",
       "\n",
       "    .dataframe thead th {\n",
       "        text-align: right;\n",
       "    }\n",
       "</style>\n",
       "<table border=\"1\" class=\"dataframe\">\n",
       "  <thead>\n",
       "    <tr style=\"text-align: right;\">\n",
       "      <th></th>\n",
       "      <th>Age_years</th>\n",
       "      <th>sal</th>\n",
       "    </tr>\n",
       "  </thead>\n",
       "  <tbody>\n",
       "    <tr>\n",
       "      <th>0</th>\n",
       "      <td>10</td>\n",
       "      <td>15</td>\n",
       "    </tr>\n",
       "    <tr>\n",
       "      <th>1</th>\n",
       "      <td>22</td>\n",
       "      <td>22</td>\n",
       "    </tr>\n",
       "    <tr>\n",
       "      <th>2</th>\n",
       "      <td>23</td>\n",
       "      <td>24</td>\n",
       "    </tr>\n",
       "    <tr>\n",
       "      <th>3</th>\n",
       "      <td>25</td>\n",
       "      <td>25</td>\n",
       "    </tr>\n",
       "    <tr>\n",
       "      <th>4</th>\n",
       "      <td>20</td>\n",
       "      <td>30</td>\n",
       "    </tr>\n",
       "    <tr>\n",
       "      <th>5</th>\n",
       "      <td>23</td>\n",
       "      <td>23</td>\n",
       "    </tr>\n",
       "    <tr>\n",
       "      <th>6</th>\n",
       "      <td>24</td>\n",
       "      <td>34</td>\n",
       "    </tr>\n",
       "    <tr>\n",
       "      <th>7</th>\n",
       "      <td>27</td>\n",
       "      <td>43</td>\n",
       "    </tr>\n",
       "    <tr>\n",
       "      <th>8</th>\n",
       "      <td>25</td>\n",
       "      <td>19</td>\n",
       "    </tr>\n",
       "    <tr>\n",
       "      <th>9</th>\n",
       "      <td>24</td>\n",
       "      <td>20</td>\n",
       "    </tr>\n",
       "    <tr>\n",
       "      <th>10</th>\n",
       "      <td>33</td>\n",
       "      <td>52</td>\n",
       "    </tr>\n",
       "    <tr>\n",
       "      <th>11</th>\n",
       "      <td>21</td>\n",
       "      <td>21</td>\n",
       "    </tr>\n",
       "  </tbody>\n",
       "</table>\n",
       "</div>"
      ],
      "text/plain": [
       "    Age_years  sal\n",
       "0          10   15\n",
       "1          22   22\n",
       "2          23   24\n",
       "3          25   25\n",
       "4          20   30\n",
       "5          23   23\n",
       "6          24   34\n",
       "7          27   43\n",
       "8          25   19\n",
       "9          24   20\n",
       "10         33   52\n",
       "11         21   21"
      ]
     },
     "execution_count": 33,
     "metadata": {},
     "output_type": "execute_result"
    }
   ],
   "source": [
    "emp= {'Age_years':[10,22,23,25,20,23,24,27,25,24,33,21],'sal':[15,22,24,25,30,23,34,43,19,20,52,21]}\n",
    "df = pd.DataFrame(emp)\n",
    "df\n"
   ]
  },
  {
   "cell_type": "code",
   "execution_count": 34,
   "id": "a16457a3",
   "metadata": {},
   "outputs": [
    {
     "data": {
      "image/png": "[encoded data removed]",
      "text/plain": [
       "<Figure size 360x432 with 1 Axes>"
      ]
     },
     "metadata": {
      "needs_background": "light"
     },
     "output_type": "display_data"
    }
   ],
   "source": [
    "plt.figure(figsize=(5,6))\n",
    "ax = sns.boxplot(data=df)\n",
    "plt.yticks(range(5,60,5))\n",
    "plt.xlabel('Age and salary')\n",
    "plt.show()"
   ]
  },
  {
   "cell_type": "code",
   "execution_count": 36,
   "id": "dc41dca9",
   "metadata": {},
   "outputs": [
    {
     "data": {
      "text/plain": [
       "<AxesSubplot:>"
      ]
     },
     "execution_count": 36,
     "metadata": {},
     "output_type": "execute_result"
    },
    {
     "data": {
      "image/png": "[encoded data removed]",
      "text/plain": [
       "<Figure size 360x432 with 1 Axes>"
      ]
     },
     "metadata": {
      "needs_background": "light"
     },
     "output_type": "display_data"
    }
   ],
   "source": [
    "df.plot(kind='box',figsize=(5,6),yticks=range(5,60,5),color='r')"
   ]
  },
  {
   "cell_type": "code",
   "execution_count": 37,
   "id": "bbff0e80",
   "metadata": {},
   "outputs": [],
   "source": [
    "sal = [15,22,24,25,30,23,34,43,19,20,52,21]\n",
    "sal.sort()"
   ]
  },
  {
   "cell_type": "code",
   "execution_count": 38,
   "id": "0155b524",
   "metadata": {},
   "outputs": [
    {
     "data": {
      "text/plain": [
       "[15, 19, 20, 21, 22, 23, 24, 25, 30, 34, 43, 52]"
      ]
     },
     "execution_count": 38,
     "metadata": {},
     "output_type": "execute_result"
    }
   ],
   "source": [
    "sal"
   ]
  },
  {
   "cell_type": "code",
   "execution_count": 39,
   "id": "701f1127",
   "metadata": {},
   "outputs": [
    {
     "data": {
      "text/plain": [
       "0     15\n",
       "1     19\n",
       "2     20\n",
       "3     21\n",
       "4     22\n",
       "5     23\n",
       "6     24\n",
       "7     25\n",
       "8     30\n",
       "9     34\n",
       "10    43\n",
       "11    52\n",
       "dtype: int64"
      ]
     },
     "execution_count": 39,
     "metadata": {},
     "output_type": "execute_result"
    }
   ],
   "source": [
    "ser =pd.Series(sal)\n",
    "ser"
   ]
  },
  {
   "cell_type": "code",
   "execution_count": 40,
   "id": "d9e569dc",
   "metadata": {},
   "outputs": [
    {
     "data": {
      "text/plain": [
       "20.75"
      ]
     },
     "execution_count": 40,
     "metadata": {},
     "output_type": "execute_result"
    }
   ],
   "source": [
    "q1 = ser.quantile(0.25)\n",
    "q1"
   ]
  },
  {
   "cell_type": "code",
   "execution_count": 41,
   "id": "f8ce4f2f",
   "metadata": {},
   "outputs": [
    {
     "data": {
      "text/plain": [
       "31.0"
      ]
     },
     "execution_count": 41,
     "metadata": {},
     "output_type": "execute_result"
    }
   ],
   "source": [
    "q3 = ser.quantile(0.75)\n",
    "q3"
   ]
  },
  {
   "cell_type": "code",
   "execution_count": 42,
   "id": "11a2409c",
   "metadata": {},
   "outputs": [],
   "source": [
    "IQR = q3-q1"
   ]
  },
  {
   "cell_type": "code",
   "execution_count": 43,
   "id": "4b5ac8f5",
   "metadata": {},
   "outputs": [
    {
     "data": {
      "text/plain": [
       "10.25"
      ]
     },
     "execution_count": 43,
     "metadata": {},
     "output_type": "execute_result"
    }
   ],
   "source": [
    "IQR"
   ]
  },
  {
   "cell_type": "code",
   "execution_count": 44,
   "id": "39a5ff89",
   "metadata": {},
   "outputs": [
    {
     "data": {
      "text/plain": [
       "46.375"
      ]
     },
     "execution_count": 44,
     "metadata": {},
     "output_type": "execute_result"
    }
   ],
   "source": [
    "upside = q3 + (1.5 * IQR)\n",
    "upside"
   ]
  },
  {
   "cell_type": "code",
   "execution_count": 45,
   "id": "98326da1",
   "metadata": {},
   "outputs": [
    {
     "data": {
      "text/plain": [
       "5.375"
      ]
     },
     "execution_count": 45,
     "metadata": {},
     "output_type": "execute_result"
    }
   ],
   "source": [
    "lowside = q1 - (1.5 * IQR)\n",
    "lowside"
   ]
  },
  {
   "cell_type": "code",
   "execution_count": 46,
   "id": "39873f81",
   "metadata": {},
   "outputs": [],
   "source": [
    "from pandas.plotting import scatter_matrix"
   ]
  },
  {
   "cell_type": "code",
   "execution_count": 47,
   "id": "ce836a4c",
   "metadata": {},
   "outputs": [],
   "source": [
    "iris = sns.load_dataset('iris')"
   ]
  },
  {
   "cell_type": "code",
   "execution_count": 48,
   "id": "0e5da2a8",
   "metadata": {},
   "outputs": [
    {
     "data": {
      "text/html": [
       "<div>\n",
       "<style scoped>\n",
       "    .dataframe tbody tr th:only-of-type {\n",
       "        vertical-align: middle;\n",
       "    }\n",
       "\n",
       "    .dataframe tbody tr th {\n",
       "        vertical-align: top;\n",
       "    }\n",
       "\n",
       "    .dataframe thead th {\n",
       "        text-align: right;\n",
       "    }\n",
       "</style>\n",
       "<table border=\"1\" class=\"dataframe\">\n",
       "  <thead>\n",
       "    <tr style=\"text-align: right;\">\n",
       "      <th></th>\n",
       "      <th>sepal_length</th>\n",
       "      <th>sepal_width</th>\n",
       "      <th>petal_length</th>\n",
       "      <th>petal_width</th>\n",
       "      <th>species</th>\n",
       "    </tr>\n",
       "  </thead>\n",
       "  <tbody>\n",
       "    <tr>\n",
       "      <th>0</th>\n",
       "      <td>5.1</td>\n",
       "      <td>3.5</td>\n",
       "      <td>1.4</td>\n",
       "      <td>0.2</td>\n",
       "      <td>setosa</td>\n",
       "    </tr>\n",
       "    <tr>\n",
       "      <th>1</th>\n",
       "      <td>4.9</td>\n",
       "      <td>3.0</td>\n",
       "      <td>1.4</td>\n",
       "      <td>0.2</td>\n",
       "      <td>setosa</td>\n",
       "    </tr>\n",
       "    <tr>\n",
       "      <th>2</th>\n",
       "      <td>4.7</td>\n",
       "      <td>3.2</td>\n",
       "      <td>1.3</td>\n",
       "      <td>0.2</td>\n",
       "      <td>setosa</td>\n",
       "    </tr>\n",
       "    <tr>\n",
       "      <th>3</th>\n",
       "      <td>4.6</td>\n",
       "      <td>3.1</td>\n",
       "      <td>1.5</td>\n",
       "      <td>0.2</td>\n",
       "      <td>setosa</td>\n",
       "    </tr>\n",
       "    <tr>\n",
       "      <th>4</th>\n",
       "      <td>5.0</td>\n",
       "      <td>3.6</td>\n",
       "      <td>1.4</td>\n",
       "      <td>0.2</td>\n",
       "      <td>setosa</td>\n",
       "    </tr>\n",
       "  </tbody>\n",
       "</table>\n",
       "</div>"
      ],
      "text/plain": [
       "   sepal_length  sepal_width  petal_length  petal_width species\n",
       "0           5.1          3.5           1.4          0.2  setosa\n",
       "1           4.9          3.0           1.4          0.2  setosa\n",
       "2           4.7          3.2           1.3          0.2  setosa\n",
       "3           4.6          3.1           1.5          0.2  setosa\n",
       "4           5.0          3.6           1.4          0.2  setosa"
      ]
     },
     "execution_count": 48,
     "metadata": {},
     "output_type": "execute_result"
    }
   ],
   "source": [
    "iris.head()"
   ]
  },
  {
   "cell_type": "code",
   "execution_count": 49,
   "id": "4dcdcbea",
   "metadata": {},
   "outputs": [
    {
     "data": {
      "text/html": [
       "<div>\n",
       "<style scoped>\n",
       "    .dataframe tbody tr th:only-of-type {\n",
       "        vertical-align: middle;\n",
       "    }\n",
       "\n",
       "    .dataframe tbody tr th {\n",
       "        vertical-align: top;\n",
       "    }\n",
       "\n",
       "    .dataframe thead th {\n",
       "        text-align: right;\n",
       "    }\n",
       "</style>\n",
       "<table border=\"1\" class=\"dataframe\">\n",
       "  <thead>\n",
       "    <tr style=\"text-align: right;\">\n",
       "      <th></th>\n",
       "      <th>sepal_length</th>\n",
       "      <th>sepal_width</th>\n",
       "      <th>petal_length</th>\n",
       "      <th>petal_width</th>\n",
       "    </tr>\n",
       "  </thead>\n",
       "  <tbody>\n",
       "    <tr>\n",
       "      <th>0</th>\n",
       "      <td>5.1</td>\n",
       "      <td>3.5</td>\n",
       "      <td>1.4</td>\n",
       "      <td>0.2</td>\n",
       "    </tr>\n",
       "    <tr>\n",
       "      <th>1</th>\n",
       "      <td>4.9</td>\n",
       "      <td>3.0</td>\n",
       "      <td>1.4</td>\n",
       "      <td>0.2</td>\n",
       "    </tr>\n",
       "    <tr>\n",
       "      <th>2</th>\n",
       "      <td>4.7</td>\n",
       "      <td>3.2</td>\n",
       "      <td>1.3</td>\n",
       "      <td>0.2</td>\n",
       "    </tr>\n",
       "    <tr>\n",
       "      <th>3</th>\n",
       "      <td>4.6</td>\n",
       "      <td>3.1</td>\n",
       "      <td>1.5</td>\n",
       "      <td>0.2</td>\n",
       "    </tr>\n",
       "    <tr>\n",
       "      <th>4</th>\n",
       "      <td>5.0</td>\n",
       "      <td>3.6</td>\n",
       "      <td>1.4</td>\n",
       "      <td>0.2</td>\n",
       "    </tr>\n",
       "    <tr>\n",
       "      <th>...</th>\n",
       "      <td>...</td>\n",
       "      <td>...</td>\n",
       "      <td>...</td>\n",
       "      <td>...</td>\n",
       "    </tr>\n",
       "    <tr>\n",
       "      <th>145</th>\n",
       "      <td>6.7</td>\n",
       "      <td>3.0</td>\n",
       "      <td>5.2</td>\n",
       "      <td>2.3</td>\n",
       "    </tr>\n",
       "    <tr>\n",
       "      <th>146</th>\n",
       "      <td>6.3</td>\n",
       "      <td>2.5</td>\n",
       "      <td>5.0</td>\n",
       "      <td>1.9</td>\n",
       "    </tr>\n",
       "    <tr>\n",
       "      <th>147</th>\n",
       "      <td>6.5</td>\n",
       "      <td>3.0</td>\n",
       "      <td>5.2</td>\n",
       "      <td>2.0</td>\n",
       "    </tr>\n",
       "    <tr>\n",
       "      <th>148</th>\n",
       "      <td>6.2</td>\n",
       "      <td>3.4</td>\n",
       "      <td>5.4</td>\n",
       "      <td>2.3</td>\n",
       "    </tr>\n",
       "    <tr>\n",
       "      <th>149</th>\n",
       "      <td>5.9</td>\n",
       "      <td>3.0</td>\n",
       "      <td>5.1</td>\n",
       "      <td>1.8</td>\n",
       "    </tr>\n",
       "  </tbody>\n",
       "</table>\n",
       "<p>150 rows × 4 columns</p>\n",
       "</div>"
      ],
      "text/plain": [
       "     sepal_length  sepal_width  petal_length  petal_width\n",
       "0             5.1          3.5           1.4          0.2\n",
       "1             4.9          3.0           1.4          0.2\n",
       "2             4.7          3.2           1.3          0.2\n",
       "3             4.6          3.1           1.5          0.2\n",
       "4             5.0          3.6           1.4          0.2\n",
       "..            ...          ...           ...          ...\n",
       "145           6.7          3.0           5.2          2.3\n",
       "146           6.3          2.5           5.0          1.9\n",
       "147           6.5          3.0           5.2          2.0\n",
       "148           6.2          3.4           5.4          2.3\n",
       "149           5.9          3.0           5.1          1.8\n",
       "\n",
       "[150 rows x 4 columns]"
      ]
     },
     "execution_count": 49,
     "metadata": {},
     "output_type": "execute_result"
    }
   ],
   "source": [
    "df = iris.drop(['species'],axis=1)\n",
    "df"
   ]
  },
  {
   "cell_type": "code",
   "execution_count": 50,
   "id": "38490a62",
   "metadata": {},
   "outputs": [
    {
     "data": {
      "image/png": "[encoded data removed]",
      "text/plain": [
       "<Figure size 360x432 with 16 Axes>"
      ]
     },
     "metadata": {
      "needs_background": "light"
     },
     "output_type": "display_data"
    }
   ],
   "source": [
    "scatter_matrix(df,figsize=(5,6),color='r')\n",
    "plt.show()"
   ]
  },
  {
   "cell_type": "code",
   "execution_count": 51,
   "id": "dc474659",
   "metadata": {},
   "outputs": [
    {
     "data": {
      "text/plain": [
       "sepal_length    5.1\n",
       "sepal_width     3.5\n",
       "petal_length    1.4\n",
       "petal_width     0.2\n",
       "Name: 0, dtype: float64"
      ]
     },
     "execution_count": 51,
     "metadata": {},
     "output_type": "execute_result"
    }
   ],
   "source": [
    "d = df.iloc[0]\n",
    "d"
   ]
  },
  {
   "cell_type": "code",
   "execution_count": 53,
   "id": "711ba5d7",
   "metadata": {},
   "outputs": [
    {
     "data": {
      "text/plain": [
       "<AxesSubplot:ylabel='0'>"
      ]
     },
     "execution_count": 53,
     "metadata": {},
     "output_type": "execute_result"
    },
    {
     "data": {
      "image/png": "[encoded data removed]",
      "text/plain": [
       "<Figure size 576x576 with 1 Axes>"
      ]
     },
     "metadata": {},
     "output_type": "display_data"
    }
   ],
   "source": [
    "d.plot.pie(figsize=(8,8))"
   ]
  },
  {
   "cell_type": "code",
   "execution_count": 55,
   "id": "a085704b",
   "metadata": {},
   "outputs": [
    {
     "data": {
      "text/html": [
       "<div>\n",
       "<style scoped>\n",
       "    .dataframe tbody tr th:only-of-type {\n",
       "        vertical-align: middle;\n",
       "    }\n",
       "\n",
       "    .dataframe tbody tr th {\n",
       "        vertical-align: top;\n",
       "    }\n",
       "\n",
       "    .dataframe thead th {\n",
       "        text-align: right;\n",
       "    }\n",
       "</style>\n",
       "<table border=\"1\" class=\"dataframe\">\n",
       "  <thead>\n",
       "    <tr style=\"text-align: right;\">\n",
       "      <th></th>\n",
       "      <th>0</th>\n",
       "      <th>1</th>\n",
       "      <th>2</th>\n",
       "    </tr>\n",
       "  </thead>\n",
       "  <tbody>\n",
       "    <tr>\n",
       "      <th>sepal_length</th>\n",
       "      <td>5.1</td>\n",
       "      <td>4.9</td>\n",
       "      <td>4.7</td>\n",
       "    </tr>\n",
       "    <tr>\n",
       "      <th>sepal_width</th>\n",
       "      <td>3.5</td>\n",
       "      <td>3.0</td>\n",
       "      <td>3.2</td>\n",
       "    </tr>\n",
       "    <tr>\n",
       "      <th>petal_length</th>\n",
       "      <td>1.4</td>\n",
       "      <td>1.4</td>\n",
       "      <td>1.3</td>\n",
       "    </tr>\n",
       "    <tr>\n",
       "      <th>petal_width</th>\n",
       "      <td>0.2</td>\n",
       "      <td>0.2</td>\n",
       "      <td>0.2</td>\n",
       "    </tr>\n",
       "  </tbody>\n",
       "</table>\n",
       "</div>"
      ],
      "text/plain": [
       "                0    1    2\n",
       "sepal_length  5.1  4.9  4.7\n",
       "sepal_width   3.5  3.0  3.2\n",
       "petal_length  1.4  1.4  1.3\n",
       "petal_width   0.2  0.2  0.2"
      ]
     },
     "execution_count": 55,
     "metadata": {},
     "output_type": "execute_result"
    }
   ],
   "source": [
    "d = df.head(3).T\n",
    "d"
   ]
  },
  {
   "cell_type": "code",
   "execution_count": 57,
   "id": "d03244ea",
   "metadata": {},
   "outputs": [
    {
     "data": {
      "text/plain": [
       "array([<AxesSubplot:ylabel='0'>, <AxesSubplot:ylabel='1'>,\n",
       "       <AxesSubplot:ylabel='2'>], dtype=object)"
      ]
     },
     "execution_count": 57,
     "metadata": {},
     "output_type": "execute_result"
    },
    {
     "data": {
      "image/png": "[encoded data removed]",
      "text/plain": [
       "<Figure size 1440x1440 with 3 Axes>"
      ]
     },
     "metadata": {},
     "output_type": "display_data"
    }
   ],
   "source": [
    "d.plot.pie(figsize=(20,20),subplots=True,autopct='%.2f')"
   ]
  },
  {
   "cell_type": "code",
   "execution_count": 58,
   "id": "5fa0c962",
   "metadata": {},
   "outputs": [],
   "source": [
    "import pandas as pd\n",
    "import numpy as np\n",
    "import matplotlib.pyplot as plt\n",
    "import seaborn as sns\n",
    "#matplotlib inline"
   ]
  },
  {
   "cell_type": "code",
   "execution_count": 3,
   "id": "3207cfd9",
   "metadata": {},
   "outputs": [
    {
     "data": {
      "text/html": [
       "<div>\n",
       "<style scoped>\n",
       "    .dataframe tbody tr th:only-of-type {\n",
       "        vertical-align: middle;\n",
       "    }\n",
       "\n",
       "    .dataframe tbody tr th {\n",
       "        vertical-align: top;\n",
       "    }\n",
       "\n",
       "    .dataframe thead th {\n",
       "        text-align: right;\n",
       "    }\n",
       "</style>\n",
       "<table border=\"1\" class=\"dataframe\">\n",
       "  <thead>\n",
       "    <tr style=\"text-align: right;\">\n",
       "      <th></th>\n",
       "      <th>total_bill</th>\n",
       "      <th>tip</th>\n",
       "      <th>sex</th>\n",
       "      <th>smoker</th>\n",
       "      <th>day</th>\n",
       "      <th>time</th>\n",
       "      <th>size</th>\n",
       "    </tr>\n",
       "  </thead>\n",
       "  <tbody>\n",
       "    <tr>\n",
       "      <th>239</th>\n",
       "      <td>29.03</td>\n",
       "      <td>5.92</td>\n",
       "      <td>Male</td>\n",
       "      <td>No</td>\n",
       "      <td>Sat</td>\n",
       "      <td>Dinner</td>\n",
       "      <td>3</td>\n",
       "    </tr>\n",
       "    <tr>\n",
       "      <th>240</th>\n",
       "      <td>27.18</td>\n",
       "      <td>2.00</td>\n",
       "      <td>Female</td>\n",
       "      <td>Yes</td>\n",
       "      <td>Sat</td>\n",
       "      <td>Dinner</td>\n",
       "      <td>2</td>\n",
       "    </tr>\n",
       "    <tr>\n",
       "      <th>241</th>\n",
       "      <td>22.67</td>\n",
       "      <td>2.00</td>\n",
       "      <td>Male</td>\n",
       "      <td>Yes</td>\n",
       "      <td>Sat</td>\n",
       "      <td>Dinner</td>\n",
       "      <td>2</td>\n",
       "    </tr>\n",
       "    <tr>\n",
       "      <th>242</th>\n",
       "      <td>17.82</td>\n",
       "      <td>1.75</td>\n",
       "      <td>Male</td>\n",
       "      <td>No</td>\n",
       "      <td>Sat</td>\n",
       "      <td>Dinner</td>\n",
       "      <td>2</td>\n",
       "    </tr>\n",
       "    <tr>\n",
       "      <th>243</th>\n",
       "      <td>18.78</td>\n",
       "      <td>3.00</td>\n",
       "      <td>Female</td>\n",
       "      <td>No</td>\n",
       "      <td>Thur</td>\n",
       "      <td>Dinner</td>\n",
       "      <td>2</td>\n",
       "    </tr>\n",
       "  </tbody>\n",
       "</table>\n",
       "</div>"
      ],
      "text/plain": [
       "     total_bill   tip     sex smoker   day    time  size\n",
       "239       29.03  5.92    Male     No   Sat  Dinner     3\n",
       "240       27.18  2.00  Female    Yes   Sat  Dinner     2\n",
       "241       22.67  2.00    Male    Yes   Sat  Dinner     2\n",
       "242       17.82  1.75    Male     No   Sat  Dinner     2\n",
       "243       18.78  3.00  Female     No  Thur  Dinner     2"
      ]
     },
     "execution_count": 3,
     "metadata": {},
     "output_type": "execute_result"
    }
   ],
   "source": [
    "tip = sns.load_dataset('tips')\n",
    "tip.tail()"
   ]
  },
  {
   "cell_type": "code",
   "execution_count": 60,
   "id": "3f9923fd",
   "metadata": {},
   "outputs": [
    {
     "data": {
      "text/plain": [
       "<seaborn.axisgrid.FacetGrid at 0xe4cc60e1f0>"
      ]
     },
     "execution_count": 60,
     "metadata": {},
     "output_type": "execute_result"
    },
    {
     "data": {
      "image/png": "[encoded data removed]",
      "text/plain": [
       "<Figure size 360x360 with 1 Axes>"
      ]
     },
     "metadata": {
      "needs_background": "light"
     },
     "output_type": "display_data"
    }
   ],
   "source": [
    "sns.relplot(x='total_bill',y='tip',data=tip)"
   ]
  },
  {
   "cell_type": "code",
   "execution_count": 62,
   "id": "c9dfc2c4",
   "metadata": {},
   "outputs": [
    {
     "data": {
      "text/plain": [
       "No     151\n",
       "Yes     93\n",
       "Name: smoker, dtype: int64"
      ]
     },
     "execution_count": 62,
     "metadata": {},
     "output_type": "execute_result"
    }
   ],
   "source": [
    "tip['smoker'].value_counts()"
   ]
  },
  {
   "cell_type": "code",
   "execution_count": 63,
   "id": "227a432c",
   "metadata": {},
   "outputs": [
    {
     "data": {
      "text/plain": [
       "<seaborn.axisgrid.FacetGrid at 0xe4cc3a55e0>"
      ]
     },
     "execution_count": 63,
     "metadata": {},
     "output_type": "execute_result"
    },
    {
     "data": {
      "image/png": "[encoded data removed]",
      "text/plain": [
       "<Figure size 429.625x360 with 1 Axes>"
      ]
     },
     "metadata": {
      "needs_background": "light"
     },
     "output_type": "display_data"
    }
   ],
   "source": [
    "sns.relplot(x='total_bill',y='tip',data=tip,hue='smoker',style='time')"
   ]
  },
  {
   "cell_type": "code",
   "execution_count": 64,
   "id": "b411eb0a",
   "metadata": {},
   "outputs": [
    {
     "data": {
      "text/plain": [
       "<AxesSubplot:xlabel='total_bill', ylabel='tip'>"
      ]
     },
     "execution_count": 64,
     "metadata": {},
     "output_type": "execute_result"
    },
    {
     "data": {
      "image/png": "[encoded data removed]",
      "text/plain": [
       "<Figure size 432x288 with 1 Axes>"
      ]
     },
     "metadata": {
      "needs_background": "light"
     },
     "output_type": "display_data"
    }
   ],
   "source": [
    "sns.scatterplot(x='total_bill',y='tip',data=tip,size='size')"
   ]
  },
  {
   "cell_type": "code",
   "execution_count": 65,
   "id": "977bed8d",
   "metadata": {},
   "outputs": [
    {
     "data": {
      "text/plain": [
       "<AxesSubplot:xlabel='total_bill', ylabel='tip'>"
      ]
     },
     "execution_count": 65,
     "metadata": {},
     "output_type": "execute_result"
    },
    {
     "data": {
      "image/png": "[encoded data removed]",
      "text/plain": [
       "<Figure size 432x288 with 1 Axes>"
      ]
     },
     "metadata": {
      "needs_background": "light"
     },
     "output_type": "display_data"
    }
   ],
   "source": [
    "sns.lineplot(x='total_bill',y='tip',data=tip)"
   ]
  },
  {
   "cell_type": "code",
   "execution_count": 4,
   "id": "04e49897",
   "metadata": {},
   "outputs": [
    {
     "data": {
      "text/plain": [
       "<seaborn.axisgrid.FacetGrid at 0x6992676430>"
      ]
     },
     "execution_count": 4,
     "metadata": {},
     "output_type": "execute_result"
    },
    {
     "data": {
      "image/png": "[encoded data removed]",
      "text/plain": [
       "<Figure size 360x360 with 1 Axes>"
      ]
     },
     "metadata": {
      "needs_background": "light"
     },
     "output_type": "display_data"
    }
   ],
   "source": [
    "sns.catplot(x='day',y='total_bill',data=tip)"
   ]
  },
  {
   "cell_type": "code",
   "execution_count": 5,
   "id": "54dc62b8",
   "metadata": {},
   "outputs": [
    {
     "data": {
      "text/plain": [
       "<AxesSubplot:xlabel='day', ylabel='total_bill'>"
      ]
     },
     "execution_count": 5,
     "metadata": {},
     "output_type": "execute_result"
    },
    {
     "data": {
      "image/png": "[encoded data removed]",
      "text/plain": [
       "<Figure size 432x288 with 1 Axes>"
      ]
     },
     "metadata": {
      "needs_background": "light"
     },
     "output_type": "display_data"
    }
   ],
   "source": [
    "sns.swarmplot(x='day',y='total_bill',data=tip)"
   ]
  },
  {
   "cell_type": "code",
   "execution_count": 6,
   "id": "b2c8bd04",
   "metadata": {},
   "outputs": [
    {
     "data": {
      "text/plain": [
       "<seaborn.axisgrid.FacetGrid at 0x699a1f8040>"
      ]
     },
     "execution_count": 6,
     "metadata": {},
     "output_type": "execute_result"
    },
    {
     "data": {
      "image/png": "[encoded data removed]",
      "text/plain": [
       "<Figure size 402.375x360 with 1 Axes>"
      ]
     },
     "metadata": {
      "needs_background": "light"
     },
     "output_type": "display_data"
    }
   ],
   "source": [
    "sns.catplot(x='day',y='total_bill',data=tip,kind='swarm',hue='size')"
   ]
  },
  {
   "cell_type": "code",
   "execution_count": 8,
   "id": "b5366e24",
   "metadata": {},
   "outputs": [
    {
     "data": {
      "text/plain": [
       "<AxesSubplot:xlabel='size', ylabel='total_bill'>"
      ]
     },
     "execution_count": 8,
     "metadata": {},
     "output_type": "execute_result"
    },
    {
     "data": {
      "image/png": "[encoded data removed]",
      "text/plain": [
       "<Figure size 432x288 with 1 Axes>"
      ]
     },
     "metadata": {
      "needs_background": "light"
     },
     "output_type": "display_data"
    }
   ],
   "source": [
    "sns.stripplot(x='size',y='total_bill',data=tip)"
   ]
  },
  {
   "cell_type": "code",
   "execution_count": 9,
   "id": "9f4b3562",
   "metadata": {},
   "outputs": [
    {
     "data": {
      "text/plain": [
       "<AxesSubplot:xlabel='smoker', ylabel='total_bill'>"
      ]
     },
     "execution_count": 9,
     "metadata": {},
     "output_type": "execute_result"
    },
    {
     "data": {
      "image/png": "[encoded data removed]",
      "text/plain": [
       "<Figure size 432x288 with 1 Axes>"
      ]
     },
     "metadata": {
      "needs_background": "light"
     },
     "output_type": "display_data"
    }
   ],
   "source": [
    "sns.stripplot(x='smoker',y='total_bill',data=tip)"
   ]
  },
  {
   "cell_type": "code",
   "execution_count": 10,
   "id": "c27c0040",
   "metadata": {},
   "outputs": [],
   "source": [
    "from numpy.random import randn"
   ]
  },
  {
   "cell_type": "code",
   "execution_count": 12,
   "id": "73abb1fd",
   "metadata": {},
   "outputs": [
    {
     "data": {
      "text/plain": [
       "array([ 5.87425813e-01,  1.56954370e-01,  1.08420168e-02,  2.38629787e-01,\n",
       "        8.87057166e-01,  1.35228331e+00,  2.10253673e-01,  2.56434065e-01,\n",
       "        9.10158410e-01,  1.00683030e-01, -1.95808852e-01,  6.14979930e-01,\n",
       "       -2.37059538e-01,  5.48215540e-01, -1.04087812e+00,  1.75541260e+00,\n",
       "        7.30325806e-01, -4.53170581e-01, -1.49487126e-01, -1.06947728e+00,\n",
       "        2.09333394e-01,  7.58866269e-01, -6.09454247e-01, -2.88296187e+00,\n",
       "        2.44338284e-01, -1.25558518e+00, -5.29720594e-01,  1.30593723e-01,\n",
       "       -1.01007678e+00, -1.21172687e+00,  1.78501928e-01, -5.70551588e-01,\n",
       "       -7.26760276e-01,  1.52210392e-01, -1.02439815e+00,  7.71220504e-02,\n",
       "        6.28546312e-01, -2.21615419e+00, -1.95715064e+00, -7.78731518e-02,\n",
       "       -7.59309085e-01, -9.74243800e-01,  2.24955325e-02, -1.89443371e+00,\n",
       "       -3.33536625e-02,  1.21542385e-01, -2.79905241e-01, -1.89623339e-01,\n",
       "        1.98190084e-01,  4.81458092e-01,  3.81099634e-01, -1.48089772e+00,\n",
       "        1.65234539e+00,  3.79160905e-01, -2.31138221e-01, -5.02842142e-01,\n",
       "        1.58196919e+00, -1.06755815e+00,  8.17598263e-02, -3.59528501e-01,\n",
       "        6.40362726e-01, -5.19125606e-01,  7.93151264e-01,  1.25390772e-01,\n",
       "       -8.15074907e-01, -1.96378833e-01,  9.90624890e-01,  1.11962562e+00,\n",
       "       -9.06074177e-01,  2.95305721e-01, -1.70052949e+00, -5.76988522e-01,\n",
       "       -1.62621954e+00, -1.24919486e+00, -9.29640895e-01, -2.13427205e+00,\n",
       "       -9.92777805e-01,  6.87575836e-01, -1.68510539e+00,  5.38599462e-01,\n",
       "        9.93667561e-01,  3.21138354e-01, -3.43619976e-02, -1.78660773e+00,\n",
       "        1.42228619e+00, -2.63872475e-01, -7.44925427e-02, -1.99846458e+00,\n",
       "        1.14600179e-01,  4.79949166e-01,  2.27527620e-01,  1.76789064e+00,\n",
       "        1.90373531e+00, -1.86561056e+00, -5.54097532e-01,  1.64739901e+00,\n",
       "       -1.78532011e+00,  6.07210475e-01, -3.82977745e-01,  6.54815607e-01,\n",
       "        6.90523419e-01, -1.27533829e+00,  2.05521604e+00,  4.42861516e-01,\n",
       "        2.93981454e-01, -8.19535505e-01, -8.39122497e-01,  1.22736619e+00,\n",
       "       -3.00034275e-01, -1.12151962e+00,  2.83293107e-01, -4.98034413e-01,\n",
       "       -4.70444387e-01,  5.13894491e-01,  1.10157461e+00,  1.91857070e+00,\n",
       "        1.02655058e+00,  1.17893275e+00, -1.69503113e+00,  6.39779808e-01,\n",
       "       -1.26305527e+00,  3.55311638e-01, -3.30595791e-01, -4.81761002e-02,\n",
       "        2.00515996e+00, -5.87557669e-01,  3.48632998e-01, -1.31821707e+00,\n",
       "       -7.03587372e-01,  1.14198554e+00, -1.06348247e+00,  2.94066148e-01,\n",
       "        3.31281639e-01, -3.09381641e+00, -1.00560641e+00,  2.61815731e-01,\n",
       "       -2.97291684e-02, -7.44349002e-01, -1.52828151e+00, -8.55784966e-01,\n",
       "        4.03770265e-01, -6.30002603e-01, -2.04421985e+00, -6.51161238e-01,\n",
       "        9.99662214e-01, -7.13707160e-01, -1.15439041e+00, -1.19450758e-01,\n",
       "        1.29958139e+00, -9.26809584e-02,  3.78672435e-01, -7.10861544e-01,\n",
       "       -1.45609414e+00,  6.99840671e-02,  2.43096087e+00, -4.16961022e-02,\n",
       "        1.04689596e+00, -9.86057623e-01,  3.95176440e-01, -5.03817883e-01,\n",
       "       -2.64013185e-01, -9.92649682e-02, -5.34931931e-01, -6.45933017e-01,\n",
       "       -1.08610737e+00,  1.46698101e+00,  1.46752845e+00,  3.70778678e-01,\n",
       "        3.73402885e-01,  1.83615310e-01, -8.36493538e-01,  1.18308390e+00,\n",
       "        5.96411918e-01,  1.39837551e+00,  9.42656301e-01, -1.27247516e+00,\n",
       "       -6.59240119e-01, -1.88666686e-01, -1.39947472e+00, -3.44437200e-01,\n",
       "       -2.40566075e-01, -1.28356803e-01, -6.63294161e-01, -3.51016556e-01,\n",
       "       -1.81124520e+00, -1.31776059e+00, -9.83231314e-01,  4.06388579e-02,\n",
       "        7.32849842e-01, -7.93845506e-03, -1.10042659e-01,  8.94667886e-01,\n",
       "        4.58388175e-01,  9.61705087e-02,  2.86487836e-01, -3.89601699e-01,\n",
       "       -1.16105974e-01,  8.98634018e-01, -1.56299762e-01, -2.31867032e-01,\n",
       "        1.33050714e+00,  1.58773324e-01, -7.47585866e-03, -4.49557723e-01,\n",
       "        4.18214151e-01,  1.15608538e+00, -1.26477669e+00, -1.18153033e+00,\n",
       "        4.83036521e-01,  1.11397940e+00, -1.93143943e+00, -5.76350424e-01,\n",
       "       -9.92694715e-02,  7.47638949e-01, -9.69802805e-01,  1.07377116e+00,\n",
       "        1.00033159e+00, -1.13317839e+00,  4.11217068e-02,  1.45303441e+00,\n",
       "       -1.32406537e+00,  9.95230946e-02, -6.89767860e-01, -1.70720268e-01,\n",
       "        6.19066757e-01, -1.93016428e+00, -1.28379511e+00,  1.85774198e+00,\n",
       "        1.55429607e+00,  1.20588904e+00,  1.88994207e+00, -1.36618415e+00,\n",
       "       -7.21893790e-01,  3.85923668e-01, -2.84906554e-02,  6.30912779e-01,\n",
       "        1.71283386e-01, -3.86826700e-01,  9.44035745e-01,  1.84944408e+00,\n",
       "       -6.73572235e-02, -1.99207026e+00,  1.57705798e+00, -1.66617940e+00,\n",
       "        1.90880170e+00, -5.46112581e-01,  1.17543853e-01, -1.40527176e+00,\n",
       "        1.23579213e+00, -4.28028292e-01, -4.06531913e-01,  1.96637701e-01,\n",
       "       -1.14844510e+00, -3.21682730e-01, -8.44343477e-01, -7.34192745e-01,\n",
       "       -2.24068103e-01, -1.24112253e+00, -1.34002110e-01, -5.28241302e-01,\n",
       "        1.66988056e+00, -1.49401258e+00,  7.63625912e-01, -1.41070226e+00,\n",
       "        1.29844936e+00, -5.59454608e-02,  1.17003973e+00, -5.59117450e-01,\n",
       "       -1.65692205e+00, -8.66810099e-02,  4.79862264e-02, -1.33600471e-02,\n",
       "        3.22280648e-01, -1.24517600e+00, -4.28189584e-01, -1.69981357e-01,\n",
       "        2.36754780e+00, -1.53184938e-01,  8.47617766e-01,  9.78423906e-01,\n",
       "       -5.86388983e-01,  3.75058260e-01, -9.66964247e-01,  4.10223179e-01,\n",
       "        8.90498615e-01, -5.45568496e-01,  1.72811537e-01,  6.24953934e-02,\n",
       "       -1.23854831e+00,  3.51250365e-01, -1.49088555e+00,  8.19795680e-01,\n",
       "        4.87152660e-01,  8.88153094e-01,  2.14184973e+00,  3.55932228e-02,\n",
       "       -4.11258203e-02, -5.64954104e-01, -1.78050307e+00, -1.97738693e+00,\n",
       "        3.59508234e-01,  1.05771981e+00,  3.42172125e-01,  5.68793824e-01,\n",
       "       -3.42661339e-01,  8.60647427e-01, -3.17098641e+00, -8.83557843e-03,\n",
       "       -1.61978540e+00, -5.60924809e-01,  1.14158073e+00, -2.45650450e-01,\n",
       "        9.70819941e-01, -5.76623900e-01,  1.09437689e+00, -6.22479586e-01,\n",
       "        2.13494022e+00,  4.84402988e-01, -1.74953172e+00,  3.36768025e-01,\n",
       "        2.31139660e-02,  6.06287003e-01, -7.85162220e-02,  1.52089715e+00,\n",
       "       -3.93345432e-01, -7.43559629e-01, -1.81419003e-01,  5.07694810e-01,\n",
       "       -5.70433029e-02, -1.04689394e+00, -7.69819260e-01,  3.21374481e-01,\n",
       "        1.08909776e+00,  3.72390332e-01,  1.67910814e+00,  8.45217313e-01,\n",
       "        8.80876501e-02,  1.18782407e+00,  1.78700638e-01,  3.89712770e-01,\n",
       "       -2.10512448e+00, -6.93623816e-01,  3.09063619e-01, -7.94655637e-01,\n",
       "       -1.31425462e+00, -1.44463865e+00,  2.12768700e-01, -5.88277152e-01,\n",
       "       -8.17430241e-02,  3.44012320e-01,  1.23115825e+00, -5.34539466e-01,\n",
       "        3.48695329e-01, -3.56358998e-01, -3.55851481e-01, -7.04403425e-01,\n",
       "        8.66126396e-01, -1.40570696e-01,  1.56175731e-01, -2.00758065e-01,\n",
       "       -1.76140256e+00,  5.17854756e-01,  2.09207471e-01,  8.12917012e-01,\n",
       "        3.44002588e-01,  9.96826140e-01, -9.84139502e-01, -2.20418987e-01,\n",
       "       -9.64504580e-01, -5.84114848e-01, -2.67764707e-02,  1.21215486e+00,\n",
       "       -5.73642538e-02, -2.03652178e-01, -5.32652446e-01,  2.73583667e-01,\n",
       "        7.04776111e-02,  7.75955280e-01,  1.90724926e+00, -1.60438490e+00,\n",
       "        1.95556195e+00, -1.19321443e+00,  6.02608060e-01, -1.74710196e+00,\n",
       "        1.99603346e+00,  2.86701758e-01,  2.24302994e+00, -4.53642657e-01,\n",
       "       -6.19990029e-01,  8.87315265e-01,  3.07755767e-01, -2.18183658e-01,\n",
       "       -8.63022374e-01,  4.84613608e-01,  8.67509935e-01,  2.05234401e-01,\n",
       "       -1.41997894e-01, -6.84571875e-01, -6.77483578e-01, -1.08651277e-02,\n",
       "        1.71589476e+00,  1.05971313e+00, -3.33180662e-01,  4.69131694e-01,\n",
       "        2.60998537e-01,  8.79791164e-01,  1.17816810e+00, -1.18261626e-01,\n",
       "       -8.52714077e-01,  8.08109262e-01,  1.06582144e-01, -5.91748208e-01,\n",
       "       -5.31849154e-01,  7.37902598e-01,  1.56633061e-01, -1.73277987e+00,\n",
       "       -1.26702137e+00, -2.17997182e-01, -3.70986797e-01,  6.62783987e-01,\n",
       "       -1.71090723e+00, -2.46422531e-01,  1.17319172e+00,  1.33121372e+00,\n",
       "        4.34034730e-01, -7.72722777e-01, -1.05216541e+00,  1.00376298e+00,\n",
       "        7.42481464e-01,  7.50845624e-01, -5.53563854e-01, -2.26077853e+00,\n",
       "       -1.12241152e+00, -1.05184091e+00, -2.03249690e-02, -2.09233370e+00,\n",
       "       -9.24438075e-01, -8.63476293e-01, -6.38916322e-01, -2.27167632e+00,\n",
       "       -8.79345667e-01,  3.66716912e-01, -4.26310966e-01, -6.72140654e-01,\n",
       "       -1.29462531e+00,  9.97237531e-01,  1.91906518e+00,  1.32570775e+00,\n",
       "       -2.56888234e-01,  5.98774320e-01,  6.94799992e-01, -9.63318729e-01,\n",
       "        7.25616610e-01, -9.98858972e-01,  3.15518378e-01,  9.48994243e-01,\n",
       "       -3.61542680e-01,  7.44441711e-02,  4.14005743e-01, -1.31935499e+00,\n",
       "       -1.79606595e-01, -5.73082569e-01, -1.07704562e+00, -5.89408793e-02,\n",
       "        8.79921843e-01, -8.06124342e-02, -6.52802017e-01, -3.49638205e-01,\n",
       "        9.36381518e-01, -9.27787936e-01,  2.33320809e-01,  1.19903173e+00,\n",
       "       -3.59234901e-01, -4.12578113e-01, -1.04369756e-01,  9.36628958e-01,\n",
       "       -2.28653103e-01,  5.75729807e-01,  4.34035809e-01, -8.02964248e-02,\n",
       "        4.13776029e-01, -8.84628586e-01, -9.81067853e-01, -4.84264223e-01,\n",
       "        4.31476499e-02, -7.94549297e-01, -1.03781776e+00, -2.01535435e+00,\n",
       "        4.25313295e-01, -4.65031621e-01,  1.54116646e+00,  2.37963432e-01,\n",
       "       -9.66534405e-02,  1.77338723e-01,  3.40910241e-01,  3.85734252e-01,\n",
       "       -8.85738124e-01,  7.44868515e-01, -7.74550471e-02, -6.93249249e-01,\n",
       "       -5.40385543e-01,  4.55242141e-01, -2.39823572e+00, -1.07396517e-01,\n",
       "        5.70358956e-01,  5.40593266e-01, -1.00664144e+00,  1.18551617e+00,\n",
       "       -6.19389045e-01,  7.80390489e-01,  7.29787082e-01,  1.35849140e+00,\n",
       "       -1.17935981e+00,  7.64253472e-02, -7.39506129e-01,  5.41834927e-01,\n",
       "       -9.37871153e-02, -1.01177719e+00,  6.09247839e-01, -1.42900409e-01,\n",
       "        5.61234006e-02, -1.80084265e+00,  2.69282798e+00, -1.82019566e+00,\n",
       "       -8.52346461e-01,  3.07205348e-01,  1.02373496e+00, -1.03853573e+00,\n",
       "       -9.00813243e-01,  8.33516301e-01, -6.50561105e-01, -4.29214465e-01,\n",
       "       -7.05482266e-01,  4.11000392e-01, -2.23480636e+00, -9.34797864e-01,\n",
       "        1.51214171e+00,  2.99687273e-01, -4.44171125e-01,  8.34273967e-01,\n",
       "        1.58981414e+00,  1.92462932e+00,  1.03466187e+00, -1.10718563e+00,\n",
       "        1.22785785e+00, -1.83000368e+00, -1.50618781e+00,  1.65078502e+00,\n",
       "        8.59977142e-01,  5.10835462e-01, -1.66222516e-01, -1.20614790e+00,\n",
       "        2.06995987e+00, -1.50615993e+00,  1.33089169e+00,  9.56447784e-01,\n",
       "       -8.15657260e-01,  1.79362524e+00,  5.06851782e-01, -4.86551228e-01,\n",
       "       -1.82886611e+00,  3.20824865e-01,  1.34182416e+00, -1.64390368e+00,\n",
       "        2.82550112e-01,  1.69176085e+00, -1.10110913e+00, -8.24903546e-01,\n",
       "        5.62546378e-01,  3.95259439e-01,  9.77195680e-01, -1.22606725e-01,\n",
       "       -1.74839872e+00,  6.75905192e-01, -1.25367066e+00, -2.06356065e+00,\n",
       "        2.72880710e-02, -3.10731531e-02, -2.30581589e+00, -1.48957733e+00,\n",
       "       -1.45171465e+00,  5.85599664e-01, -1.22644664e+00,  1.07336377e+00,\n",
       "       -7.22065613e-01, -2.46672802e-01,  9.33917306e-01,  8.55870413e-01,\n",
       "       -1.14227172e-01,  1.40666611e-02,  2.36290353e-01, -1.24480022e-01,\n",
       "        2.99864897e-01,  4.91002194e-01,  9.98861832e-01,  1.75295241e-01,\n",
       "       -1.07717802e-01,  3.26522567e-01,  1.01952323e+00,  2.93461269e-01,\n",
       "        7.07087540e-01, -1.91708546e+00,  6.53533803e-01, -1.52960743e+00,\n",
       "        1.47498020e-01,  1.26703716e-01, -2.21702571e+00, -4.56547889e-01,\n",
       "        7.80689851e-01,  6.61405851e-01, -1.57875977e+00,  2.10789895e-01,\n",
       "       -6.82549799e-01, -3.50535756e-01,  1.04569118e-01, -5.23770607e-01,\n",
       "       -1.32657750e-01,  1.08198231e+00, -1.47363726e+00, -6.85693076e-01,\n",
       "        2.09673766e+00,  3.53757584e-01, -7.28660339e-01,  5.35621880e-03,\n",
       "        1.42051875e-01, -3.82211810e-01,  9.97741923e-01,  2.04288311e-01,\n",
       "        1.48451504e+00,  6.64880780e-01,  1.31867490e+00,  8.33671901e-02,\n",
       "        1.01984911e-02,  6.29133054e-01,  6.72933179e-02,  4.26617149e-01,\n",
       "       -7.94228297e-01, -5.97849510e-01, -1.24026544e+00, -7.38496160e-01,\n",
       "       -1.71454082e+00, -5.66217334e-01,  8.36382802e-01,  5.88591515e-01,\n",
       "       -1.04302687e+00, -6.81816622e-02,  9.86293178e-01,  2.92754207e-01,\n",
       "        5.31694112e-01,  1.93029854e+00,  6.56669772e-01, -1.56736538e+00,\n",
       "        1.30945936e-02,  1.05727122e+00, -1.59589518e-01, -4.88894684e-01,\n",
       "        1.46161994e+00, -1.03605840e+00, -1.20142643e+00, -3.48999615e-01,\n",
       "       -1.77847100e-01,  2.04732938e-01,  2.31526491e+00, -1.54836029e+00,\n",
       "       -6.77127482e-01,  1.35964844e+00,  1.49703562e+00,  3.15995120e-01,\n",
       "        7.00831440e-01,  5.94109904e-02,  8.19604560e-01, -3.24652207e-01,\n",
       "       -1.55327906e-01, -9.43743375e-01, -1.28130440e+00, -5.32218176e-01,\n",
       "       -1.42320969e+00,  1.07706976e-01, -1.25124765e-01, -7.86407610e-01,\n",
       "        5.25573018e-01, -5.42645449e-01,  1.24349111e+00, -3.53756235e-01,\n",
       "       -2.61143208e-01,  3.70576638e-02, -1.49168616e+00, -1.76255171e+00,\n",
       "        5.63889662e-01, -4.20218969e-01,  3.98391027e-01, -4.34324183e-01,\n",
       "       -1.04799103e+00,  1.04720453e-02, -6.94175582e-01,  9.77695701e-01,\n",
       "       -5.68048747e-01, -7.24717058e-01,  2.40336673e-01, -7.07568237e-02,\n",
       "        7.06978885e-01, -5.03691444e-01, -1.49720151e-01, -1.30488344e+00,\n",
       "        6.67590717e-01,  3.27328101e-01,  2.12516759e-01,  1.10644549e-01,\n",
       "       -2.06789781e+00, -8.68495230e-01,  1.50013867e-01,  1.04091529e+00,\n",
       "        8.43058911e-01, -2.12184775e+00, -3.63630618e-01, -1.20140338e-01,\n",
       "       -1.33143466e+00, -2.79429097e-01,  1.73080137e+00,  1.43971957e+00,\n",
       "       -1.36128659e-01,  7.83266057e-01, -1.18673627e+00, -4.49433904e-01,\n",
       "       -1.54477203e+00, -1.65074294e-01,  7.52843710e-01,  1.01010717e-01,\n",
       "       -6.22653494e-01,  3.87566462e-01, -8.39286214e-01, -4.56629402e-01,\n",
       "       -1.83795205e-01,  2.05370252e+00, -6.42802544e-01,  6.72830671e-01,\n",
       "       -5.18991519e-01,  2.21227554e+00,  5.38321468e-01, -3.67796304e-02,\n",
       "        6.48229875e-01, -6.55950609e-01, -1.09593518e-01,  7.51530463e-01,\n",
       "        7.80451079e-01,  7.09041395e-01,  9.64115505e-01, -5.97205110e-01,\n",
       "       -7.58372137e-01,  3.16036277e-01, -9.39663496e-01, -1.43399588e+00,\n",
       "        1.28033020e+00,  3.15150711e-02,  2.54867532e-01,  4.05193332e-01,\n",
       "       -1.12467208e+00,  7.99956147e-01,  1.12817574e-01,  2.06968395e-01,\n",
       "        9.87353158e-01,  1.00224738e-01, -2.09739183e-01,  4.55977193e-01,\n",
       "       -3.97404502e-01, -7.62316216e-01,  1.21249947e+00, -1.15795271e+00,\n",
       "       -1.31622974e-01,  1.12145780e+00, -1.58711152e+00, -2.16680585e+00,\n",
       "        6.27041880e-01, -8.63704489e-02,  2.07469677e+00, -2.31739154e+00,\n",
       "        1.59468664e+00, -1.50735951e-01, -6.06344685e-01,  4.91942888e-01,\n",
       "        3.99534228e-01, -1.20172641e+00, -5.71176667e-01, -5.80725312e-01,\n",
       "       -1.33627568e-01, -1.33602048e+00,  2.94054388e-01,  7.77201710e-01,\n",
       "       -2.53691292e-01, -8.62992138e-01,  2.12309974e+00,  3.21103330e-01,\n",
       "        8.75600362e-01, -8.46267545e-01,  1.04708431e+00,  7.82307538e-01,\n",
       "        6.68593729e-01,  1.87808155e+00, -7.16917755e-01, -7.66393804e-02,\n",
       "       -9.68485405e-01,  1.19133620e+00,  6.47193060e-01, -2.10372088e-02,\n",
       "       -2.25076418e-01,  9.16148573e-01,  9.81711501e-01, -1.25172068e+00,\n",
       "       -1.17367918e+00,  1.00218575e+00, -9.94067015e-01,  8.51187323e-01,\n",
       "        7.47773817e-01,  5.88702727e-01,  3.91390766e-01,  1.97293909e-01,\n",
       "        1.05521121e+00, -2.79618392e+00,  2.69898934e+00, -6.72365961e-01,\n",
       "       -1.68695819e+00,  9.26722214e-01,  1.47338444e+00, -8.82689908e-01,\n",
       "        1.76811433e+00, -5.91195572e-01,  1.06141448e+00, -2.39047999e-01,\n",
       "        3.50860266e-01,  2.78901774e-01, -3.22816209e-01,  1.25944646e+00,\n",
       "        2.43804384e-01, -1.61799318e-02, -3.49356073e-01,  1.65732380e+00,\n",
       "       -6.22641836e-01, -5.64572714e-01, -2.51057196e-01, -3.64526402e-01,\n",
       "       -1.73028540e-01, -2.23277081e+00,  5.34375907e-01,  1.44142488e+00,\n",
       "       -8.99804069e-01, -1.34387789e+00,  1.05745226e+00, -3.73856112e-01,\n",
       "        2.09436269e+00, -1.79452983e-01, -2.63417603e-01,  1.80664685e+00,\n",
       "        9.79034233e-01,  6.46930326e-01,  4.87011672e-01, -1.44030123e+00,\n",
       "       -1.46598316e+00,  5.39703416e-01, -3.16843407e-02, -1.02532856e-01,\n",
       "        6.52904340e-01, -9.31686439e-01, -1.66795734e-01,  1.01901872e+00,\n",
       "        1.28747460e+00, -7.56648215e-01,  1.30889543e+00,  1.11415778e+00,\n",
       "       -1.65762837e-01, -8.98069603e-01,  1.85190766e-01,  2.65605998e+00,\n",
       "        2.30434506e+00, -2.60320006e-02,  1.03249203e+00, -3.85908148e-02,\n",
       "       -1.90438795e-01,  1.08337906e+00,  5.69584371e-01, -1.23796400e+00,\n",
       "        1.20290292e-02, -5.82266767e-01,  6.73805467e-01, -1.06193261e+00,\n",
       "        8.47208833e-02,  1.72192873e+00, -1.18801905e+00,  1.16942896e+00,\n",
       "        5.86348050e-01, -4.56814884e-03,  1.40192038e+00, -3.50607946e-01,\n",
       "        2.93092689e-01,  5.78279087e-01, -9.66113094e-01, -2.13357217e+00,\n",
       "        2.44337953e+00, -5.32764137e-01, -1.38102077e+00, -1.70149862e-01,\n",
       "       -3.97701852e-01,  6.83712089e-01,  1.08713568e+00, -1.18264729e+00,\n",
       "        3.11534622e-01, -2.26649489e+00, -6.17928530e-01,  1.11141246e+00,\n",
       "       -1.57573954e+00,  1.31963379e+00,  1.75647546e-01, -5.21995046e-01,\n",
       "        6.96424205e-01,  1.10295808e+00, -2.29991505e-01, -3.50689471e-01,\n",
       "        1.67747846e+00, -7.31140546e-01, -1.28861558e+00, -1.45183464e+00,\n",
       "       -3.34918620e-01, -2.93097208e-01, -1.75999522e-01, -1.19681410e-02,\n",
       "       -1.28700895e+00,  8.95862442e-02,  2.45027691e+00, -1.17182774e-02,\n",
       "       -2.98720481e-01,  7.86696722e-01, -9.43503638e-01,  2.88928586e-01,\n",
       "       -4.62055191e-01,  1.55744152e-01,  1.49991969e+00, -8.62811918e-01,\n",
       "       -1.79707727e+00,  6.82379160e-01,  4.78268481e-01, -2.19071530e+00,\n",
       "        1.89802955e+00,  1.13051882e+00,  9.30297162e-01, -2.70036374e-01,\n",
       "       -6.09994277e-01, -7.18202475e-01,  5.80505137e-01, -2.29978826e-01,\n",
       "       -2.85819475e+00, -6.23794422e-01, -6.85950571e-01, -1.94363848e+00,\n",
       "        4.40871561e-01, -9.51330584e-01, -1.14852914e+00, -1.17679607e+00,\n",
       "        5.25468024e-01,  2.43589802e-02, -1.07988983e+00, -2.97239319e-01,\n",
       "       -1.50425608e+00, -1.26016421e+00, -1.33071570e-01, -1.78676961e+00,\n",
       "        1.03396507e+00, -3.45617194e-01,  1.76828706e+00, -5.74951129e-01,\n",
       "       -2.94058235e-01, -6.28798690e-01,  9.53520066e-04,  7.90589177e-01,\n",
       "       -5.89612170e-01,  1.11103003e+00,  5.33473960e-01, -1.45834025e+00,\n",
       "        7.82552359e-01, -2.21498009e-01,  1.17542307e-01,  5.21664805e-01,\n",
       "       -1.97340475e-01, -1.80658626e+00, -8.56717439e-02, -7.18048696e-01,\n",
       "       -6.06441557e-01, -9.41255885e-02,  1.91684823e+00,  7.01789923e-01,\n",
       "       -1.59195932e+00, -3.02371443e+00, -1.16221347e+00,  6.02142800e-01,\n",
       "        8.33188711e-01,  5.55320674e-01,  2.85714890e-01, -5.58941418e-01,\n",
       "       -2.08123665e-01, -4.41790445e-01,  5.07302140e-01,  4.47614932e-01])"
      ]
     },
     "execution_count": 12,
     "metadata": {},
     "output_type": "execute_result"
    }
   ],
   "source": [
    "x = randn(1000)\n",
    "x"
   ]
  },
  {
   "cell_type": "code",
   "execution_count": 13,
   "id": "9bdb6ce7",
   "metadata": {},
   "outputs": [
    {
     "name": "stderr",
     "output_type": "stream",
     "text": [
      "C:\\Users\\shail\\anaconda3\\lib\\site-packages\\seaborn\\distributions.py:2619: FutureWarning: `distplot` is a deprecated function and will be removed in a future version. Please adapt your code to use either `displot` (a figure-level function with similar flexibility) or `histplot` (an axes-level function for histograms).\n",
      "  warnings.warn(msg, FutureWarning)\n"
     ]
    },
    {
     "data": {
      "text/plain": [
       "<AxesSubplot:ylabel='Density'>"
      ]
     },
     "execution_count": 13,
     "metadata": {},
     "output_type": "execute_result"
    },
    {
     "data": {
      "image/png": "[encoded data removed]",
      "text/plain": [
       "<Figure size 432x288 with 1 Axes>"
      ]
     },
     "metadata": {
      "needs_background": "light"
     },
     "output_type": "display_data"
    }
   ],
   "source": [
    "sns.distplot(x,kde=True,hist=True)"
   ]
  },
  {
   "cell_type": "code",
   "execution_count": 14,
   "id": "eaea63b8",
   "metadata": {},
   "outputs": [
    {
     "data": {
      "text/plain": [
       "<AxesSubplot:ylabel='Density'>"
      ]
     },
     "execution_count": 14,
     "metadata": {},
     "output_type": "execute_result"
    },
    {
     "data": {
      "image/png": "[encoded data removed]",
      "text/plain": [
       "<Figure size 432x288 with 1 Axes>"
      ]
     },
     "metadata": {
      "needs_background": "light"
     },
     "output_type": "display_data"
    }
   ],
   "source": [
    "sns.kdeplot(x)"
   ]
  },
  {
   "cell_type": "code",
   "execution_count": 16,
   "id": "f0e5b1c5",
   "metadata": {},
   "outputs": [
    {
     "data": {
      "text/plain": [
       "<AxesSubplot:ylabel='Density'>"
      ]
     },
     "execution_count": 16,
     "metadata": {},
     "output_type": "execute_result"
    },
    {
     "data": {
      "image/png": "[encoded data removed]",
      "text/plain": [
       "<Figure size 432x288 with 1 Axes>"
      ]
     },
     "metadata": {
      "needs_background": "light"
     },
     "output_type": "display_data"
    }
   ],
   "source": [
    "sns.kdeplot(x,shade=True)"
   ]
  },
  {
   "cell_type": "code",
   "execution_count": 18,
   "id": "057351a1",
   "metadata": {},
   "outputs": [
    {
     "data": {
      "text/html": [
       "<div>\n",
       "<style scoped>\n",
       "    .dataframe tbody tr th:only-of-type {\n",
       "        vertical-align: middle;\n",
       "    }\n",
       "\n",
       "    .dataframe tbody tr th {\n",
       "        vertical-align: top;\n",
       "    }\n",
       "\n",
       "    .dataframe thead th {\n",
       "        text-align: right;\n",
       "    }\n",
       "</style>\n",
       "<table border=\"1\" class=\"dataframe\">\n",
       "  <thead>\n",
       "    <tr style=\"text-align: right;\">\n",
       "      <th></th>\n",
       "      <th>total_bill</th>\n",
       "      <th>tip</th>\n",
       "      <th>sex</th>\n",
       "      <th>smoker</th>\n",
       "      <th>day</th>\n",
       "      <th>time</th>\n",
       "      <th>size</th>\n",
       "    </tr>\n",
       "  </thead>\n",
       "  <tbody>\n",
       "    <tr>\n",
       "      <th>239</th>\n",
       "      <td>29.03</td>\n",
       "      <td>5.92</td>\n",
       "      <td>Male</td>\n",
       "      <td>No</td>\n",
       "      <td>Sat</td>\n",
       "      <td>Dinner</td>\n",
       "      <td>3</td>\n",
       "    </tr>\n",
       "    <tr>\n",
       "      <th>240</th>\n",
       "      <td>27.18</td>\n",
       "      <td>2.00</td>\n",
       "      <td>Female</td>\n",
       "      <td>Yes</td>\n",
       "      <td>Sat</td>\n",
       "      <td>Dinner</td>\n",
       "      <td>2</td>\n",
       "    </tr>\n",
       "    <tr>\n",
       "      <th>241</th>\n",
       "      <td>22.67</td>\n",
       "      <td>2.00</td>\n",
       "      <td>Male</td>\n",
       "      <td>Yes</td>\n",
       "      <td>Sat</td>\n",
       "      <td>Dinner</td>\n",
       "      <td>2</td>\n",
       "    </tr>\n",
       "    <tr>\n",
       "      <th>242</th>\n",
       "      <td>17.82</td>\n",
       "      <td>1.75</td>\n",
       "      <td>Male</td>\n",
       "      <td>No</td>\n",
       "      <td>Sat</td>\n",
       "      <td>Dinner</td>\n",
       "      <td>2</td>\n",
       "    </tr>\n",
       "    <tr>\n",
       "      <th>243</th>\n",
       "      <td>18.78</td>\n",
       "      <td>3.00</td>\n",
       "      <td>Female</td>\n",
       "      <td>No</td>\n",
       "      <td>Thur</td>\n",
       "      <td>Dinner</td>\n",
       "      <td>2</td>\n",
       "    </tr>\n",
       "  </tbody>\n",
       "</table>\n",
       "</div>"
      ],
      "text/plain": [
       "     total_bill   tip     sex smoker   day    time  size\n",
       "239       29.03  5.92    Male     No   Sat  Dinner     3\n",
       "240       27.18  2.00  Female    Yes   Sat  Dinner     2\n",
       "241       22.67  2.00    Male    Yes   Sat  Dinner     2\n",
       "242       17.82  1.75    Male     No   Sat  Dinner     2\n",
       "243       18.78  3.00  Female     No  Thur  Dinner     2"
      ]
     },
     "execution_count": 18,
     "metadata": {},
     "output_type": "execute_result"
    }
   ],
   "source": [
    "tips = sns.load_dataset('tips')\n",
    "tips.tail()"
   ]
  },
  {
   "cell_type": "code",
   "execution_count": 19,
   "id": "e85b08cb",
   "metadata": {},
   "outputs": [],
   "source": [
    "x = tips['total_bill']"
   ]
  },
  {
   "cell_type": "code",
   "execution_count": 20,
   "id": "9752e83c",
   "metadata": {},
   "outputs": [],
   "source": [
    "y = tips['tip']"
   ]
  },
  {
   "cell_type": "code",
   "execution_count": 21,
   "id": "88ff1fba",
   "metadata": {},
   "outputs": [
    {
     "data": {
      "text/plain": [
       "<seaborn.axisgrid.JointGrid at 0x699a629730>"
      ]
     },
     "execution_count": 21,
     "metadata": {},
     "output_type": "execute_result"
    },
    {
     "data": {
      "image/png": "[encoded data removed]",
      "text/plain": [
       "<Figure size 432x432 with 3 Axes>"
      ]
     },
     "metadata": {
      "needs_background": "light"
     },
     "output_type": "display_data"
    }
   ],
   "source": [
    "sns.jointplot(x=x,y=y)"
   ]
  },
  {
   "cell_type": "code",
   "execution_count": 22,
   "id": "96e0bce3",
   "metadata": {},
   "outputs": [
    {
     "data": {
      "text/html": [
       "<div>\n",
       "<style scoped>\n",
       "    .dataframe tbody tr th:only-of-type {\n",
       "        vertical-align: middle;\n",
       "    }\n",
       "\n",
       "    .dataframe tbody tr th {\n",
       "        vertical-align: top;\n",
       "    }\n",
       "\n",
       "    .dataframe thead th {\n",
       "        text-align: right;\n",
       "    }\n",
       "</style>\n",
       "<table border=\"1\" class=\"dataframe\">\n",
       "  <thead>\n",
       "    <tr style=\"text-align: right;\">\n",
       "      <th></th>\n",
       "      <th>total_bill</th>\n",
       "      <th>tip</th>\n",
       "      <th>sex</th>\n",
       "      <th>smoker</th>\n",
       "      <th>day</th>\n",
       "      <th>time</th>\n",
       "      <th>size</th>\n",
       "    </tr>\n",
       "  </thead>\n",
       "  <tbody>\n",
       "    <tr>\n",
       "      <th>0</th>\n",
       "      <td>16.99</td>\n",
       "      <td>1.01</td>\n",
       "      <td>Female</td>\n",
       "      <td>No</td>\n",
       "      <td>Sun</td>\n",
       "      <td>Dinner</td>\n",
       "      <td>2</td>\n",
       "    </tr>\n",
       "    <tr>\n",
       "      <th>1</th>\n",
       "      <td>10.34</td>\n",
       "      <td>1.66</td>\n",
       "      <td>Male</td>\n",
       "      <td>No</td>\n",
       "      <td>Sun</td>\n",
       "      <td>Dinner</td>\n",
       "      <td>3</td>\n",
       "    </tr>\n",
       "    <tr>\n",
       "      <th>2</th>\n",
       "      <td>21.01</td>\n",
       "      <td>3.50</td>\n",
       "      <td>Male</td>\n",
       "      <td>No</td>\n",
       "      <td>Sun</td>\n",
       "      <td>Dinner</td>\n",
       "      <td>3</td>\n",
       "    </tr>\n",
       "    <tr>\n",
       "      <th>3</th>\n",
       "      <td>23.68</td>\n",
       "      <td>3.31</td>\n",
       "      <td>Male</td>\n",
       "      <td>No</td>\n",
       "      <td>Sun</td>\n",
       "      <td>Dinner</td>\n",
       "      <td>2</td>\n",
       "    </tr>\n",
       "    <tr>\n",
       "      <th>4</th>\n",
       "      <td>24.59</td>\n",
       "      <td>3.61</td>\n",
       "      <td>Female</td>\n",
       "      <td>No</td>\n",
       "      <td>Sun</td>\n",
       "      <td>Dinner</td>\n",
       "      <td>4</td>\n",
       "    </tr>\n",
       "  </tbody>\n",
       "</table>\n",
       "</div>"
      ],
      "text/plain": [
       "   total_bill   tip     sex smoker  day    time  size\n",
       "0       16.99  1.01  Female     No  Sun  Dinner     2\n",
       "1       10.34  1.66    Male     No  Sun  Dinner     3\n",
       "2       21.01  3.50    Male     No  Sun  Dinner     3\n",
       "3       23.68  3.31    Male     No  Sun  Dinner     2\n",
       "4       24.59  3.61  Female     No  Sun  Dinner     4"
      ]
     },
     "execution_count": 22,
     "metadata": {},
     "output_type": "execute_result"
    }
   ],
   "source": [
    "tips.head()"
   ]
  },
  {
   "cell_type": "code",
   "execution_count": 23,
   "id": "7e9ff6d0",
   "metadata": {},
   "outputs": [
    {
     "data": {
      "text/plain": [
       "<AxesSubplot:xlabel='total_bill', ylabel='tip'>"
      ]
     },
     "execution_count": 23,
     "metadata": {},
     "output_type": "execute_result"
    },
    {
     "data": {
      "image/png": "[encoded data removed]",
      "text/plain": [
       "<Figure size 432x288 with 1 Axes>"
      ]
     },
     "metadata": {
      "needs_background": "light"
     },
     "output_type": "display_data"
    }
   ],
   "source": [
    "sns.regplot(x='total_bill',y='tip',data=tips)"
   ]
  },
  {
   "cell_type": "code",
   "execution_count": 24,
   "id": "241b08f8",
   "metadata": {},
   "outputs": [
    {
     "data": {
      "text/plain": [
       "<seaborn.axisgrid.FacetGrid at 0x699b7b07f0>"
      ]
     },
     "execution_count": 24,
     "metadata": {},
     "output_type": "execute_result"
    },
    {
     "data": {
      "image/png": "[encoded data removed]",
      "text/plain": [
       "<Figure size 360x360 with 1 Axes>"
      ]
     },
     "metadata": {
      "needs_background": "light"
     },
     "output_type": "display_data"
    }
   ],
   "source": [
    "sns.lmplot(x='total_bill',y='tip',data=tips)"
   ]
  },
  {
   "cell_type": "code",
   "execution_count": 5,
   "id": "3c97eafd",
   "metadata": {},
   "outputs": [
    {
     "data": {
      "text/plain": [
       "0      31\n",
       "1      38\n",
       "2      77\n",
       "3      48\n",
       "4      30\n",
       "       ..\n",
       "995    87\n",
       "996    68\n",
       "997    55\n",
       "998    95\n",
       "999    37\n",
       "Length: 1000, dtype: int32"
      ]
     },
     "execution_count": 5,
     "metadata": {},
     "output_type": "execute_result"
    }
   ],
   "source": [
    "from numpy.random import randint as ri\n",
    "import pandas as pd\n",
    "\n",
    "marks = ri(30,100,1000)\n",
    "stud_marks = pd.Series(marks)\n",
    "stud_marks"
   ]
  },
  {
   "cell_type": "code",
   "execution_count": 6,
   "id": "d29f8485",
   "metadata": {},
   "outputs": [
    {
     "data": {
      "text/plain": [
       "64.103"
      ]
     },
     "execution_count": 6,
     "metadata": {},
     "output_type": "execute_result"
    }
   ],
   "source": [
    "mean_marks = stud_marks.mean()\n",
    "mean_marks"
   ]
  },
  {
   "cell_type": "code",
   "execution_count": 8,
   "id": "fcf76b29",
   "metadata": {},
   "outputs": [
    {
     "data": {
      "text/plain": [
       "20.31612994977478"
      ]
     },
     "execution_count": 8,
     "metadata": {},
     "output_type": "execute_result"
    }
   ],
   "source": [
    "marks_std = stud_marks.std()\n",
    "marks_std"
   ]
  },
  {
   "cell_type": "code",
   "execution_count": 9,
   "id": "042dfb1d",
   "metadata": {},
   "outputs": [],
   "source": [
    "x = 50"
   ]
  },
  {
   "cell_type": "code",
   "execution_count": 10,
   "id": "495914a2",
   "metadata": {},
   "outputs": [
    {
     "data": {
      "text/plain": [
       "0.24378545514433786"
      ]
     },
     "execution_count": 10,
     "metadata": {},
     "output_type": "execute_result"
    }
   ],
   "source": [
    "import scipy.stats as st\n",
    "prob = st.norm.cdf(x,loc = mean_marks,scale = marks_std)\n",
    "prob"
   ]
  },
  {
   "cell_type": "code",
   "execution_count": 11,
   "id": "a5003e8b",
   "metadata": {},
   "outputs": [],
   "source": [
    "n= 30\n",
    "sample_mean = 24.2\n",
    "std = 1.5\n",
    "mean = 25"
   ]
  },
  {
   "cell_type": "code",
   "execution_count": 14,
   "id": "ec2221d7",
   "metadata": {},
   "outputs": [],
   "source": [
    "import scipy.stats as st\n",
    "import numpy as np"
   ]
  },
  {
   "cell_type": "code",
   "execution_count": 15,
   "id": "28e3061d",
   "metadata": {},
   "outputs": [
    {
     "data": {
      "text/plain": [
       "0.0017435024460706768"
      ]
     },
     "execution_count": 15,
     "metadata": {},
     "output_type": "execute_result"
    }
   ],
   "source": [
    "prob = st.norm.cdf(sample_mean,loc=mean,scale=std/np.sqrt(30))\n",
    "prob"
   ]
  },
  {
   "cell_type": "code",
   "execution_count": 17,
   "id": "4cac46c4",
   "metadata": {},
   "outputs": [
    {
     "data": {
      "text/html": [
       "<div>\n",
       "<style scoped>\n",
       "    .dataframe tbody tr th:only-of-type {\n",
       "        vertical-align: middle;\n",
       "    }\n",
       "\n",
       "    .dataframe tbody tr th {\n",
       "        vertical-align: top;\n",
       "    }\n",
       "\n",
       "    .dataframe thead th {\n",
       "        text-align: right;\n",
       "    }\n",
       "</style>\n",
       "<table border=\"1\" class=\"dataframe\">\n",
       "  <thead>\n",
       "    <tr style=\"text-align: right;\">\n",
       "      <th></th>\n",
       "      <th>ID</th>\n",
       "      <th>Gender</th>\n",
       "      <th>Race</th>\n",
       "      <th>SEB</th>\n",
       "      <th>School</th>\n",
       "      <th>Prog</th>\n",
       "      <th>Read</th>\n",
       "      <th>Write</th>\n",
       "      <th>Math1</th>\n",
       "      <th>Math2</th>\n",
       "      <th>SST</th>\n",
       "    </tr>\n",
       "  </thead>\n",
       "  <tbody>\n",
       "    <tr>\n",
       "      <th>0</th>\n",
       "      <td>70</td>\n",
       "      <td>0</td>\n",
       "      <td>4</td>\n",
       "      <td>1</td>\n",
       "      <td>1</td>\n",
       "      <td>1</td>\n",
       "      <td>57</td>\n",
       "      <td>52</td>\n",
       "      <td>41</td>\n",
       "      <td>47</td>\n",
       "      <td>57</td>\n",
       "    </tr>\n",
       "    <tr>\n",
       "      <th>1</th>\n",
       "      <td>121</td>\n",
       "      <td>1</td>\n",
       "      <td>4</td>\n",
       "      <td>2</td>\n",
       "      <td>1</td>\n",
       "      <td>3</td>\n",
       "      <td>68</td>\n",
       "      <td>59</td>\n",
       "      <td>53</td>\n",
       "      <td>63</td>\n",
       "      <td>61</td>\n",
       "    </tr>\n",
       "    <tr>\n",
       "      <th>2</th>\n",
       "      <td>86</td>\n",
       "      <td>0</td>\n",
       "      <td>4</td>\n",
       "      <td>3</td>\n",
       "      <td>1</td>\n",
       "      <td>1</td>\n",
       "      <td>44</td>\n",
       "      <td>33</td>\n",
       "      <td>54</td>\n",
       "      <td>58</td>\n",
       "      <td>31</td>\n",
       "    </tr>\n",
       "    <tr>\n",
       "      <th>3</th>\n",
       "      <td>141</td>\n",
       "      <td>0</td>\n",
       "      <td>4</td>\n",
       "      <td>3</td>\n",
       "      <td>1</td>\n",
       "      <td>3</td>\n",
       "      <td>63</td>\n",
       "      <td>44</td>\n",
       "      <td>47</td>\n",
       "      <td>53</td>\n",
       "      <td>56</td>\n",
       "    </tr>\n",
       "    <tr>\n",
       "      <th>4</th>\n",
       "      <td>172</td>\n",
       "      <td>0</td>\n",
       "      <td>4</td>\n",
       "      <td>2</td>\n",
       "      <td>1</td>\n",
       "      <td>2</td>\n",
       "      <td>47</td>\n",
       "      <td>52</td>\n",
       "      <td>57</td>\n",
       "      <td>53</td>\n",
       "      <td>61</td>\n",
       "    </tr>\n",
       "    <tr>\n",
       "      <th>...</th>\n",
       "      <td>...</td>\n",
       "      <td>...</td>\n",
       "      <td>...</td>\n",
       "      <td>...</td>\n",
       "      <td>...</td>\n",
       "      <td>...</td>\n",
       "      <td>...</td>\n",
       "      <td>...</td>\n",
       "      <td>...</td>\n",
       "      <td>...</td>\n",
       "      <td>...</td>\n",
       "    </tr>\n",
       "    <tr>\n",
       "      <th>195</th>\n",
       "      <td>31</td>\n",
       "      <td>1</td>\n",
       "      <td>2</td>\n",
       "      <td>2</td>\n",
       "      <td>2</td>\n",
       "      <td>1</td>\n",
       "      <td>55</td>\n",
       "      <td>59</td>\n",
       "      <td>52</td>\n",
       "      <td>42</td>\n",
       "      <td>56</td>\n",
       "    </tr>\n",
       "    <tr>\n",
       "      <th>196</th>\n",
       "      <td>145</td>\n",
       "      <td>1</td>\n",
       "      <td>4</td>\n",
       "      <td>2</td>\n",
       "      <td>1</td>\n",
       "      <td>3</td>\n",
       "      <td>42</td>\n",
       "      <td>46</td>\n",
       "      <td>38</td>\n",
       "      <td>36</td>\n",
       "      <td>46</td>\n",
       "    </tr>\n",
       "    <tr>\n",
       "      <th>197</th>\n",
       "      <td>187</td>\n",
       "      <td>1</td>\n",
       "      <td>4</td>\n",
       "      <td>2</td>\n",
       "      <td>2</td>\n",
       "      <td>1</td>\n",
       "      <td>57</td>\n",
       "      <td>41</td>\n",
       "      <td>57</td>\n",
       "      <td>55</td>\n",
       "      <td>52</td>\n",
       "    </tr>\n",
       "    <tr>\n",
       "      <th>198</th>\n",
       "      <td>118</td>\n",
       "      <td>1</td>\n",
       "      <td>4</td>\n",
       "      <td>2</td>\n",
       "      <td>1</td>\n",
       "      <td>1</td>\n",
       "      <td>55</td>\n",
       "      <td>62</td>\n",
       "      <td>58</td>\n",
       "      <td>58</td>\n",
       "      <td>61</td>\n",
       "    </tr>\n",
       "    <tr>\n",
       "      <th>199</th>\n",
       "      <td>137</td>\n",
       "      <td>1</td>\n",
       "      <td>4</td>\n",
       "      <td>3</td>\n",
       "      <td>1</td>\n",
       "      <td>2</td>\n",
       "      <td>63</td>\n",
       "      <td>65</td>\n",
       "      <td>65</td>\n",
       "      <td>53</td>\n",
       "      <td>61</td>\n",
       "    </tr>\n",
       "  </tbody>\n",
       "</table>\n",
       "<p>200 rows × 11 columns</p>\n",
       "</div>"
      ],
      "text/plain": [
       "      ID  Gender  Race  SEB  School  Prog  Read  Write  Math1  Math2  SST\n",
       "0     70       0     4    1       1     1    57     52     41     47   57\n",
       "1    121       1     4    2       1     3    68     59     53     63   61\n",
       "2     86       0     4    3       1     1    44     33     54     58   31\n",
       "3    141       0     4    3       1     3    63     44     47     53   56\n",
       "4    172       0     4    2       1     2    47     52     57     53   61\n",
       "..   ...     ...   ...  ...     ...   ...   ...    ...    ...    ...  ...\n",
       "195   31       1     2    2       2     1    55     59     52     42   56\n",
       "196  145       1     4    2       1     3    42     46     38     36   46\n",
       "197  187       1     4    2       2     1    57     41     57     55   52\n",
       "198  118       1     4    2       1     1    55     62     58     58   61\n",
       "199  137       1     4    3       1     2    63     65     65     53   61\n",
       "\n",
       "[200 rows x 11 columns]"
      ]
     },
     "execution_count": 17,
     "metadata": {},
     "output_type": "execute_result"
    }
   ],
   "source": [
    "import pandas as pd\n",
    "hyp =pd.read_csv('https://raw.githubusercontent.com/training-ml/Files/main/Hypothesis%20ttest.csv')\n",
    "hyp"
   ]
  },
  {
   "cell_type": "code",
   "execution_count": 18,
   "id": "f14a6f51",
   "metadata": {},
   "outputs": [
    {
     "data": {
      "text/plain": [
       "52.645"
      ]
     },
     "execution_count": 18,
     "metadata": {},
     "output_type": "execute_result"
    }
   ],
   "source": [
    "hyp['Math1'].mean()"
   ]
  },
  {
   "cell_type": "code",
   "execution_count": 19,
   "id": "0b432ac6",
   "metadata": {},
   "outputs": [],
   "source": [
    "mu = 60"
   ]
  },
  {
   "cell_type": "code",
   "execution_count": 20,
   "id": "e1854700",
   "metadata": {},
   "outputs": [],
   "source": [
    "import scipy.stats as st"
   ]
  },
  {
   "cell_type": "code",
   "execution_count": 23,
   "id": "f7e732e2",
   "metadata": {},
   "outputs": [],
   "source": [
    "s,p = st.ttest_1samp(hyp.Math1,mu)"
   ]
  },
  {
   "cell_type": "code",
   "execution_count": 24,
   "id": "7aacf785",
   "metadata": {},
   "outputs": [
    {
     "data": {
      "text/plain": [
       "1.3339158110547646e-22"
      ]
     },
     "execution_count": 24,
     "metadata": {},
     "output_type": "execute_result"
    }
   ],
   "source": [
    "p"
   ]
  },
  {
   "cell_type": "code",
   "execution_count": 26,
   "id": "b390e63b",
   "metadata": {},
   "outputs": [
    {
     "data": {
      "text/html": [
       "<div>\n",
       "<style scoped>\n",
       "    .dataframe tbody tr th:only-of-type {\n",
       "        vertical-align: middle;\n",
       "    }\n",
       "\n",
       "    .dataframe tbody tr th {\n",
       "        vertical-align: top;\n",
       "    }\n",
       "\n",
       "    .dataframe thead th {\n",
       "        text-align: right;\n",
       "    }\n",
       "</style>\n",
       "<table border=\"1\" class=\"dataframe\">\n",
       "  <thead>\n",
       "    <tr style=\"text-align: right;\">\n",
       "      <th></th>\n",
       "      <th>ID</th>\n",
       "      <th>Gender</th>\n",
       "      <th>Race</th>\n",
       "      <th>SEB</th>\n",
       "      <th>School</th>\n",
       "      <th>Prog</th>\n",
       "      <th>Read</th>\n",
       "      <th>Write</th>\n",
       "      <th>Math1</th>\n",
       "      <th>Math2</th>\n",
       "      <th>SST</th>\n",
       "    </tr>\n",
       "  </thead>\n",
       "  <tbody>\n",
       "    <tr>\n",
       "      <th>0</th>\n",
       "      <td>70</td>\n",
       "      <td>0</td>\n",
       "      <td>4</td>\n",
       "      <td>1</td>\n",
       "      <td>1</td>\n",
       "      <td>1</td>\n",
       "      <td>57</td>\n",
       "      <td>52</td>\n",
       "      <td>41</td>\n",
       "      <td>47</td>\n",
       "      <td>57</td>\n",
       "    </tr>\n",
       "    <tr>\n",
       "      <th>1</th>\n",
       "      <td>121</td>\n",
       "      <td>1</td>\n",
       "      <td>4</td>\n",
       "      <td>2</td>\n",
       "      <td>1</td>\n",
       "      <td>3</td>\n",
       "      <td>68</td>\n",
       "      <td>59</td>\n",
       "      <td>53</td>\n",
       "      <td>63</td>\n",
       "      <td>61</td>\n",
       "    </tr>\n",
       "    <tr>\n",
       "      <th>2</th>\n",
       "      <td>86</td>\n",
       "      <td>0</td>\n",
       "      <td>4</td>\n",
       "      <td>3</td>\n",
       "      <td>1</td>\n",
       "      <td>1</td>\n",
       "      <td>44</td>\n",
       "      <td>33</td>\n",
       "      <td>54</td>\n",
       "      <td>58</td>\n",
       "      <td>31</td>\n",
       "    </tr>\n",
       "    <tr>\n",
       "      <th>3</th>\n",
       "      <td>141</td>\n",
       "      <td>0</td>\n",
       "      <td>4</td>\n",
       "      <td>3</td>\n",
       "      <td>1</td>\n",
       "      <td>3</td>\n",
       "      <td>63</td>\n",
       "      <td>44</td>\n",
       "      <td>47</td>\n",
       "      <td>53</td>\n",
       "      <td>56</td>\n",
       "    </tr>\n",
       "    <tr>\n",
       "      <th>4</th>\n",
       "      <td>172</td>\n",
       "      <td>0</td>\n",
       "      <td>4</td>\n",
       "      <td>2</td>\n",
       "      <td>1</td>\n",
       "      <td>2</td>\n",
       "      <td>47</td>\n",
       "      <td>52</td>\n",
       "      <td>57</td>\n",
       "      <td>53</td>\n",
       "      <td>61</td>\n",
       "    </tr>\n",
       "  </tbody>\n",
       "</table>\n",
       "</div>"
      ],
      "text/plain": [
       "    ID  Gender  Race  SEB  School  Prog  Read  Write  Math1  Math2  SST\n",
       "0   70       0     4    1       1     1    57     52     41     47   57\n",
       "1  121       1     4    2       1     3    68     59     53     63   61\n",
       "2   86       0     4    3       1     1    44     33     54     58   31\n",
       "3  141       0     4    3       1     3    63     44     47     53   56\n",
       "4  172       0     4    2       1     2    47     52     57     53   61"
      ]
     },
     "execution_count": 26,
     "metadata": {},
     "output_type": "execute_result"
    }
   ],
   "source": [
    "hyp.head()"
   ]
  },
  {
   "cell_type": "code",
   "execution_count": 27,
   "id": "6893f32e",
   "metadata": {},
   "outputs": [
    {
     "data": {
      "text/plain": [
       "1    109\n",
       "0     91\n",
       "Name: Gender, dtype: int64"
      ]
     },
     "execution_count": 27,
     "metadata": {},
     "output_type": "execute_result"
    }
   ],
   "source": [
    "hyp['Gender'].value_counts()"
   ]
  },
  {
   "cell_type": "code",
   "execution_count": 28,
   "id": "bfc5e120",
   "metadata": {},
   "outputs": [
    {
     "data": {
      "text/plain": [
       "1     53\n",
       "92    65\n",
       "93    52\n",
       "94    46\n",
       "95    61\n",
       "Name: Math1, dtype: int64"
      ]
     },
     "execution_count": 28,
     "metadata": {},
     "output_type": "execute_result"
    }
   ],
   "source": [
    "hyp[hyp['Gender']==1].Math1.head()"
   ]
  },
  {
   "cell_type": "code",
   "execution_count": 29,
   "id": "f20e48eb",
   "metadata": {},
   "outputs": [],
   "source": [
    "t,p = st.ttest_ind(hyp[hyp['Gender']==1].Math1,hyp[hyp['Gender']==0].Math1)"
   ]
  },
  {
   "cell_type": "code",
   "execution_count": 30,
   "id": "0c9f0981",
   "metadata": {},
   "outputs": [
    {
     "data": {
      "text/plain": [
       "0.6800544974232143"
      ]
     },
     "execution_count": 30,
     "metadata": {},
     "output_type": "execute_result"
    }
   ],
   "source": [
    "p"
   ]
  },
  {
   "cell_type": "code",
   "execution_count": 3,
   "id": "0c9ec0be",
   "metadata": {},
   "outputs": [
    {
     "ename": "NameError",
     "evalue": "name 'st' is not defined",
     "output_type": "error",
     "traceback": [
      "\u001b[1;31m---------------------------------------------------------------------------\u001b[0m",
      "\u001b[1;31mNameError\u001b[0m                                 Traceback (most recent call last)",
      "\u001b[1;32m~\\AppData\\Local\\Temp/ipykernel_1520/510872069.py\u001b[0m in \u001b[0;36m<module>\u001b[1;34m\u001b[0m\n\u001b[1;32m----> 1\u001b[1;33m \u001b[0mt\u001b[0m\u001b[1;33m,\u001b[0m\u001b[0mp\u001b[0m \u001b[1;33m=\u001b[0m \u001b[0mst\u001b[0m\u001b[1;33m.\u001b[0m\u001b[0mttest_rel\u001b[0m\u001b[1;33m(\u001b[0m\u001b[0mhyp\u001b[0m\u001b[1;33m.\u001b[0m\u001b[0mMath1\u001b[0m\u001b[1;33m,\u001b[0m\u001b[0mhyp\u001b[0m\u001b[1;33m.\u001b[0m\u001b[0mMath2\u001b[0m\u001b[1;33m)\u001b[0m\u001b[1;33m\u001b[0m\u001b[1;33m\u001b[0m\u001b[0m\n\u001b[0m\u001b[0;32m      2\u001b[0m \u001b[0mp\u001b[0m\u001b[1;33m\u001b[0m\u001b[1;33m\u001b[0m\u001b[0m\n",
      "\u001b[1;31mNameError\u001b[0m: name 'st' is not defined"
     ]
    }
   ],
   "source": [
    "t,p = st.ttest_rel(hyp.Math1,hyp.Math2)\n",
    "p"
   ]
  },
  {
   "cell_type": "code",
   "execution_count": 1,
   "id": "2470518a",
   "metadata": {},
   "outputs": [],
   "source": [
    "import pandas as pd"
   ]
  },
  {
   "cell_type": "code",
   "execution_count": 4,
   "id": "1e043ebc",
   "metadata": {},
   "outputs": [],
   "source": [
    "hyp = pd.read_csv('Semester marks.csv')"
   ]
  },
  {
   "cell_type": "code",
   "execution_count": 5,
   "id": "8861dd3f",
   "metadata": {},
   "outputs": [
    {
     "data": {
      "text/html": [
       "<div>\n",
       "<style scoped>\n",
       "    .dataframe tbody tr th:only-of-type {\n",
       "        vertical-align: middle;\n",
       "    }\n",
       "\n",
       "    .dataframe tbody tr th {\n",
       "        vertical-align: top;\n",
       "    }\n",
       "\n",
       "    .dataframe thead th {\n",
       "        text-align: right;\n",
       "    }\n",
       "</style>\n",
       "<table border=\"1\" class=\"dataframe\">\n",
       "  <thead>\n",
       "    <tr style=\"text-align: right;\">\n",
       "      <th></th>\n",
       "      <th>Student_ID</th>\n",
       "      <th>Semester</th>\n",
       "      <th>Total_Marks</th>\n",
       "    </tr>\n",
       "  </thead>\n",
       "  <tbody>\n",
       "    <tr>\n",
       "      <th>0</th>\n",
       "      <td>1</td>\n",
       "      <td>1</td>\n",
       "      <td>365</td>\n",
       "    </tr>\n",
       "    <tr>\n",
       "      <th>1</th>\n",
       "      <td>2</td>\n",
       "      <td>3</td>\n",
       "      <td>376</td>\n",
       "    </tr>\n",
       "    <tr>\n",
       "      <th>2</th>\n",
       "      <td>3</td>\n",
       "      <td>1</td>\n",
       "      <td>411</td>\n",
       "    </tr>\n",
       "    <tr>\n",
       "      <th>3</th>\n",
       "      <td>4</td>\n",
       "      <td>3</td>\n",
       "      <td>436</td>\n",
       "    </tr>\n",
       "    <tr>\n",
       "      <th>4</th>\n",
       "      <td>5</td>\n",
       "      <td>2</td>\n",
       "      <td>366</td>\n",
       "    </tr>\n",
       "  </tbody>\n",
       "</table>\n",
       "</div>"
      ],
      "text/plain": [
       "   Student_ID  Semester  Total_Marks\n",
       "0           1         1          365\n",
       "1           2         3          376\n",
       "2           3         1          411\n",
       "3           4         3          436\n",
       "4           5         2          366"
      ]
     },
     "execution_count": 5,
     "metadata": {},
     "output_type": "execute_result"
    }
   ],
   "source": [
    "hyp.head()"
   ]
  },
  {
   "cell_type": "code",
   "execution_count": 10,
   "id": "1a09e691",
   "metadata": {},
   "outputs": [
    {
     "data": {
      "text/plain": [
       "<statsmodels.regression.linear_model.RegressionResultsWrapper at 0x68f20ca9a0>"
      ]
     },
     "execution_count": 10,
     "metadata": {},
     "output_type": "execute_result"
    }
   ],
   "source": [
    "import numpy as np\n",
    "import statsmodels.formula.api as sm\n",
    "mod = sm.ols('Total_Marks ~ Semester',data=hyp).fit()\n",
    "mod"
   ]
  },
  {
   "cell_type": "code",
   "execution_count": 14,
   "id": "9f7e4939",
   "metadata": {},
   "outputs": [
    {
     "data": {
      "text/html": [
       "<div>\n",
       "<style scoped>\n",
       "    .dataframe tbody tr th:only-of-type {\n",
       "        vertical-align: middle;\n",
       "    }\n",
       "\n",
       "    .dataframe tbody tr th {\n",
       "        vertical-align: top;\n",
       "    }\n",
       "\n",
       "    .dataframe thead th {\n",
       "        text-align: right;\n",
       "    }\n",
       "</style>\n",
       "<table border=\"1\" class=\"dataframe\">\n",
       "  <thead>\n",
       "    <tr style=\"text-align: right;\">\n",
       "      <th></th>\n",
       "      <th>df</th>\n",
       "      <th>sum_sq</th>\n",
       "      <th>mean_sq</th>\n",
       "      <th>F</th>\n",
       "      <th>PR(&gt;F)</th>\n",
       "    </tr>\n",
       "  </thead>\n",
       "  <tbody>\n",
       "    <tr>\n",
       "      <th>Semester</th>\n",
       "      <td>1.0</td>\n",
       "      <td>291.846746</td>\n",
       "      <td>291.846746</td>\n",
       "      <td>0.102572</td>\n",
       "      <td>0.749102</td>\n",
       "    </tr>\n",
       "    <tr>\n",
       "      <th>Residual</th>\n",
       "      <td>198.0</td>\n",
       "      <td>563366.873254</td>\n",
       "      <td>2845.287239</td>\n",
       "      <td>NaN</td>\n",
       "      <td>NaN</td>\n",
       "    </tr>\n",
       "  </tbody>\n",
       "</table>\n",
       "</div>"
      ],
      "text/plain": [
       "             df         sum_sq      mean_sq         F    PR(>F)\n",
       "Semester    1.0     291.846746   291.846746  0.102572  0.749102\n",
       "Residual  198.0  563366.873254  2845.287239       NaN       NaN"
      ]
     },
     "execution_count": 14,
     "metadata": {},
     "output_type": "execute_result"
    }
   ],
   "source": [
    "import statsmodels.api as k\n",
    "anov_table = k.stats.anova_lm(mod,typ=1)\n",
    "anov_table"
   ]
  },
  {
   "cell_type": "code",
   "execution_count": 15,
   "id": "bd6bf2b3",
   "metadata": {},
   "outputs": [
    {
     "name": "stdout",
     "output_type": "stream",
     "text": [
      "1st sem total: 403.0\n",
      "2nd sem total: 393.0\n",
      "3rd sem total: 406.0\n"
     ]
    }
   ],
   "source": [
    "print('1st sem total:',np.ceil(hyp['Total_Marks'][hyp['Semester']==1].mean()))\n",
    "print('2nd sem total:',np.ceil(hyp['Total_Marks'][hyp['Semester']==2].mean()))\n",
    "print('3rd sem total:',np.ceil(hyp['Total_Marks'][hyp['Semester']==3].mean()))\n",
    "\n",
    "      "
   ]
  },
  {
   "cell_type": "code",
   "execution_count": null,
   "id": "0017ce24",
   "metadata": {},
   "outputs": [],
   "source": []
  }
 ],
 "metadata": {
  "kernelspec": {
   "display_name": "Python 3 (ipykernel)",
   "language": "python",
   "name": "python3"
  },
  "language_info": {
   "codemirror_mode": {
    "name": "ipython",
    "version": 3
   },
   "file_extension": ".py",
   "mimetype": "text/x-python",
   "name": "python",
   "nbconvert_exporter": "python",
   "pygments_lexer": "ipython3",
   "version": "3.9.7"
  }
 },
 "nbformat": 4,
 "nbformat_minor": 5
}
