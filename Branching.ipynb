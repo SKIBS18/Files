{
 "cells": [
  {
   "cell_type": "code",
   "execution_count": 1,
   "id": "8142040f",
   "metadata": {},
   "outputs": [
    {
     "data": {
      "text/plain": [
       "['bangalore', 'chennai', 'kolkatta', 'delhi', 'hyderabad']"
      ]
     },
     "execution_count": 1,
     "metadata": {},
     "output_type": "execute_result"
    }
   ],
   "source": [
    "location = ['bangalore', 'chennai', 'kolkatta', 'delhi', 'hyderabad']\n",
    "location"
   ]
  },
  {
   "cell_type": "code",
   "execution_count": 2,
   "id": "d96b0371",
   "metadata": {},
   "outputs": [
    {
     "name": "stdout",
     "output_type": "stream",
     "text": [
      "bangalore\n",
      "chennai\n",
      "kolkatta\n",
      "delhi\n",
      "hyderabad\n"
     ]
    }
   ],
   "source": [
    "for i in location:\n",
    "    print(i)"
   ]
  },
  {
   "cell_type": "code",
   "execution_count": 3,
   "id": "c97b6523",
   "metadata": {},
   "outputs": [
    {
     "data": {
      "text/plain": [
       "[20000, 15000, 32000, 65000]"
      ]
     },
     "execution_count": 3,
     "metadata": {},
     "output_type": "execute_result"
    }
   ],
   "source": [
    "sal =[20000,15000, 32000, 65000]\n",
    "sal"
   ]
  },
  {
   "cell_type": "code",
   "execution_count": 4,
   "id": "3515d300",
   "metadata": {},
   "outputs": [
    {
     "name": "stdout",
     "output_type": "stream",
     "text": [
      "20000\n",
      "32000\n",
      "65000\n"
     ]
    }
   ],
   "source": [
    "for val in sal:\n",
    "    if val > 15000:\n",
    "        print(val)"
   ]
  },
  {
   "cell_type": "code",
   "execution_count": 21,
   "id": "225afa92",
   "metadata": {},
   "outputs": [
    {
     "name": "stdout",
     "output_type": "stream",
     "text": [
      "35 -Pass\n",
      "65 -First Class\n",
      "57 -Second Class\n",
      "78 -Distinction\n",
      "21 -Better luck next time\n",
      "75 -Distinction\n",
      "87 -Distinction\n",
      "98 -Distinction\n",
      "79 -Distinction\n",
      "84 -Distinction\n"
     ]
    }
   ],
   "source": [
    "student_scores = [35,65,57,78,21,75,87,98,79,84]\n",
    "\n",
    "for marks in student_scores:\n",
    "    if marks > 60:\n",
    "        if marks > 70:\n",
    "            print(marks,'-Distinction')\n",
    "        else:\n",
    "            print(marks,'-First Class')\n",
    "                  \n",
    "    elif marks > 50 and marks <= 60:\n",
    "        print(marks,'-Second Class')\n",
    "        \n",
    "    elif marks >= 35:\n",
    "        print(marks,'-Pass') \n",
    "    else:\n",
    "        print(marks, '-Better luck next time')     "
   ]
  },
  {
   "cell_type": "code",
   "execution_count": 22,
   "id": "01b2eaa6",
   "metadata": {},
   "outputs": [
    {
     "data": {
      "text/plain": [
       "[20000, 15000, 32000, 65000]"
      ]
     },
     "execution_count": 22,
     "metadata": {},
     "output_type": "execute_result"
    }
   ],
   "source": [
    "sal"
   ]
  },
  {
   "cell_type": "code",
   "execution_count": 25,
   "id": "87f9c21c",
   "metadata": {},
   "outputs": [
    {
     "data": {
      "text/plain": [
       "[]"
      ]
     },
     "execution_count": 25,
     "metadata": {},
     "output_type": "execute_result"
    }
   ],
   "source": [
    "sal =[val for val in sal if val < 20000]\n",
    "sal"
   ]
  },
  {
   "cell_type": "code",
   "execution_count": 28,
   "id": "94b64420",
   "metadata": {},
   "outputs": [
    {
     "data": {
      "text/plain": [
       "[20000, 15000, 32000, 65000]"
      ]
     },
     "execution_count": 28,
     "metadata": {},
     "output_type": "execute_result"
    }
   ],
   "source": [
    "sal = [20000,15000, 32000, 65000]\n",
    "sal = [val for val in sal]\n",
    "sal"
   ]
  },
  {
   "cell_type": "code",
   "execution_count": 29,
   "id": "e5633d1b",
   "metadata": {},
   "outputs": [
    {
     "data": {
      "text/plain": [
       "[32000, 65000]"
      ]
     },
     "execution_count": 29,
     "metadata": {},
     "output_type": "execute_result"
    }
   ],
   "source": [
    "sal = [20000,15000,32000,65000]\n",
    "sal = [val for val in sal if val > 20000]\n",
    "sal"
   ]
  },
  {
   "cell_type": "code",
   "execution_count": 30,
   "id": "48940428",
   "metadata": {},
   "outputs": [
    {
     "name": "stdout",
     "output_type": "stream",
     "text": [
      "income_till_date >=  100\n",
      "income_till_date >=  250\n",
      "income_till_date >=  295\n",
      "income_till_date >=  418\n",
      "income_till_date >=  563\n",
      "income_till_date >=  733\n",
      "income_till_date >=  933\n"
     ]
    }
   ],
   "source": [
    "daily_sales = [100, 150, 45, 123, 145, 170, 200]\n",
    "\n",
    "income_till_date = 0\n",
    "\n",
    "for val in daily_sales:\n",
    "    income_till_date = income_till_date + val\n",
    "    print('income_till_date >= ', income_till_date)\n",
    "    "
   ]
  },
  {
   "cell_type": "code",
   "execution_count": 31,
   "id": "3fa48bc8",
   "metadata": {},
   "outputs": [
    {
     "name": "stdout",
     "output_type": "stream",
     "text": [
      "total weekly sales >=  933\n"
     ]
    }
   ],
   "source": [
    "daily_sales = [100, 150, 45, 123, 145, 170, 200]\n",
    "\n",
    "income_till_date = 0\n",
    "\n",
    "for val in daily_sales:\n",
    "    income_till_date = income_till_date + val\n",
    "    \n",
    "print('total weekly sales >= ', income_till_date)    "
   ]
  },
  {
   "cell_type": "code",
   "execution_count": 32,
   "id": "c80953c6",
   "metadata": {},
   "outputs": [
    {
     "name": "stdout",
     "output_type": "stream",
     "text": [
      "1 Shailesh\n",
      "2 Shailesh\n",
      "3 Shailesh\n",
      "4 Shailesh\n",
      "5 Shailesh\n",
      "6 Shailesh\n",
      "7 Shailesh\n",
      "8 Shailesh\n",
      "9 Shailesh\n",
      "10 Shailesh\n"
     ]
    }
   ],
   "source": [
    "i = 0\n",
    "\n",
    "while i < 10:\n",
    "    i = i +1\n",
    "    print(i, 'Shailesh')"
   ]
  },
  {
   "cell_type": "code",
   "execution_count": 34,
   "id": "a9c1c25a",
   "metadata": {},
   "outputs": [
    {
     "name": "stdout",
     "output_type": "stream",
     "text": [
      "time.struct_time(tm_year=2022, tm_mon=3, tm_mday=28, tm_hour=20, tm_min=56, tm_sec=30, tm_wday=0, tm_yday=87, tm_isdst=0)\n"
     ]
    }
   ],
   "source": [
    "import time\n",
    "result = time.localtime()\n",
    "print(result)"
   ]
  },
  {
   "cell_type": "code",
   "execution_count": 39,
   "id": "f833fece",
   "metadata": {},
   "outputs": [
    {
     "name": "stdout",
     "output_type": "stream",
     "text": [
      "wake up buddy\n"
     ]
    }
   ],
   "source": [
    "while True:\n",
    "    result = time.localtime()\n",
    "    if result.tm_hour == 21 and result.tm_min == 5:\n",
    "        print('wake up buddy')\n",
    "        break"
   ]
  },
  {
   "cell_type": "code",
   "execution_count": 42,
   "id": "187c678c",
   "metadata": {},
   "outputs": [
    {
     "name": "stdout",
     "output_type": "stream",
     "text": [
      "(0, 'sachin')\n",
      "(1, 'Dravid')\n",
      "(2, 'Laxman')\n",
      "(3, 'Rahul')\n",
      "(4, 'ganguly')\n"
     ]
    }
   ],
   "source": [
    "students = ['sachin', 'Dravid', 'Laxman','Rahul','ganguly']\n",
    "\n",
    "for i in enumerate(students):\n",
    "    print(i)"
   ]
  },
  {
   "cell_type": "code",
   "execution_count": 47,
   "id": "0c269af7",
   "metadata": {},
   "outputs": [
    {
     "name": "stdout",
     "output_type": "stream",
     "text": [
      "1 sachin\n",
      "2 Dravid\n",
      "3 Laxman\n",
      "4 Rahul\n",
      "5 ganguly\n"
     ]
    }
   ],
   "source": [
    "students = ['sachin', 'Dravid', 'Laxman','Rahul','ganguly']\n",
    "\n",
    "for i, name in enumerate(students, 1):\n",
    "    print(i,name)"
   ]
  },
  {
   "cell_type": "code",
   "execution_count": 48,
   "id": "dc5fff55",
   "metadata": {},
   "outputs": [
    {
     "data": {
      "text/plain": [
       "['sachin', 'Dravid', 'Laxman', 'Rahul', 'ganguly']"
      ]
     },
     "execution_count": 48,
     "metadata": {},
     "output_type": "execute_result"
    }
   ],
   "source": [
    "students"
   ]
  },
  {
   "cell_type": "code",
   "execution_count": 49,
   "id": "44a12fb9",
   "metadata": {},
   "outputs": [
    {
     "data": {
      "text/plain": [
       "[('sachin', 10),\n",
       " ('Dravid', 15),\n",
       " ('Laxman', 30),\n",
       " ('Rahul', 20),\n",
       " ('ganguly', 35)]"
      ]
     },
     "execution_count": 49,
     "metadata": {},
     "output_type": "execute_result"
    }
   ],
   "source": [
    "marks = [10, 15, 30, 20, 35]\n",
    "\n",
    "students_details = list(zip(students,marks))\n",
    "students_details\n"
   ]
  },
  {
   "cell_type": "code",
   "execution_count": 50,
   "id": "685e1856",
   "metadata": {},
   "outputs": [
    {
     "data": {
      "text/plain": [
       "('sachin', 'Dravid', 'Laxman', 'Rahul', 'ganguly')"
      ]
     },
     "execution_count": 50,
     "metadata": {},
     "output_type": "execute_result"
    }
   ],
   "source": [
    "students, marks = zip(*students_details)\n",
    "students"
   ]
  },
  {
   "cell_type": "code",
   "execution_count": 51,
   "id": "9ac963cf",
   "metadata": {},
   "outputs": [
    {
     "data": {
      "text/plain": [
       "(10, 15, 30, 20, 35)"
      ]
     },
     "execution_count": 51,
     "metadata": {},
     "output_type": "execute_result"
    }
   ],
   "source": [
    "marks"
   ]
  },
  {
   "cell_type": "code",
   "execution_count": 59,
   "id": "52a7f55d",
   "metadata": {},
   "outputs": [
    {
     "name": "stdout",
     "output_type": "stream",
     "text": [
      "1 ganguly 10\n",
      "2 ganguly 15\n",
      "3 ganguly 30\n",
      "4 ganguly 20\n",
      "5 ganguly 35\n"
     ]
    }
   ],
   "source": [
    "students_name = ['sachin', 'Dravid', 'Laxman','Rahul','ganguly']\n",
    "students_marks = [10, 15, 30, 20, 35]\n",
    "for i, (name,marks) in enumerate (zip(students_name,students_marks), 1):\n",
    "    print(i,students,marks)"
   ]
  },
  {
   "cell_type": "code",
   "execution_count": 90,
   "id": "835afc22",
   "metadata": {},
   "outputs": [],
   "source": [
    "location = ['kochi','kerla','Ranchi', 'Mysore','Bangal']\n",
    "\n",
    "for val in location:\n",
    "    if val == 'Mysore':\n",
    "        break\n",
    "        print(val)"
   ]
  },
  {
   "cell_type": "code",
   "execution_count": 129,
   "id": "37de2d57",
   "metadata": {},
   "outputs": [
    {
     "name": "stdout",
     "output_type": "stream",
     "text": [
      "kochi\n",
      "kerla\n"
     ]
    }
   ],
   "source": [
    "location = ['kochi','kerla','Ranchi', 'Mysore','Bangal']\n",
    "\n",
    "for val in location:\n",
    "    if val == 'Ranchi':\n",
    "        break\n",
    "    print(val)"
   ]
  },
  {
   "cell_type": "code",
   "execution_count": 73,
   "id": "e3625b31",
   "metadata": {},
   "outputs": [
    {
     "name": "stdout",
     "output_type": "stream",
     "text": [
      "20000\n",
      "22000\n",
      "34000\n",
      "55000\n"
     ]
    }
   ],
   "source": [
    "income = [20000,22000,34000,55000,57000,66000,90000]\n",
    "\n",
    "for val in income:\n",
    "    if val > 56000:\n",
    "        \n",
    "        break\n",
    "                         \n",
    "    print(val) \n",
    "        "
   ]
  },
  {
   "cell_type": "code",
   "execution_count": 26,
   "id": "8c37788e",
   "metadata": {},
   "outputs": [
    {
     "data": {
      "text/plain": [
       "['kochi', 'kerla', 'Ranchi', 'Mysore', 'Bangal']"
      ]
     },
     "execution_count": 26,
     "metadata": {},
     "output_type": "execute_result"
    }
   ],
   "source": [
    "location = ['kochi','kerla','Ranchi', 'Mysore','Bangal']\n",
    "location"
   ]
  },
  {
   "cell_type": "code",
   "execution_count": 16,
   "id": "8172e268",
   "metadata": {},
   "outputs": [
    {
     "name": "stdout",
     "output_type": "stream",
     "text": [
      "kochi\n",
      "kerla\n",
      "Ranchi\n",
      "Bangal\n"
     ]
    }
   ],
   "source": [
    "for val in location:\n",
    "    if val ==\"Mysore\":\n",
    "        continue\n",
    "    print(val)"
   ]
  },
  {
   "cell_type": "code",
   "execution_count": 74,
   "id": "99e39bad",
   "metadata": {},
   "outputs": [
    {
     "name": "stdout",
     "output_type": "stream",
     "text": [
      "10000\n",
      "15000\n"
     ]
    }
   ],
   "source": [
    "earning = [18000,25000,34000,10000,15000,19000]\n",
    "\n",
    "for val in earning:\n",
    "    if val > 16000:\n",
    "        continue\n",
    "    print(val)"
   ]
  },
  {
   "cell_type": "code",
   "execution_count": 75,
   "id": "c8a57e8d",
   "metadata": {},
   "outputs": [
    {
     "name": "stdout",
     "output_type": "stream",
     "text": [
      "range(0, 10)\n"
     ]
    }
   ],
   "source": [
    "print(range(10))"
   ]
  },
  {
   "cell_type": "code",
   "execution_count": 76,
   "id": "92787900",
   "metadata": {},
   "outputs": [
    {
     "name": "stdout",
     "output_type": "stream",
     "text": [
      "[0, 1, 2, 3, 4, 5, 6, 7, 8, 9]\n"
     ]
    }
   ],
   "source": [
    "print(list(range(10)))"
   ]
  },
  {
   "cell_type": "code",
   "execution_count": 78,
   "id": "c3301c7d",
   "metadata": {},
   "outputs": [
    {
     "data": {
      "text/plain": [
       "[1, 2, 3, 4, 5, 6, 7]"
      ]
     },
     "execution_count": 78,
     "metadata": {},
     "output_type": "execute_result"
    }
   ],
   "source": [
    "roll_numbers = list(range(1,8))\n",
    "roll_numbers"
   ]
  },
  {
   "cell_type": "code",
   "execution_count": 80,
   "id": "b2af0e0f",
   "metadata": {},
   "outputs": [
    {
     "data": {
      "text/plain": [
       "[0, 3, 6, 9, 12, 15, 18, 21, 24, 27, 30]"
      ]
     },
     "execution_count": 80,
     "metadata": {},
     "output_type": "execute_result"
    }
   ],
   "source": [
    "step_size = list((range(0,31,3)))\n",
    "step_size"
   ]
  },
  {
   "cell_type": "code",
   "execution_count": 81,
   "id": "315df80d",
   "metadata": {},
   "outputs": [
    {
     "data": {
      "text/plain": [
       "[1600,\n",
       " 1500,\n",
       " 1400,\n",
       " 1300,\n",
       " 1200,\n",
       " 1100,\n",
       " 1000,\n",
       " 900,\n",
       " 800,\n",
       " 700,\n",
       " 600,\n",
       " 500,\n",
       " 400,\n",
       " 300,\n",
       " 200]"
      ]
     },
     "execution_count": 81,
     "metadata": {},
     "output_type": "execute_result"
    }
   ],
   "source": [
    "new_set= list(range(1600,100,-100))\n",
    "new_set"
   ]
  },
  {
   "cell_type": "code",
   "execution_count": null,
   "id": "c765dc16",
   "metadata": {},
   "outputs": [],
   "source": []
  }
 ],
 "metadata": {
  "kernelspec": {
   "display_name": "Python 3 (ipykernel)",
   "language": "python",
   "name": "python3"
  },
  "language_info": {
   "codemirror_mode": {
    "name": "ipython",
    "version": 3
   },
   "file_extension": ".py",
   "mimetype": "text/x-python",
   "name": "python",
   "nbconvert_exporter": "python",
   "pygments_lexer": "ipython3",
   "version": "3.9.7"
  }
 },
 "nbformat": 4,
 "nbformat_minor": 5
}
