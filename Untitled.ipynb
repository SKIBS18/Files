{
 "cells": [
  {
   "cell_type": "code",
   "execution_count": 10,
   "id": "2c948154",
   "metadata": {},
   "outputs": [
    {
     "name": "stdout",
     "output_type": "stream",
     "text": [
      "22500\n",
      "19350\n",
      "10250\n",
      "15505\n"
     ]
    }
   ],
   "source": [
    "emp_salary = [22500,50005,45000,19350,25000,10250,15505]\n",
    "for i in emp_salary:\n",
    "    if i < 25000:\n",
    "        print(i)\n",
    "        New_salary ='i'"
   ]
  },
  {
   "cell_type": "code",
   "execution_count": 11,
   "id": "8f0161a3",
   "metadata": {},
   "outputs": [
    {
     "data": {
      "text/plain": [
       "'i'"
      ]
     },
     "execution_count": 11,
     "metadata": {},
     "output_type": "execute_result"
    }
   ],
   "source": [
    "New_salary"
   ]
  },
  {
   "cell_type": "code",
   "execution_count": null,
   "id": "9e1b6e6f",
   "metadata": {},
   "outputs": [],
   "source": []
  }
 ],
 "metadata": {
  "kernelspec": {
   "display_name": "Python 3 (ipykernel)",
   "language": "python",
   "name": "python3"
  },
  "language_info": {
   "codemirror_mode": {
    "name": "ipython",
    "version": 3
   },
   "file_extension": ".py",
   "mimetype": "text/x-python",
   "name": "python",
   "nbconvert_exporter": "python",
   "pygments_lexer": "ipython3",
   "version": "3.9.7"
  }
 },
 "nbformat": 4,
 "nbformat_minor": 5
}
