{
 "cells": [
  {
   "cell_type": "code",
   "execution_count": 1,
   "id": "0fd88c39",
   "metadata": {},
   "outputs": [
    {
     "name": "stdout",
     "output_type": "stream",
     "text": [
      "printing inside the fun and total is =  45\n"
     ]
    }
   ],
   "source": [
    "extra_marks = 10\n",
    "\n",
    "def tot_scor_global():\n",
    "    \n",
    "    print('printing inside the fun and total is = ', extra_marks + 35)\n",
    "    \n",
    "tot_scor_global()"
   ]
  },
  {
   "cell_type": "code",
   "execution_count": 4,
   "id": "7ff64b21",
   "metadata": {},
   "outputs": [
    {
     "name": "stdout",
     "output_type": "stream",
     "text": [
      "printing inside the fun and total is =  45\n",
      "printing outside the fun and total is =  45\n"
     ]
    }
   ],
   "source": [
    "extra_marks = 10\n",
    "\n",
    "def tot_scor_global():\n",
    "    \n",
    "    print('printing inside the fun and total is = ', extra_marks + 35)\n",
    "       \n",
    "tot_scor_global()   \n",
    "\n",
    "print('printing outside the fun and total is = ', extra_marks + 35)"
   ]
  },
  {
   "cell_type": "code",
   "execution_count": 5,
   "id": "7c71b987",
   "metadata": {},
   "outputs": [
    {
     "name": "stdout",
     "output_type": "stream",
     "text": [
      "printing outside the fun and total is =  50\n"
     ]
    }
   ],
   "source": [
    "print('printing outside the fun and total is = ', extra_marks + 40)"
   ]
  },
  {
   "cell_type": "code",
   "execution_count": 6,
   "id": "dc4d0161",
   "metadata": {},
   "outputs": [
    {
     "name": "stdout",
     "output_type": "stream",
     "text": [
      "print inside yhe fun and total is =  50\n"
     ]
    }
   ],
   "source": [
    "def tot_scor_global():\n",
    "    \n",
    "    some_marks =20\n",
    "    print('print inside the fun and total is = ', some_marks+30)\n",
    "    \n",
    "tot_scor_global()    \n",
    "    "
   ]
  },
  {
   "cell_type": "code",
   "execution_count": 7,
   "id": "cfe8daa0",
   "metadata": {},
   "outputs": [
    {
     "ename": "NameError",
     "evalue": "name 'some_marks' is not defined",
     "output_type": "error",
     "traceback": [
      "\u001b[1;31m---------------------------------------------------------------------------\u001b[0m",
      "\u001b[1;31mNameError\u001b[0m                                 Traceback (most recent call last)",
      "\u001b[1;32m~\\AppData\\Local\\Temp/ipykernel_5280/3372566520.py\u001b[0m in \u001b[0;36m<module>\u001b[1;34m\u001b[0m\n\u001b[1;32m----> 1\u001b[1;33m \u001b[0mprint\u001b[0m\u001b[1;33m(\u001b[0m\u001b[1;34m'print outside the fun and total is = '\u001b[0m\u001b[1;33m,\u001b[0m \u001b[0msome_marks\u001b[0m\u001b[1;33m+\u001b[0m\u001b[1;36m30\u001b[0m\u001b[1;33m)\u001b[0m\u001b[1;33m\u001b[0m\u001b[1;33m\u001b[0m\u001b[0m\n\u001b[0m",
      "\u001b[1;31mNameError\u001b[0m: name 'some_marks' is not defined"
     ]
    }
   ],
   "source": [
    "print('print outside the fun and total is = ', some_marks+30)"
   ]
  },
  {
   "cell_type": "code",
   "execution_count": 8,
   "id": "53697940",
   "metadata": {},
   "outputs": [
    {
     "name": "stdout",
     "output_type": "stream",
     "text": [
      "print inside the fun and total is =  50\n"
     ]
    }
   ],
   "source": [
    "def tot_scor_global():\n",
    "    \n",
    "    global some_marks\n",
    "    some_marks =20\n",
    "    print('print inside the fun and total is = ', some_marks+30)\n",
    "    \n",
    "tot_scor_global() "
   ]
  },
  {
   "cell_type": "code",
   "execution_count": 9,
   "id": "457d0aef",
   "metadata": {},
   "outputs": [
    {
     "name": "stdout",
     "output_type": "stream",
     "text": [
      "print outside the fun and total is =  50\n"
     ]
    }
   ],
   "source": [
    "print('print outside the fun and total is = ', some_marks+30)"
   ]
  },
  {
   "cell_type": "code",
   "execution_count": null,
   "id": "c5588baf",
   "metadata": {},
   "outputs": [],
   "source": []
  }
 ],
 "metadata": {
  "kernelspec": {
   "display_name": "Python 3 (ipykernel)",
   "language": "python",
   "name": "python3"
  },
  "language_info": {
   "codemirror_mode": {
    "name": "ipython",
    "version": 3
   },
   "file_extension": ".py",
   "mimetype": "text/x-python",
   "name": "python",
   "nbconvert_exporter": "python",
   "pygments_lexer": "ipython3",
   "version": "3.9.7"
  }
 },
 "nbformat": 4,
 "nbformat_minor": 5
}
