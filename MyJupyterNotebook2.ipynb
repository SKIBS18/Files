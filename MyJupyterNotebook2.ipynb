{
 "cells": [
  {
   "cell_type": "code",
   "execution_count": 1,
   "id": "e3e1ee82",
   "metadata": {},
   "outputs": [
    {
     "name": "stdout",
     "output_type": "stream",
     "text": [
      "it is something else\n"
     ]
    }
   ],
   "source": [
    "i = 8\n",
    "\n",
    "if i > 10:\n",
    "    print('it is less than 10')\n",
    "    \n",
    "else:\n",
    "    print('it is something else')"
   ]
  },
  {
   "cell_type": "code",
   "execution_count": 4,
   "id": "ae2fa2cc",
   "metadata": {},
   "outputs": [
    {
     "name": "stdout",
     "output_type": "stream",
     "text": [
      "please add Rs 100 for free shipping\n"
     ]
    }
   ],
   "source": [
    "item_1 = 200\n",
    "item_2 = 200\n",
    "\n",
    "if(item_1 + item_2 >= 500):\n",
    "    print('Your item is eligible for free shipping')\n",
    "    \n",
    "else:\n",
    "    extra = 500 - (item_1 + item_2)\n",
    "    print('please add Rs',extra, 'for free shipping')"
   ]
  },
  {
   "cell_type": "code",
   "execution_count": 6,
   "id": "5e03302b",
   "metadata": {},
   "outputs": [
    {
     "name": "stdout",
     "output_type": "stream",
     "text": [
      "both are not true\n"
     ]
    }
   ],
   "source": [
    "a = 200\n",
    "\n",
    "b = 33\n",
    "\n",
    "c = 500\n",
    "\n",
    "if a > b and c < a:\n",
    "    print('Both condition are true')\n",
    "    \n",
    "else:\n",
    "    print('both are not true')"
   ]
  },
  {
   "cell_type": "code",
   "execution_count": 7,
   "id": "44022d1e",
   "metadata": {},
   "outputs": [
    {
     "name": "stdout",
     "output_type": "stream",
     "text": [
      "at least one condition is true\n"
     ]
    }
   ],
   "source": [
    "a = 200\n",
    "\n",
    "b = 33\n",
    "\n",
    "c = 500\n",
    "\n",
    "if a > b or c < a:\n",
    "    print('at least one condition is true')\n"
   ]
  },
  {
   "cell_type": "code",
   "execution_count": 13,
   "id": "58dee8ac",
   "metadata": {},
   "outputs": [
    {
     "name": "stdout",
     "output_type": "stream",
     "text": [
      "Pass\n"
     ]
    }
   ],
   "source": [
    "marks = 48\n",
    "\n",
    "if marks > 60:\n",
    "    if marks > 70:\n",
    "        print('Distinction')\n",
    "    else:\n",
    "        print('First Class')\n",
    "        \n",
    "elif marks >50 and marks <= 60:\n",
    "    print('Second Class')\n",
    "    \n",
    "elif marks >= 35:\n",
    "    print('Pass')\n",
    "else:\n",
    "    print('Better luck next time')"
   ]
  },
  {
   "cell_type": "code",
   "execution_count": 20,
   "id": "2de90ed2",
   "metadata": {},
   "outputs": [
    {
     "name": "stdout",
     "output_type": "stream",
     "text": [
      "Its greater than 25\n"
     ]
    }
   ],
   "source": [
    "num1 = 20\n",
    "num2 = 30\n",
    "\n",
    "if num1 == '20':\n",
    "    print('Its not 20')\n",
    "    \n",
    "elif num2 > 25:\n",
    "    print('Its greater than 25')"
   ]
  },
  {
   "cell_type": "code",
   "execution_count": null,
   "id": "a0ebcdde",
   "metadata": {},
   "outputs": [],
   "source": []
  }
 ],
 "metadata": {
  "kernelspec": {
   "display_name": "Python 3 (ipykernel)",
   "language": "python",
   "name": "python3"
  },
  "language_info": {
   "codemirror_mode": {
    "name": "ipython",
    "version": 3
   },
   "file_extension": ".py",
   "mimetype": "text/x-python",
   "name": "python",
   "nbconvert_exporter": "python",
   "pygments_lexer": "ipython3",
   "version": "3.9.7"
  }
 },
 "nbformat": 4,
 "nbformat_minor": 5
}
