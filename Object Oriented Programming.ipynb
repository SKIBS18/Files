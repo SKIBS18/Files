{
 "cells": [
  {
   "cell_type": "code",
   "execution_count": 2,
   "id": "a451d634",
   "metadata": {},
   "outputs": [],
   "source": [
    "class Gmail:\n",
    "    def __init__(self,name,last_name,city,user_id,password):\n",
    "        \n",
    "        #dataInitializtion\n",
    "        self.name = name\n",
    "        self.last_name = last_name\n",
    "        self.city = city\n",
    "        self.user_id = user_id\n",
    "        self.password = password\n",
    "        \n",
    "    def login(self):\n",
    "        while True:\n",
    "            signin = input('email - ')\n",
    "            password = input('enter password')\n",
    "            if signin == self.user_id and password == self.password:\n",
    "                print('successfully logged in')\n",
    "                break\n",
    "            else:\n",
    "                print('user_id and password do not match')\n",
    "                continue\n",
    "      \n",
    "    def perosnal_info(self):\n",
    "        print('Name',self.name)\n",
    "        print('last_name',self.last_name)\n",
    "        print('city',self.city)\n",
    "        \n",
    "    def general(self):\n",
    "        print('User id :', self.user_id)\n",
    "        print('Language :','English(US)')"
   ]
  },
  {
   "cell_type": "code",
   "execution_count": 3,
   "id": "a26d8c90",
   "metadata": {},
   "outputs": [
    {
     "name": "stdout",
     "output_type": "stream",
     "text": [
      "email - virat_123\n",
      "enter passwordvirat@123\n",
      "successfully logged in\n"
     ]
    }
   ],
   "source": [
    "mail = Gmail('Virat','kohli','Delhi','virat_123','virat@123')\n",
    "mail.login()"
   ]
  },
  {
   "cell_type": "code",
   "execution_count": 4,
   "id": "4f46a604",
   "metadata": {},
   "outputs": [
    {
     "name": "stdout",
     "output_type": "stream",
     "text": [
      "Name Virat\n",
      "last_name kohli\n",
      "city Delhi\n"
     ]
    }
   ],
   "source": [
    "mail.perosnal_info()"
   ]
  },
  {
   "cell_type": "code",
   "execution_count": 5,
   "id": "adf910f6",
   "metadata": {},
   "outputs": [
    {
     "name": "stdout",
     "output_type": "stream",
     "text": [
      "User id : virat_123\n",
      "Language : English(US)\n"
     ]
    }
   ],
   "source": [
    "mail.general()"
   ]
  },
  {
   "cell_type": "code",
   "execution_count": 6,
   "id": "a52c8755",
   "metadata": {},
   "outputs": [],
   "source": [
    "class Gmail_new(Gmail):\n",
    "    def __init__(self,phone_number,*args):\n",
    "        super(Gmail_new,self).__init__(*args)\n",
    "        self.phone_number = phone_number\n",
    "    def password_recovery(self):\n",
    "        phone = int(input('enter registered mobile number'))\n",
    "        if phone == self.phone_number:\n",
    "            print('Your password is : ', self.password)\n",
    "        else:\n",
    "            print('Invalid number')"
   ]
  },
  {
   "cell_type": "code",
   "execution_count": 8,
   "id": "c4cb5fe5",
   "metadata": {},
   "outputs": [
    {
     "name": "stdout",
     "output_type": "stream",
     "text": [
      "enter registered mobile number1234567890\n",
      "Your password is :  Virat@123\n"
     ]
    }
   ],
   "source": [
    "new_mail = Gmail_new(1234567890,'Virat','Kohli','Delhi','Virat_123','Virat@123')\n",
    "new_mail.password_recovery() "
   ]
  },
  {
   "cell_type": "code",
   "execution_count": 11,
   "id": "f5059c31",
   "metadata": {},
   "outputs": [],
   "source": [
    "class Gmail_new(Gmail):\n",
    "    def __init__(self,phone_number,*args):\n",
    "        super(Gmail_new,self).__init__(*args)\n",
    "        self.phone_number = phone_number\n",
    "    def password_recovery(self):\n",
    "        while True:\n",
    "            phone = int(input('enter registered mobile number'))\n",
    "            if phone == self.phone_number:\n",
    "                print('Your password is : ', self.password)\n",
    "                break\n",
    "            else:\n",
    "                print('enter correct phone number')\n",
    "                continue\n",
    "        "
   ]
  },
  {
   "cell_type": "code",
   "execution_count": 13,
   "id": "d788389e",
   "metadata": {},
   "outputs": [
    {
     "name": "stdout",
     "output_type": "stream",
     "text": [
      "enter registered mobile number123456789\n",
      "enter correct phone number\n",
      "enter registered mobile number123456\n",
      "enter correct phone number\n",
      "enter registered mobile number1234567890\n",
      "Your password is :  Virat@123\n"
     ]
    }
   ],
   "source": [
    "new_mail = Gmail_new(1234567890,'Virat','Kohli','Delhi','Virat_123','Virat@123')\n",
    "new_mail.password_recovery()"
   ]
  },
  {
   "cell_type": "code",
   "execution_count": 12,
   "id": "b2c9683e",
   "metadata": {},
   "outputs": [
    {
     "name": "stdout",
     "output_type": "stream",
     "text": [
      "Tyre:\n",
      " \tBranch: MRF \n",
      " \tbelted_bias : True\n",
      " \topt_pressure:34\n",
      "Engine \n",
      " \tFuel_type:Petrol\n",
      " \tNoise_level :2.4\n",
      "Body \n",
      "\tSize :SUV\n"
     ]
    }
   ],
   "source": [
    "class Tyre:\n",
    "    def __init__(self,branch,belted_bias,opt_pressure):\n",
    "        self.branch = branch\n",
    "        self.belted_bias = belted_bias\n",
    "        self.opt_pressure = opt_pressure\n",
    "\n",
    "    def __str__(self):\n",
    "        return(\"Tyre:\\n \\tBranch: \"+ self.branch + \" \\n \\tbelted_bias : \" + str(self.belted_bias) + \n",
    "               \"\\n \\topt_pressure:\"+ str(self.opt_pressure))\n",
    "    \n",
    "    \n",
    "class Engine:\n",
    "    def __init__(self, fuel_type, noise_level):\n",
    "        self.fuel_type = fuel_type\n",
    "        self.noise_level = noise_level\n",
    "        \n",
    "    def __str__(self):\n",
    "        return(\"Engine \\n \\tFuel_type:\" + self.fuel_type + \"\\n \\tNoise_level :\" + str(self.noise_level))\n",
    "    \n",
    "    \n",
    "    \n",
    "class Body:\n",
    "    def __init__(self,size):\n",
    "        self.size = size\n",
    "        \n",
    "    def __str__(self):\n",
    "        \n",
    "        return \"Body \\n\\tSize :\"+ self.size\n",
    "\n",
    "class Car:\n",
    "    def __init__(self,tyre,engine,body):\n",
    "        self.tyre = tyre\n",
    "        self.engine = engine\n",
    "        self.body = body\n",
    "        \n",
    "    def __str__(self):\n",
    "        return str(self.tyre) + \"\\n\" + str(self.engine) + \"\\n\" + str(self.body)\n",
    "        \n",
    "    \n",
    "t = Tyre('MRF',True, 34)\n",
    "e = Engine('Petrol', 2.4)\n",
    "b = Body('SUV')\n",
    "\n",
    "c = Car(t,e,b)\n",
    "print(c)\n",
    "    "
   ]
  },
  {
   "cell_type": "code",
   "execution_count": null,
   "id": "40eaf0f0",
   "metadata": {},
   "outputs": [],
   "source": []
  }
 ],
 "metadata": {
  "kernelspec": {
   "display_name": "Python 3 (ipykernel)",
   "language": "python",
   "name": "python3"
  },
  "language_info": {
   "codemirror_mode": {
    "name": "ipython",
    "version": 3
   },
   "file_extension": ".py",
   "mimetype": "text/x-python",
   "name": "python",
   "nbconvert_exporter": "python",
   "pygments_lexer": "ipython3",
   "version": "3.9.7"
  }
 },
 "nbformat": 4,
 "nbformat_minor": 5
}
