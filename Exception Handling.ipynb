{
 "cells": [
  {
   "cell_type": "code",
   "execution_count": 4,
   "id": "f4be11b7",
   "metadata": {},
   "outputs": [],
   "source": [
    "marks_1 = 40\n",
    "\n",
    "subject = 'data science'\n",
    "\n",
    "marks_2 = 30"
   ]
  },
  {
   "cell_type": "code",
   "execution_count": 2,
   "id": "49d1d358",
   "metadata": {},
   "outputs": [
    {
     "name": "stdout",
     "output_type": "stream",
     "text": [
      "you are adding interger to string\n"
     ]
    }
   ],
   "source": [
    "try:\n",
    "    total = marks_1 + subject\n",
    "    \n",
    "except:\n",
    "    \n",
    "    print('you are adding interger to string')\n",
    "    \n",
    "else:\n",
    "    \n",
    "    print('total = ')\n",
    "    \n",
    "    \n",
    "    "
   ]
  },
  {
   "cell_type": "code",
   "execution_count": 6,
   "id": "a811f1b0",
   "metadata": {},
   "outputs": [],
   "source": [
    "marks_1 =30\n",
    "marks_2 =32"
   ]
  },
  {
   "cell_type": "code",
   "execution_count": 9,
   "id": "324b79c5",
   "metadata": {},
   "outputs": [
    {
     "name": "stdout",
     "output_type": "stream",
     "text": [
      "total marks =  62\n"
     ]
    }
   ],
   "source": [
    "try:\n",
    "    total = marks_1 + marks_2\n",
    "    \n",
    "except:\n",
    "    \n",
    "    print('you are adding interger to string')\n",
    "    \n",
    "else:\n",
    "    \n",
    "    print('total marks = ', total)"
   ]
  },
  {
   "cell_type": "code",
   "execution_count": 19,
   "id": "ea4fa9b2",
   "metadata": {},
   "outputs": [
    {
     "name": "stdout",
     "output_type": "stream",
     "text": [
      "enter car numberfgh78yu654\n",
      "enter mobile num\n",
      "enter nameshailesh\n",
      "\n",
      " mobile number is required \n",
      "\n"
     ]
    }
   ],
   "source": [
    "try:\n",
    "    car_number = input('enter car number')\n",
    "    mobile = (input('enter mobile num'))\n",
    "    name =input('enter name')\n",
    "    \n",
    "    if car_number == '':\n",
    "        raise exception()\n",
    "    elif mobile == '':\n",
    "        raise exception\n",
    "    elif name == '':\n",
    "        raise exception()\n",
    "    else:\n",
    "        pass\n",
    "    \n",
    "except:\n",
    "    \n",
    "    if car_number == '':\n",
    "        print('\\n Registration number is required \\n')\n",
    "    if mobile == '':\n",
    "        print('\\n mobile number is required \\n')\n",
    "    if name == '':\n",
    "        print('\\n name field is required \\n')\n",
    "        \n",
    "else:\n",
    "    \n",
    "    print('thanks for all details')\n",
    "    "
   ]
  },
  {
   "cell_type": "code",
   "execution_count": 16,
   "id": "9179b4bf",
   "metadata": {},
   "outputs": [
    {
     "name": "stdout",
     "output_type": "stream",
     "text": [
      "enter car number\n",
      "enter mobile num\n",
      "enter name\n",
      "\n",
      " Registration number is required \n",
      "\n",
      "\n",
      " mobile number is required \n",
      "\n",
      "\n",
      " name field is required \n",
      "\n",
      "No matter what happens to try & execute\n"
     ]
    }
   ],
   "source": [
    "try:\n",
    "    car_number = input('enter car number')\n",
    "    mobile = input('enter mobile num')\n",
    "    name =input('enter name')\n",
    "    \n",
    "    if car_number == '':\n",
    "        raise exception()\n",
    "    elif mobile == '':\n",
    "        raise exception\n",
    "    elif name == '':\n",
    "        raise exception()\n",
    "    else:\n",
    "        pass\n",
    "    \n",
    "except:\n",
    "    \n",
    "    if car_number == '':\n",
    "        print('\\n Registration number is required \\n')\n",
    "    if mobile == '':\n",
    "        print('\\n mobile number is required \\n')\n",
    "    if name == '':\n",
    "        print('\\n name field is required \\n')\n",
    "        \n",
    "finally:\n",
    "    \n",
    "    print('No matter what happens to try & execute')"
   ]
  },
  {
   "cell_type": "code",
   "execution_count": 1,
   "id": "2898fc9f",
   "metadata": {},
   "outputs": [
    {
     "name": "stdout",
     "output_type": "stream",
     "text": [
      "enter mobile numberg7gh67888\n",
      "looks like you didnt enter integer\n"
     ]
    },
    {
     "ename": "UnboundLocalError",
     "evalue": "local variable 'val' referenced before assignment",
     "output_type": "error",
     "traceback": [
      "\u001b[1;31m---------------------------------------------------------------------------\u001b[0m",
      "\u001b[1;31mUnboundLocalError\u001b[0m                         Traceback (most recent call last)",
      "\u001b[1;32m~\\AppData\\Local\\Temp/ipykernel_1536/3718043824.py\u001b[0m in \u001b[0;36m<module>\u001b[1;34m\u001b[0m\n\u001b[0;32m      8\u001b[0m     \u001b[0mprint\u001b[0m\u001b[1;33m(\u001b[0m\u001b[0mval\u001b[0m\u001b[1;33m)\u001b[0m\u001b[1;33m\u001b[0m\u001b[1;33m\u001b[0m\u001b[0m\n\u001b[0;32m      9\u001b[0m \u001b[1;33m\u001b[0m\u001b[0m\n\u001b[1;32m---> 10\u001b[1;33m \u001b[0mmobile_num\u001b[0m\u001b[1;33m(\u001b[0m\u001b[1;33m)\u001b[0m\u001b[1;33m\u001b[0m\u001b[1;33m\u001b[0m\u001b[0m\n\u001b[0m\u001b[0;32m     11\u001b[0m \u001b[1;33m\u001b[0m\u001b[0m\n",
      "\u001b[1;32m~\\AppData\\Local\\Temp/ipykernel_1536/3718043824.py\u001b[0m in \u001b[0;36mmobile_num\u001b[1;34m()\u001b[0m\n\u001b[0;32m      6\u001b[0m         \u001b[0mprint\u001b[0m\u001b[1;33m(\u001b[0m\u001b[1;34m'looks like you didnt enter integer'\u001b[0m\u001b[1;33m)\u001b[0m\u001b[1;33m\u001b[0m\u001b[1;33m\u001b[0m\u001b[0m\n\u001b[0;32m      7\u001b[0m \u001b[1;33m\u001b[0m\u001b[0m\n\u001b[1;32m----> 8\u001b[1;33m     \u001b[0mprint\u001b[0m\u001b[1;33m(\u001b[0m\u001b[0mval\u001b[0m\u001b[1;33m)\u001b[0m\u001b[1;33m\u001b[0m\u001b[1;33m\u001b[0m\u001b[0m\n\u001b[0m\u001b[0;32m      9\u001b[0m \u001b[1;33m\u001b[0m\u001b[0m\n\u001b[0;32m     10\u001b[0m \u001b[0mmobile_num\u001b[0m\u001b[1;33m(\u001b[0m\u001b[1;33m)\u001b[0m\u001b[1;33m\u001b[0m\u001b[1;33m\u001b[0m\u001b[0m\n",
      "\u001b[1;31mUnboundLocalError\u001b[0m: local variable 'val' referenced before assignment"
     ]
    }
   ],
   "source": [
    "def mobile_num():\n",
    "    \n",
    "    try:\n",
    "        val = int(input('enter mobile number'))\n",
    "    except:\n",
    "        print('looks like you didnt enter integer')\n",
    "        \n",
    "    print(val)  \n",
    "    \n",
    "mobile_num()    \n",
    "    "
   ]
  },
  {
   "cell_type": "code",
   "execution_count": 10,
   "id": "79cafa01",
   "metadata": {},
   "outputs": [],
   "source": [
    "def mobile_num():\n",
    "    \n",
    "    while True:\n",
    "        try:\n",
    "            val = int(input('enter mobile number'))\n",
    "        except:\n",
    "            print('Looks like you didnt enter integer')\n",
    "            continue\n",
    "            \n",
    "        else:\n",
    "            \n",
    "             if len(str(val)) != 10:\n",
    "                    print('please enter ten digit num')\n",
    "                    continue\n",
    "        print('Thank you')\n",
    "        break"
   ]
  },
  {
   "cell_type": "code",
   "execution_count": 11,
   "id": "944655e0",
   "metadata": {},
   "outputs": [
    {
     "name": "stdout",
     "output_type": "stream",
     "text": [
      "enter mobile numberfggjj678\n",
      "Looks like you didnt enter integer\n",
      "enter mobile number12345\n",
      "please enter ten digit num\n",
      "enter mobile number1234567890\n",
      "Thank you\n"
     ]
    }
   ],
   "source": [
    "mobile_num()"
   ]
  },
  {
   "cell_type": "code",
   "execution_count": null,
   "id": "66dfafca",
   "metadata": {},
   "outputs": [],
   "source": []
  }
 ],
 "metadata": {
  "kernelspec": {
   "display_name": "Python 3 (ipykernel)",
   "language": "python",
   "name": "python3"
  },
  "language_info": {
   "codemirror_mode": {
    "name": "ipython",
    "version": 3
   },
   "file_extension": ".py",
   "mimetype": "text/x-python",
   "name": "python",
   "nbconvert_exporter": "python",
   "pygments_lexer": "ipython3",
   "version": "3.9.7"
  }
 },
 "nbformat": 4,
 "nbformat_minor": 5
}
