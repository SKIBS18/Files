{
 "cells": [
  {
   "cell_type": "code",
   "execution_count": 1,
   "id": "99139e71",
   "metadata": {},
   "outputs": [],
   "source": [
    "from numpy.random import randint as ri\n",
    "import pandas as pd"
   ]
  },
  {
   "cell_type": "code",
   "execution_count": 2,
   "id": "313276fa",
   "metadata": {},
   "outputs": [
    {
     "data": {
      "text/plain": [
       "0    54\n",
       "1    45\n",
       "2    42\n",
       "3    66\n",
       "4    62\n",
       "dtype: int32"
      ]
     },
     "execution_count": 2,
     "metadata": {},
     "output_type": "execute_result"
    }
   ],
   "source": [
    "#1000 students and probability of student scoring 50 marks\n",
    "marks = ri(30,100,1000)\n",
    "stud_marks = pd.Series(marks)\n",
    "stud_marks.head()"
   ]
  },
  {
   "cell_type": "code",
   "execution_count": 3,
   "id": "078889e7",
   "metadata": {},
   "outputs": [
    {
     "name": "stdout",
     "output_type": "stream",
     "text": [
      "Mean_marks: 64.752\n"
     ]
    }
   ],
   "source": [
    "mean_marks = stud_marks.mean()\n",
    "print('Mean_marks:',mean_marks)"
   ]
  },
  {
   "cell_type": "code",
   "execution_count": 4,
   "id": "63b8f054",
   "metadata": {},
   "outputs": [
    {
     "name": "stdout",
     "output_type": "stream",
     "text": [
      "Std_Dev: 20.270110344380793\n"
     ]
    }
   ],
   "source": [
    "marks_std = stud_marks.std()\n",
    "print('Std_Dev:',marks_std)"
   ]
  },
  {
   "cell_type": "code",
   "execution_count": 6,
   "id": "f9419ae6",
   "metadata": {},
   "outputs": [
    {
     "name": "stdout",
     "output_type": "stream",
     "text": [
      "0.23337686675899194\n"
     ]
    }
   ],
   "source": [
    "x = 50\n",
    "\n",
    "import scipy.stats as st\n",
    "prob = st.norm.cdf(x,loc=mean_marks,scale=marks_std)\n",
    "print(prob)"
   ]
  },
  {
   "cell_type": "code",
   "execution_count": 8,
   "id": "25705e60",
   "metadata": {},
   "outputs": [
    {
     "name": "stdout",
     "output_type": "stream",
     "text": [
      "0.4073240912646396\n"
     ]
    }
   ],
   "source": [
    "x1 = 60\n",
    "prob_2 = st.norm.cdf(x1,loc=mean_marks,scale=marks_std)\n",
    "print(prob_2)"
   ]
  },
  {
   "cell_type": "code",
   "execution_count": 10,
   "id": "674410ed",
   "metadata": {},
   "outputs": [
    {
     "name": "stdout",
     "output_type": "stream",
     "text": [
      "0.17394722450564765\n"
     ]
    }
   ],
   "source": [
    "#probability of scoring between 50 and 60\n",
    "y = prob_2 - prob\n",
    "print(y)"
   ]
  },
  {
   "cell_type": "code",
   "execution_count": 13,
   "id": "2eabe902",
   "metadata": {},
   "outputs": [],
   "source": [
    "#car manufacturing claims mileage to be 25 kmph.Population std. dev from past experince is 1.5 kmpl.\n",
    "#Car rental company waants to test null hypothesis that avearge mileage is at least 25kmpl.\n",
    "#Car rental reprensentative drove 30 car of same compnay and recorded each car mileage.\n",
    "# Avg mileage turns out to be 24.2 kmpl.Test null hypotheis .\n",
    "\n"
   ]
  },
  {
   "cell_type": "code",
   "execution_count": 14,
   "id": "4975a59b",
   "metadata": {},
   "outputs": [],
   "source": [
    "import numpy as np\n",
    "mean = 25\n",
    "sample_mean = 24.2\n",
    "std = 1.5\n",
    "n = 30"
   ]
  },
  {
   "cell_type": "code",
   "execution_count": 16,
   "id": "824c21d3",
   "metadata": {},
   "outputs": [
    {
     "data": {
      "text/plain": [
       "-2.921186973360889"
      ]
     },
     "execution_count": 16,
     "metadata": {},
     "output_type": "execute_result"
    }
   ],
   "source": [
    "z = (sample_mean-mean)/(std/np.sqrt(30))\n",
    "z"
   ]
  },
  {
   "cell_type": "code",
   "execution_count": 17,
   "id": "57357e4f",
   "metadata": {},
   "outputs": [
    {
     "data": {
      "text/plain": [
       "0.0017435024460706768"
      ]
     },
     "execution_count": 17,
     "metadata": {},
     "output_type": "execute_result"
    }
   ],
   "source": [
    "import scipy.stats as st\n",
    "p_value = st.norm.cdf(sample_mean,loc=mean,scale=std/np.sqrt(n))\n",
    "p_value"
   ]
  },
  {
   "cell_type": "code",
   "execution_count": null,
   "id": "2b912c6d",
   "metadata": {},
   "outputs": [],
   "source": [
    "#P_value < .05\n",
    "#Reject null Hypothesis"
   ]
  },
  {
   "cell_type": "code",
   "execution_count": 18,
   "id": "2d34d609",
   "metadata": {},
   "outputs": [
    {
     "data": {
      "text/html": [
       "<div>\n",
       "<style scoped>\n",
       "    .dataframe tbody tr th:only-of-type {\n",
       "        vertical-align: middle;\n",
       "    }\n",
       "\n",
       "    .dataframe tbody tr th {\n",
       "        vertical-align: top;\n",
       "    }\n",
       "\n",
       "    .dataframe thead th {\n",
       "        text-align: right;\n",
       "    }\n",
       "</style>\n",
       "<table border=\"1\" class=\"dataframe\">\n",
       "  <thead>\n",
       "    <tr style=\"text-align: right;\">\n",
       "      <th></th>\n",
       "      <th>ID</th>\n",
       "      <th>Gender</th>\n",
       "      <th>Race</th>\n",
       "      <th>SEB</th>\n",
       "      <th>School</th>\n",
       "      <th>Prog</th>\n",
       "      <th>Read</th>\n",
       "      <th>Write</th>\n",
       "      <th>Math1</th>\n",
       "      <th>Math2</th>\n",
       "      <th>SST</th>\n",
       "    </tr>\n",
       "  </thead>\n",
       "  <tbody>\n",
       "    <tr>\n",
       "      <th>0</th>\n",
       "      <td>70</td>\n",
       "      <td>0</td>\n",
       "      <td>4</td>\n",
       "      <td>1</td>\n",
       "      <td>1</td>\n",
       "      <td>1</td>\n",
       "      <td>57</td>\n",
       "      <td>52</td>\n",
       "      <td>41</td>\n",
       "      <td>47</td>\n",
       "      <td>57</td>\n",
       "    </tr>\n",
       "    <tr>\n",
       "      <th>1</th>\n",
       "      <td>121</td>\n",
       "      <td>1</td>\n",
       "      <td>4</td>\n",
       "      <td>2</td>\n",
       "      <td>1</td>\n",
       "      <td>3</td>\n",
       "      <td>68</td>\n",
       "      <td>59</td>\n",
       "      <td>53</td>\n",
       "      <td>63</td>\n",
       "      <td>61</td>\n",
       "    </tr>\n",
       "    <tr>\n",
       "      <th>2</th>\n",
       "      <td>86</td>\n",
       "      <td>0</td>\n",
       "      <td>4</td>\n",
       "      <td>3</td>\n",
       "      <td>1</td>\n",
       "      <td>1</td>\n",
       "      <td>44</td>\n",
       "      <td>33</td>\n",
       "      <td>54</td>\n",
       "      <td>58</td>\n",
       "      <td>31</td>\n",
       "    </tr>\n",
       "    <tr>\n",
       "      <th>3</th>\n",
       "      <td>141</td>\n",
       "      <td>0</td>\n",
       "      <td>4</td>\n",
       "      <td>3</td>\n",
       "      <td>1</td>\n",
       "      <td>3</td>\n",
       "      <td>63</td>\n",
       "      <td>44</td>\n",
       "      <td>47</td>\n",
       "      <td>53</td>\n",
       "      <td>56</td>\n",
       "    </tr>\n",
       "    <tr>\n",
       "      <th>4</th>\n",
       "      <td>172</td>\n",
       "      <td>0</td>\n",
       "      <td>4</td>\n",
       "      <td>2</td>\n",
       "      <td>1</td>\n",
       "      <td>2</td>\n",
       "      <td>47</td>\n",
       "      <td>52</td>\n",
       "      <td>57</td>\n",
       "      <td>53</td>\n",
       "      <td>61</td>\n",
       "    </tr>\n",
       "  </tbody>\n",
       "</table>\n",
       "</div>"
      ],
      "text/plain": [
       "    ID  Gender  Race  SEB  School  Prog  Read  Write  Math1  Math2  SST\n",
       "0   70       0     4    1       1     1    57     52     41     47   57\n",
       "1  121       1     4    2       1     3    68     59     53     63   61\n",
       "2   86       0     4    3       1     1    44     33     54     58   31\n",
       "3  141       0     4    3       1     3    63     44     47     53   56\n",
       "4  172       0     4    2       1     2    47     52     57     53   61"
      ]
     },
     "execution_count": 18,
     "metadata": {},
     "output_type": "execute_result"
    }
   ],
   "source": [
    "import pandas as pd\n",
    "hyp = pd.read_csv('https://raw.githubusercontent.com/training-ml/Files/main/Hypothesis%20ttest.csv')\n",
    "hyp.head()"
   ]
  },
  {
   "cell_type": "code",
   "execution_count": 19,
   "id": "4020affd",
   "metadata": {},
   "outputs": [],
   "source": [
    "#Teacher wants to teach student for competitive exam. Based on her past experience she believes that thease students will score\n",
    "#more than 60 marks in exam.Conduct hypothesis testing"
   ]
  },
  {
   "cell_type": "code",
   "execution_count": 20,
   "id": "892f3f0c",
   "metadata": {},
   "outputs": [],
   "source": [
    "#Ho >= 60\n",
    "#Ha < 60"
   ]
  },
  {
   "cell_type": "code",
   "execution_count": 21,
   "id": "7474e6a3",
   "metadata": {},
   "outputs": [
    {
     "data": {
      "text/plain": [
       "52.645"
      ]
     },
     "execution_count": 21,
     "metadata": {},
     "output_type": "execute_result"
    }
   ],
   "source": [
    "xbar = hyp['Math1'].mean()\n",
    "xbar"
   ]
  },
  {
   "cell_type": "code",
   "execution_count": 22,
   "id": "fce062f7",
   "metadata": {},
   "outputs": [],
   "source": [
    "apha = .05\n",
    "xbar = 52.645\n",
    "mu = 60"
   ]
  },
  {
   "cell_type": "code",
   "execution_count": 23,
   "id": "0de5f76f",
   "metadata": {},
   "outputs": [
    {
     "data": {
      "text/plain": [
       "Ttest_1sampResult(statistic=-11.102736525713398, pvalue=1.3339158110547646e-22)"
      ]
     },
     "execution_count": 23,
     "metadata": {},
     "output_type": "execute_result"
    }
   ],
   "source": [
    "#1 Sample test\n",
    "\n",
    "import scipy.stats as st\n",
    "st.ttest_1samp(hyp.Math1,mu)"
   ]
  },
  {
   "cell_type": "code",
   "execution_count": 24,
   "id": "b2667d46",
   "metadata": {},
   "outputs": [
    {
     "data": {
      "text/html": [
       "<div>\n",
       "<style scoped>\n",
       "    .dataframe tbody tr th:only-of-type {\n",
       "        vertical-align: middle;\n",
       "    }\n",
       "\n",
       "    .dataframe tbody tr th {\n",
       "        vertical-align: top;\n",
       "    }\n",
       "\n",
       "    .dataframe thead th {\n",
       "        text-align: right;\n",
       "    }\n",
       "</style>\n",
       "<table border=\"1\" class=\"dataframe\">\n",
       "  <thead>\n",
       "    <tr style=\"text-align: right;\">\n",
       "      <th></th>\n",
       "      <th>ID</th>\n",
       "      <th>Gender</th>\n",
       "      <th>Race</th>\n",
       "      <th>SEB</th>\n",
       "      <th>School</th>\n",
       "      <th>Prog</th>\n",
       "      <th>Read</th>\n",
       "      <th>Write</th>\n",
       "      <th>Math1</th>\n",
       "      <th>Math2</th>\n",
       "      <th>SST</th>\n",
       "    </tr>\n",
       "  </thead>\n",
       "  <tbody>\n",
       "    <tr>\n",
       "      <th>0</th>\n",
       "      <td>70</td>\n",
       "      <td>0</td>\n",
       "      <td>4</td>\n",
       "      <td>1</td>\n",
       "      <td>1</td>\n",
       "      <td>1</td>\n",
       "      <td>57</td>\n",
       "      <td>52</td>\n",
       "      <td>41</td>\n",
       "      <td>47</td>\n",
       "      <td>57</td>\n",
       "    </tr>\n",
       "    <tr>\n",
       "      <th>1</th>\n",
       "      <td>121</td>\n",
       "      <td>1</td>\n",
       "      <td>4</td>\n",
       "      <td>2</td>\n",
       "      <td>1</td>\n",
       "      <td>3</td>\n",
       "      <td>68</td>\n",
       "      <td>59</td>\n",
       "      <td>53</td>\n",
       "      <td>63</td>\n",
       "      <td>61</td>\n",
       "    </tr>\n",
       "    <tr>\n",
       "      <th>2</th>\n",
       "      <td>86</td>\n",
       "      <td>0</td>\n",
       "      <td>4</td>\n",
       "      <td>3</td>\n",
       "      <td>1</td>\n",
       "      <td>1</td>\n",
       "      <td>44</td>\n",
       "      <td>33</td>\n",
       "      <td>54</td>\n",
       "      <td>58</td>\n",
       "      <td>31</td>\n",
       "    </tr>\n",
       "    <tr>\n",
       "      <th>3</th>\n",
       "      <td>141</td>\n",
       "      <td>0</td>\n",
       "      <td>4</td>\n",
       "      <td>3</td>\n",
       "      <td>1</td>\n",
       "      <td>3</td>\n",
       "      <td>63</td>\n",
       "      <td>44</td>\n",
       "      <td>47</td>\n",
       "      <td>53</td>\n",
       "      <td>56</td>\n",
       "    </tr>\n",
       "    <tr>\n",
       "      <th>4</th>\n",
       "      <td>172</td>\n",
       "      <td>0</td>\n",
       "      <td>4</td>\n",
       "      <td>2</td>\n",
       "      <td>1</td>\n",
       "      <td>2</td>\n",
       "      <td>47</td>\n",
       "      <td>52</td>\n",
       "      <td>57</td>\n",
       "      <td>53</td>\n",
       "      <td>61</td>\n",
       "    </tr>\n",
       "  </tbody>\n",
       "</table>\n",
       "</div>"
      ],
      "text/plain": [
       "    ID  Gender  Race  SEB  School  Prog  Read  Write  Math1  Math2  SST\n",
       "0   70       0     4    1       1     1    57     52     41     47   57\n",
       "1  121       1     4    2       1     3    68     59     53     63   61\n",
       "2   86       0     4    3       1     1    44     33     54     58   31\n",
       "3  141       0     4    3       1     3    63     44     47     53   56\n",
       "4  172       0     4    2       1     2    47     52     57     53   61"
      ]
     },
     "execution_count": 24,
     "metadata": {},
     "output_type": "execute_result"
    }
   ],
   "source": [
    "#2sample t test-Independent Sample\n",
    "\n",
    "hyp.head()"
   ]
  },
  {
   "cell_type": "code",
   "execution_count": 25,
   "id": "cdc3299b",
   "metadata": {},
   "outputs": [
    {
     "data": {
      "text/plain": [
       "1    109\n",
       "0     91\n",
       "Name: Gender, dtype: int64"
      ]
     },
     "execution_count": 25,
     "metadata": {},
     "output_type": "execute_result"
    }
   ],
   "source": [
    "hyp['Gender'].value_counts()"
   ]
  },
  {
   "cell_type": "code",
   "execution_count": 26,
   "id": "eb3a6c29",
   "metadata": {},
   "outputs": [
    {
     "data": {
      "text/plain": [
       "1     53\n",
       "92    65\n",
       "93    52\n",
       "94    46\n",
       "95    61\n",
       "Name: Math1, dtype: int64"
      ]
     },
     "execution_count": 26,
     "metadata": {},
     "output_type": "execute_result"
    }
   ],
   "source": [
    "#How to subsrt data on Gender\n",
    "\n",
    "hyp[hyp['Gender']==1].Math1.head()"
   ]
  },
  {
   "cell_type": "code",
   "execution_count": 27,
   "id": "242e089d",
   "metadata": {},
   "outputs": [],
   "source": [
    "#Independent sample test\n",
    "\n",
    "t,p = st.ttest_ind(hyp[hyp['Gender']==1].Math1,hyp[hyp['Gender']==0].Math1)"
   ]
  },
  {
   "cell_type": "code",
   "execution_count": 28,
   "id": "832eb5b0",
   "metadata": {},
   "outputs": [
    {
     "data": {
      "text/plain": [
       "0.6800544974232143"
      ]
     },
     "execution_count": 28,
     "metadata": {},
     "output_type": "execute_result"
    }
   ],
   "source": [
    "p"
   ]
  },
  {
   "cell_type": "code",
   "execution_count": 29,
   "id": "4e8cb22e",
   "metadata": {},
   "outputs": [],
   "source": [
    "#pairedSample\n",
    "\n",
    "t,p = st.ttest_rel(hyp.Math1,hyp.Math2)"
   ]
  },
  {
   "cell_type": "code",
   "execution_count": 30,
   "id": "cf6beea3",
   "metadata": {},
   "outputs": [
    {
     "data": {
      "text/plain": [
       "0.17676525605507354"
      ]
     },
     "execution_count": 30,
     "metadata": {},
     "output_type": "execute_result"
    }
   ],
   "source": [
    "p"
   ]
  },
  {
   "cell_type": "code",
   "execution_count": null,
   "id": "831f1ad2",
   "metadata": {},
   "outputs": [],
   "source": [
    "#Now Alternate Hypothesis is true"
   ]
  },
  {
   "cell_type": "code",
   "execution_count": null,
   "id": "4766ed7f",
   "metadata": {},
   "outputs": [],
   "source": []
  }
 ],
 "metadata": {
  "kernelspec": {
   "display_name": "Python 3 (ipykernel)",
   "language": "python",
   "name": "python3"
  },
  "language_info": {
   "codemirror_mode": {
    "name": "ipython",
    "version": 3
   },
   "file_extension": ".py",
   "mimetype": "text/x-python",
   "name": "python",
   "nbconvert_exporter": "python",
   "pygments_lexer": "ipython3",
   "version": "3.9.7"
  }
 },
 "nbformat": 4,
 "nbformat_minor": 5
}
