{
 "cells": [
  {
   "cell_type": "code",
   "execution_count": 1,
   "id": "50afc109",
   "metadata": {},
   "outputs": [
    {
     "name": "stdout",
     "output_type": "stream",
     "text": [
      "This is just a sample\n"
     ]
    }
   ],
   "source": [
    "def say_hello():\n",
    "    \n",
    "    print('This is just a sample')\n",
    "    \n",
    "say_hello()"
   ]
  },
  {
   "cell_type": "code",
   "execution_count": 21,
   "id": "7a505b11",
   "metadata": {},
   "outputs": [
    {
     "name": "stdout",
     "output_type": "stream",
     "text": [
      "Hello dear students\n"
     ]
    }
   ],
   "source": [
    "def greeting(name):\n",
    "    \n",
    "    print('Hello %s' % name)\n",
    "    \n",
    "        \n",
    "greeting('dear students')\n",
    "\n",
    "\n",
    "    "
   ]
  },
  {
   "cell_type": "code",
   "execution_count": 18,
   "id": "ac0f8e08",
   "metadata": {},
   "outputs": [
    {
     "name": "stdout",
     "output_type": "stream",
     "text": [
      "Your new salary is = 2500\n"
     ]
    }
   ],
   "source": [
    "def salary_incr(salary):\n",
    "    if salary <= 9000:\n",
    "        return (salary + 1000)        \n",
    "    else:\n",
    "        return salary\n",
    "    \n",
    "print('Your new salary is =',salary_incr(1500))    "
   ]
  },
  {
   "cell_type": "code",
   "execution_count": 23,
   "id": "19ac0846",
   "metadata": {},
   "outputs": [
    {
     "name": "stdout",
     "output_type": "stream",
     "text": [
      "Your total_marks = 90\n"
     ]
    }
   ],
   "source": [
    "def stud_marks(Maths,Science,English):\n",
    "    return(Maths+ Science+ English)\n",
    "\n",
    "print('Your total_marks =',stud_marks(20,30,40))"
   ]
  },
  {
   "cell_type": "code",
   "execution_count": 24,
   "id": "4d9c2ee4",
   "metadata": {},
   "outputs": [
    {
     "data": {
      "text/plain": [
       "120"
      ]
     },
     "execution_count": 24,
     "metadata": {},
     "output_type": "execute_result"
    }
   ],
   "source": [
    "total_marks = stud_marks(30,40,50)\n",
    "total_marks"
   ]
  },
  {
   "cell_type": "code",
   "execution_count": 34,
   "id": "b28cca36",
   "metadata": {},
   "outputs": [
    {
     "name": "stdout",
     "output_type": "stream",
     "text": [
      "160 -FC\n"
     ]
    }
   ],
   "source": [
    "total_marks = stud_marks(100,10,50)\n",
    "\n",
    "if total_marks < 90:\n",
    "    print(total_marks,'- Fail')\n",
    "elif total_marks > 90 and total_marks < 150:\n",
    "    print(total_marks,'- pass')\n",
    "elif total_marks > 150 and total_marks < 250:\n",
    "    print(total_marks,'-FC')\n",
    "else:\n",
    "    print(Distinction)"
   ]
  },
  {
   "cell_type": "code",
   "execution_count": 8,
   "id": "29e7749a",
   "metadata": {},
   "outputs": [
    {
     "name": "stdout",
     "output_type": "stream",
     "text": [
      "Rs 34,567 - Rs 36,432\n"
     ]
    }
   ],
   "source": [
    "def phone_price(phone_make,phone_age,phone_GB):\n",
    "    if phone_make == 'iphone 11':\n",
    "        if 0 < phone_age <= 6:\n",
    "            if phone_GB == 64:\n",
    "                print('Rs 39,245 - Rs 41,345')\n",
    "            elif phone_GB == 128:\n",
    "                print('Rs 45,654 -Rs 48,545')\n",
    "                \n",
    "        if 6 < phone_age <= 12:\n",
    "            if phone_GB == 64:\n",
    "                print('Rs 29,456 -Rs 31,654')\n",
    "            elif phone_GB == 128:\n",
    "                print('Rs 34,567 - Rs 36,432')\n",
    "    \n",
    "    elif phone_make == 'Samsung B110':\n",
    "        if 0 < phone_age <= 6:\n",
    "            print('Rs 853 - Rs 906')\n",
    "        elif phone_age > 12:\n",
    "            print('Rs 711 - Rs 755')\n",
    "            \n",
    "            \n",
    "phone_price('iphone 11',7,128)            \n",
    "            "
   ]
  },
  {
   "cell_type": "code",
   "execution_count": 6,
   "id": "223164f7",
   "metadata": {},
   "outputs": [
    {
     "name": "stdout",
     "output_type": "stream",
     "text": [
      "Rs 45,835- Rs 48,678\n"
     ]
    }
   ],
   "source": [
    "phone_price('iphone 11',5,128)"
   ]
  },
  {
   "cell_type": "code",
   "execution_count": 13,
   "id": "a7b2d775",
   "metadata": {},
   "outputs": [
    {
     "name": "stdout",
     "output_type": "stream",
     "text": [
      "squared 4\n",
      "squared 9\n",
      "squared 16\n",
      "squared 25\n"
     ]
    }
   ],
   "source": [
    "def sqer(number):\n",
    "    for val in range(2,number):\n",
    "        print('squared', val**2)\n",
    "        \n",
    "            \n",
    "sqer(6)"
   ]
  },
  {
   "cell_type": "code",
   "execution_count": 14,
   "id": "2bd5b593",
   "metadata": {},
   "outputs": [
    {
     "name": "stdout",
     "output_type": "stream",
     "text": [
      "squared 4\n",
      "odd number\n",
      "squared 16\n",
      "odd number\n"
     ]
    }
   ],
   "source": [
    "def sqer(number):\n",
    "    for val in range(2,number):\n",
    "        if val % 2 == 0:\n",
    "            print('squared', val**2)\n",
    "        else:\n",
    "            print('odd number')\n",
    "            \n",
    "sqer(6)"
   ]
  },
  {
   "cell_type": "code",
   "execution_count": 17,
   "id": "324ee202",
   "metadata": {},
   "outputs": [
    {
     "name": "stdout",
     "output_type": "stream",
     "text": [
      "80\n"
     ]
    }
   ],
   "source": [
    "add_num = lambda y : y + 30\n",
    "    \n",
    "print(add_num(50))       "
   ]
  },
  {
   "cell_type": "code",
   "execution_count": 21,
   "id": "17280925",
   "metadata": {},
   "outputs": [
    {
     "name": "stdout",
     "output_type": "stream",
     "text": [
      "150\n"
     ]
    }
   ],
   "source": [
    "multi_num = lambda a, b : a * b\n",
    "\n",
    "print(multi_num(10,15)) "
   ]
  },
  {
   "cell_type": "code",
   "execution_count": 22,
   "id": "613eb404",
   "metadata": {},
   "outputs": [
    {
     "name": "stdout",
     "output_type": "stream",
     "text": [
      "My args- bengalore\n",
      "My args- 10\n",
      "My args- 14.4\n",
      "My args- 244\n",
      "My args- chennai\n"
     ]
    }
   ],
   "source": [
    "def my_fun(*args):\n",
    "    for i in args:\n",
    "        print('My args-', i)\n",
    "        \n",
    "my_fun('bengalore',10,14.4,244,'chennai')"
   ]
  },
  {
   "cell_type": "code",
   "execution_count": 31,
   "id": "b9af12fa",
   "metadata": {},
   "outputs": [
    {
     "name": "stdout",
     "output_type": "stream",
     "text": [
      "stud ['Ram,Shayam,Banti']\n",
      "marks (40, 20, 50)\n"
     ]
    }
   ],
   "source": [
    "def my_kwargs(**kwargs):\n",
    "    for key,value in kwargs.items():\n",
    "        \n",
    "        print(key,value)\n",
    "        \n",
    "my_kwargs(stud = ['Ram,Shayam,Banti'],marks=(40,20,50))"
   ]
  },
  {
   "cell_type": "code",
   "execution_count": 32,
   "id": "9192ae9b",
   "metadata": {},
   "outputs": [
    {
     "data": {
      "text/plain": [
       "'India is Great'"
      ]
     },
     "execution_count": 32,
     "metadata": {},
     "output_type": "execute_result"
    }
   ],
   "source": [
    "s = 'India is Great'\n",
    "s"
   ]
  },
  {
   "cell_type": "code",
   "execution_count": 38,
   "id": "a195d5de",
   "metadata": {},
   "outputs": [
    {
     "data": {
      "text/plain": [
       "'i'"
      ]
     },
     "execution_count": 38,
     "metadata": {},
     "output_type": "execute_result"
    }
   ],
   "source": [
    "s[6]"
   ]
  },
  {
   "cell_type": "code",
   "execution_count": 39,
   "id": "8977314e",
   "metadata": {},
   "outputs": [
    {
     "data": {
      "text/plain": [
       "'ndia is Great'"
      ]
     },
     "execution_count": 39,
     "metadata": {},
     "output_type": "execute_result"
    }
   ],
   "source": [
    "s[1:]"
   ]
  },
  {
   "cell_type": "code",
   "execution_count": 40,
   "id": "aca927f9",
   "metadata": {},
   "outputs": [
    {
     "data": {
      "text/plain": [
       "'Ind'"
      ]
     },
     "execution_count": 40,
     "metadata": {},
     "output_type": "execute_result"
    }
   ],
   "source": [
    "s[:3]"
   ]
  },
  {
   "cell_type": "code",
   "execution_count": 41,
   "id": "de701015",
   "metadata": {},
   "outputs": [
    {
     "data": {
      "text/plain": [
       "'nd'"
      ]
     },
     "execution_count": 41,
     "metadata": {},
     "output_type": "execute_result"
    }
   ],
   "source": [
    "s[1:3]"
   ]
  },
  {
   "cell_type": "code",
   "execution_count": 42,
   "id": "c1df6944",
   "metadata": {},
   "outputs": [
    {
     "data": {
      "text/plain": [
       "'t'"
      ]
     },
     "execution_count": 42,
     "metadata": {},
     "output_type": "execute_result"
    }
   ],
   "source": [
    "s[-1]"
   ]
  },
  {
   "cell_type": "code",
   "execution_count": 43,
   "id": "b81c34f1",
   "metadata": {},
   "outputs": [
    {
     "data": {
      "text/plain": [
       "'India is Grea'"
      ]
     },
     "execution_count": 43,
     "metadata": {},
     "output_type": "execute_result"
    }
   ],
   "source": [
    "s[ :-1]"
   ]
  },
  {
   "cell_type": "code",
   "execution_count": 45,
   "id": "36cbe2a8",
   "metadata": {},
   "outputs": [
    {
     "data": {
      "text/plain": [
       "'Idai ra'"
      ]
     },
     "execution_count": 45,
     "metadata": {},
     "output_type": "execute_result"
    }
   ],
   "source": [
    "s[:: 2]"
   ]
  },
  {
   "cell_type": "code",
   "execution_count": 46,
   "id": "d896bf42",
   "metadata": {},
   "outputs": [
    {
     "data": {
      "text/plain": [
       "'teGs i'"
      ]
     },
     "execution_count": 46,
     "metadata": {},
     "output_type": "execute_result"
    }
   ],
   "source": [
    "s[:1:-2]"
   ]
  },
  {
   "cell_type": "code",
   "execution_count": null,
   "id": "5f06593c",
   "metadata": {},
   "outputs": [],
   "source": []
  }
 ],
 "metadata": {
  "kernelspec": {
   "display_name": "Python 3 (ipykernel)",
   "language": "python",
   "name": "python3"
  },
  "language_info": {
   "codemirror_mode": {
    "name": "ipython",
    "version": 3
   },
   "file_extension": ".py",
   "mimetype": "text/x-python",
   "name": "python",
   "nbconvert_exporter": "python",
   "pygments_lexer": "ipython3",
   "version": "3.9.7"
  }
 },
 "nbformat": 4,
 "nbformat_minor": 5
}
