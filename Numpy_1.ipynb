{
 "cells": [
  {
   "cell_type": "code",
   "execution_count": 2,
   "id": "a12b99b4",
   "metadata": {},
   "outputs": [],
   "source": [
    "import numpy as np"
   ]
  },
  {
   "cell_type": "code",
   "execution_count": 2,
   "id": "fc930c5b",
   "metadata": {},
   "outputs": [
    {
     "data": {
      "text/plain": [
       "3.1622776601683795"
      ]
     },
     "execution_count": 2,
     "metadata": {},
     "output_type": "execute_result"
    }
   ],
   "source": [
    "np.sqrt(10)"
   ]
  },
  {
   "cell_type": "code",
   "execution_count": 3,
   "id": "5d47c0fa",
   "metadata": {},
   "outputs": [
    {
     "name": "stdout",
     "output_type": "stream",
     "text": [
      "minimum  18\n"
     ]
    }
   ],
   "source": [
    "print('minimum ',np.amin([25,30,57,18]))"
   ]
  },
  {
   "cell_type": "code",
   "execution_count": 4,
   "id": "20f00cbd",
   "metadata": {},
   "outputs": [
    {
     "name": "stdout",
     "output_type": "stream",
     "text": [
      "maximum  57\n"
     ]
    }
   ],
   "source": [
    "print('maximum ',np.amax([25,30,57,18]))"
   ]
  },
  {
   "cell_type": "code",
   "execution_count": 5,
   "id": "82be29a2",
   "metadata": {},
   "outputs": [
    {
     "data": {
      "text/plain": [
       "30.0"
      ]
     },
     "execution_count": 5,
     "metadata": {},
     "output_type": "execute_result"
    }
   ],
   "source": [
    "np.ceil(29.5)"
   ]
  },
  {
   "cell_type": "code",
   "execution_count": 6,
   "id": "2f6b2d21",
   "metadata": {},
   "outputs": [
    {
     "data": {
      "text/plain": [
       "4.0"
      ]
     },
     "execution_count": 6,
     "metadata": {},
     "output_type": "execute_result"
    }
   ],
   "source": [
    "np.ceil(np.sqrt(10))"
   ]
  },
  {
   "cell_type": "code",
   "execution_count": 7,
   "id": "47165d6f",
   "metadata": {},
   "outputs": [
    {
     "data": {
      "text/plain": [
       "10.0"
      ]
     },
     "execution_count": 7,
     "metadata": {},
     "output_type": "execute_result"
    }
   ],
   "source": [
    "np.ceil(np.sum(np.sqrt([5,10,15])))"
   ]
  },
  {
   "cell_type": "code",
   "execution_count": 8,
   "id": "6b24d821",
   "metadata": {},
   "outputs": [
    {
     "data": {
      "text/plain": [
       "array([ 5,  9, 13])"
      ]
     },
     "execution_count": 8,
     "metadata": {},
     "output_type": "execute_result"
    }
   ],
   "source": [
    "np.array([5,9,13])"
   ]
  },
  {
   "cell_type": "code",
   "execution_count": 9,
   "id": "f68c63cc",
   "metadata": {},
   "outputs": [
    {
     "data": {
      "text/plain": [
       "list"
      ]
     },
     "execution_count": 9,
     "metadata": {},
     "output_type": "execute_result"
    }
   ],
   "source": [
    "type([5,9,13])"
   ]
  },
  {
   "cell_type": "code",
   "execution_count": 14,
   "id": "bc44900d",
   "metadata": {},
   "outputs": [
    {
     "name": "stdout",
     "output_type": "stream",
     "text": [
      "Type-    int32\n",
      "\n",
      "  ------------------------------\n",
      "\n",
      "  [[1 2]\n",
      " [3 4]\n",
      " [4 5]]\n"
     ]
    }
   ],
   "source": [
    "a = np.array([[1,2],[3,4],[4,5]])\n",
    "\n",
    "print('Type-   ', a.dtype)\n",
    "\n",
    "print('\\n ', '-' * 30)\n",
    "\n",
    "print('\\n ',a)"
   ]
  },
  {
   "cell_type": "code",
   "execution_count": 15,
   "id": "a332e859",
   "metadata": {},
   "outputs": [
    {
     "data": {
      "text/plain": [
       "array([1., 2., 3.])"
      ]
     },
     "execution_count": 15,
     "metadata": {},
     "output_type": "execute_result"
    }
   ],
   "source": [
    "np.array([1,2,3], dtype= float)"
   ]
  },
  {
   "cell_type": "code",
   "execution_count": 16,
   "id": "7751a4e0",
   "metadata": {},
   "outputs": [
    {
     "data": {
      "text/plain": [
       "array([[1, 2, 3],\n",
       "       [3, 4, 5]])"
      ]
     },
     "execution_count": 16,
     "metadata": {},
     "output_type": "execute_result"
    }
   ],
   "source": [
    "a= np.array(np.mat('1,2,3;3,4,5'))"
   ]
  },
  {
   "cell_type": "code",
   "execution_count": 17,
   "id": "6624a33c",
   "metadata": {},
   "outputs": [
    {
     "name": "stdout",
     "output_type": "stream",
     "text": [
      "[1 2]\n"
     ]
    }
   ],
   "source": [
    "a= [1,2]\n",
    "\n",
    "c = np.array(a)\n",
    "\n",
    "print(c)\n"
   ]
  },
  {
   "cell_type": "code",
   "execution_count": 18,
   "id": "9c40f218",
   "metadata": {},
   "outputs": [
    {
     "name": "stdout",
     "output_type": "stream",
     "text": [
      "[1 2]\n"
     ]
    }
   ],
   "source": [
    "b = np.asarray(c)\n",
    "\n",
    "print(b)"
   ]
  },
  {
   "cell_type": "code",
   "execution_count": 21,
   "id": "4017bee4",
   "metadata": {},
   "outputs": [
    {
     "name": "stdout",
     "output_type": "stream",
     "text": [
      "Type/class of Matrix <class 'numpy.ndarray'>\n",
      "Here is the matrix \n",
      "--------\n",
      "  [[1 2 3]\n",
      " [4 5 6]\n",
      " [7 8 9]] \n",
      " ----------\n",
      "Dimension of the matrix: 2\n",
      "size of the matrix: 9\n",
      "shape of the matrix:  (3, 3)\n",
      "Data type of matrix:  int32\n"
     ]
    }
   ],
   "source": [
    "my_mat = [[1,2,3],[4,5,6],[7,8,9]]\n",
    "mat = np.array(my_mat)\n",
    "\n",
    "print('Type/class of Matrix',type(mat))\n",
    "print('Here is the matrix \\n--------\\n ',mat,'\\n ----------')\n",
    "print('Dimension of the matrix: ',mat.ndim,sep ='')\n",
    "print('size of the matrix: ',mat.size,sep= '')\n",
    "print('shape of the matrix: ',mat.shape)\n",
    "print('Data type of matrix: ',mat.dtype)\n",
    "\n"
   ]
  },
  {
   "cell_type": "code",
   "execution_count": 22,
   "id": "dc1c4722",
   "metadata": {},
   "outputs": [
    {
     "data": {
      "text/plain": [
       "array([ 2. ,  2.4,  2.8,  3.2,  3.6,  4. ,  4.4,  4.8,  5.2,  5.6,  6. ,\n",
       "        6.4,  6.8,  7.2,  7.6,  8. ,  8.4,  8.8,  9.2,  9.6, 10. , 10.4])"
      ]
     },
     "execution_count": 22,
     "metadata": {},
     "output_type": "execute_result"
    }
   ],
   "source": [
    "a = np.arange(2,10.5,.4)\n",
    "a"
   ]
  },
  {
   "cell_type": "code",
   "execution_count": 23,
   "id": "29736920",
   "metadata": {},
   "outputs": [
    {
     "data": {
      "text/plain": [
       "array([10.4, 10. ,  9.6,  9.2,  8.8,  8.4,  8. ,  7.6,  7.2,  6.8,  6.4,\n",
       "        6. ,  5.6,  5.2,  4.8,  4.4,  4. ,  3.6,  3.2,  2.8,  2.4,  2. ])"
      ]
     },
     "execution_count": 23,
     "metadata": {},
     "output_type": "execute_result"
    }
   ],
   "source": [
    "a[::-1]"
   ]
  },
  {
   "cell_type": "code",
   "execution_count": 24,
   "id": "0b633185",
   "metadata": {},
   "outputs": [
    {
     "name": "stdout",
     "output_type": "stream",
     "text": [
      "every 5th number from 50 in reverse order \n",
      " [50 45 40 35 30 25 20 15 10  5]\n"
     ]
    }
   ],
   "source": [
    "print('every 5th number from 50 in reverse order \\n',np.arange(50,0,-5))"
   ]
  },
  {
   "cell_type": "code",
   "execution_count": 25,
   "id": "606b5720",
   "metadata": {},
   "outputs": [
    {
     "name": "stdout",
     "output_type": "stream",
     "text": [
      "Five elements linearly spaced between 10 & 40 \n",
      " ---------------\n",
      "[10.  17.5 25.  32.5 40. ]\n"
     ]
    }
   ],
   "source": [
    "print('Five elements linearly spaced between 10 & 40 \\n ---------------')\n",
    "print(np.linspace(10,40,5))"
   ]
  },
  {
   "cell_type": "code",
   "execution_count": 26,
   "id": "9c10251f",
   "metadata": {},
   "outputs": [
    {
     "data": {
      "text/plain": [
       "(array([2.  , 2.25, 2.5 , 2.75]), 0.25)"
      ]
     },
     "execution_count": 26,
     "metadata": {},
     "output_type": "execute_result"
    }
   ],
   "source": [
    "np.linspace(2.0,3.0,4,endpoint= False,retstep =True)"
   ]
  },
  {
   "cell_type": "code",
   "execution_count": 27,
   "id": "77630c37",
   "metadata": {},
   "outputs": [
    {
     "name": "stdout",
     "output_type": "stream",
     "text": [
      "(array([ 4.567     ,  5.2430303 ,  5.91906061,  6.59509091,  7.27112121,\n",
      "        7.94715152,  8.62318182,  9.29921212,  9.97524242, 10.65127273,\n",
      "       11.32730303, 12.00333333, 12.67936364, 13.35539394, 14.03142424,\n",
      "       14.70745455, 15.38348485, 16.05951515, 16.73554545, 17.41157576,\n",
      "       18.08760606, 18.76363636, 19.43966667, 20.11569697, 20.79172727,\n",
      "       21.46775758, 22.14378788, 22.81981818, 23.49584848, 24.17187879,\n",
      "       24.84790909, 25.52393939, 26.1999697 , 26.876     ]), 0.6760303030303031)\n"
     ]
    }
   ],
   "source": [
    "print(np.linspace(4.567,26.876,34,retstep = True))"
   ]
  },
  {
   "cell_type": "code",
   "execution_count": 4,
   "id": "d2ad0b6e",
   "metadata": {},
   "outputs": [
    {
     "name": "stdout",
     "output_type": "stream",
     "text": [
      "vector of zeros \n",
      " ------------\n",
      "[0. 0. 0. 0. 0.]\n"
     ]
    }
   ],
   "source": [
    "print('vector of zeros \\n ------------')\n",
    "print(np.zeros(5))"
   ]
  },
  {
   "cell_type": "code",
   "execution_count": 5,
   "id": "c400d251",
   "metadata": {},
   "outputs": [
    {
     "name": "stdout",
     "output_type": "stream",
     "text": [
      "vector of ones \n",
      " -------------\n",
      "[1. 1. 1. 1. 1. 1. 1.]\n"
     ]
    }
   ],
   "source": [
    "print('vector of ones \\n -------------')\n",
    "print(np.ones(7))"
   ]
  },
  {
   "cell_type": "code",
   "execution_count": 9,
   "id": "9d055e4e",
   "metadata": {},
   "outputs": [
    {
     "name": "stdout",
     "output_type": "stream",
     "text": [
      "Matrix of 5's \n",
      " ------------------\n",
      "[5. 5. 5. 5. 5. 5. 5.]\n"
     ]
    }
   ],
   "source": [
    "print(\"Matrix of 5's \\n ------------------\")\n",
    "      \n",
    "      \n",
    "print(5 *np.ones(7))      "
   ]
  },
  {
   "cell_type": "code",
   "execution_count": 11,
   "id": "ec00a755",
   "metadata": {},
   "outputs": [
    {
     "name": "stdout",
     "output_type": "stream",
     "text": [
      "Matrix of ones \n",
      " ------------\n",
      "[[1. 1. 1. 1. 1.]\n",
      " [1. 1. 1. 1. 1.]\n",
      " [1. 1. 1. 1. 1.]]\n"
     ]
    }
   ],
   "source": [
    "print(\"Matrix of ones \\n ------------\")\n",
    "print(np.ones((3,5)))"
   ]
  },
  {
   "cell_type": "code",
   "execution_count": 12,
   "id": "0781cdef",
   "metadata": {},
   "outputs": [
    {
     "name": "stdout",
     "output_type": "stream",
     "text": [
      "Matrix of 5's \n",
      " ----------------\n",
      "[[1. 1. 1. 1. 1.]\n",
      " [1. 1. 1. 1. 1.]\n",
      " [1. 1. 1. 1. 1.]\n",
      " [1. 1. 1. 1. 1.]]\n"
     ]
    }
   ],
   "source": [
    "print(\"Matrix of 5's \\n ----------------\")\n",
    "print(np.ones((4,5)))"
   ]
  },
  {
   "cell_type": "code",
   "execution_count": 16,
   "id": "48504296",
   "metadata": {},
   "outputs": [
    {
     "name": "stdout",
     "output_type": "stream",
     "text": [
      "[[ 0  1  2  3  4  5]\n",
      " [ 6  7  8  9 10 11]\n",
      " [12 13 14 15 16 17]\n",
      " [18 19 20 21 22 23]\n",
      " [24 25 26 27 28 29]]\n"
     ]
    }
   ],
   "source": [
    "y = np.arange(30).reshape(5,6)\n",
    "print(y)"
   ]
  },
  {
   "cell_type": "code",
   "execution_count": 18,
   "id": "f564a666",
   "metadata": {},
   "outputs": [
    {
     "name": "stdout",
     "output_type": "stream",
     "text": [
      "random number generation fixed pattern \n",
      " ----\n",
      "[[0.89286015 0.33197981 0.82122912 0.04169663 0.10765668 0.59505206]\n",
      " [0.52981736 0.41880743 0.33540785 0.62251943 0.43814143 0.73588211]\n",
      " [0.51803641 0.5788586  0.6453551  0.99022427 0.8198582  0.41320093]\n",
      " [0.87626766 0.82375943 0.05447451 0.71863724 0.80217056 0.73640664]\n",
      " [0.70913175 0.54093685 0.12482417 0.9576473  0.4032563  0.21695116]\n",
      " [0.71727585 0.99420744 0.25561406 0.67130943 0.59900591 0.71733215]\n",
      " [0.93734953 0.35180977 0.2536341  0.40247251 0.74651072 0.72407057]\n",
      " [0.4061078  0.98937985 0.45049928 0.37380843 0.70962861 0.08245855]\n",
      " [0.39837292 0.77088097 0.76475098 0.28385938 0.18954219 0.47125096]\n",
      " [0.33480604 0.73473504 0.18910712 0.33110407 0.84422842 0.61502403]]\n"
     ]
    }
   ],
   "source": [
    "np.random.seed(6)\n",
    "print('random number generation fixed pattern \\n ----')\n",
    "\n",
    "print(np.random.rand(10,6))"
   ]
  },
  {
   "cell_type": "code",
   "execution_count": 23,
   "id": "71b87cd5",
   "metadata": {},
   "outputs": [
    {
     "name": "stdout",
     "output_type": "stream",
     "text": [
      "random number generation fixed pattern \n",
      " ----\n",
      "[[0.49460165 0.2280831  0.25547392 0.39632991 0.3773151  0.99657423]\n",
      " [0.4081972  0.77189399 0.76053669 0.31000935 0.3465412  0.35176482]\n",
      " [0.14546686 0.97266468 0.90917844 0.5599571  0.31359075 0.88820004]\n",
      " [0.67457307 0.39108745 0.50718412 0.5241035  0.92800093 0.57137307]\n",
      " [0.66833757 0.05225869 0.3270573  0.05640164 0.17982769 0.92593317]\n",
      " [0.93801522 0.71409271 0.73268761 0.46174768 0.93132927 0.40642024]\n",
      " [0.68320577 0.64991587 0.59876518 0.22203939 0.68235717 0.8780563 ]\n",
      " [0.79671726 0.43200225 0.91787822 0.78183368 0.72575028 0.12485469]\n",
      " [0.91630845 0.38771099 0.29492955 0.61673141 0.46784623 0.25533891]\n",
      " [0.83899589 0.1786192  0.22711417 0.65987645 0.47911625 0.07344734]]\n"
     ]
    }
   ],
   "source": [
    "np.random.seed(50)\n",
    "print('random number generation fixed pattern \\n ----')\n",
    "\n",
    "print(np.random.rand(10,6))"
   ]
  },
  {
   "cell_type": "code",
   "execution_count": 25,
   "id": "071c67d9",
   "metadata": {},
   "outputs": [
    {
     "name": "stdout",
     "output_type": "stream",
     "text": [
      "Numbers from normal distribution with zero mean & s.d 1 \n",
      " -----------\n",
      "[[ 2.70525499 -1.49138851  0.09597793]\n",
      " [ 0.52468671  0.8156655   0.0515058 ]\n",
      " [-0.16455536  0.27819942  0.0871147 ]\n",
      " [ 0.03426837  0.74656892 -0.94363758]\n",
      " [-0.24577667  1.10812096  0.03900789]\n",
      " [-0.21326669 -0.89095461 -0.27064634]\n",
      " [ 0.22224372  0.2518136   0.70792609]\n",
      " [ 0.49398983  1.47100167 -0.58261947]\n",
      " [ 2.06581949  1.08783389  0.80518904]\n",
      " [-1.58788484  1.2308855  -2.37345338]]\n"
     ]
    }
   ],
   "source": [
    "print('Numbers from normal distribution with zero mean & s.d 1 \\n -----------')\n",
    "print(np.random.randn(10,3))"
   ]
  },
  {
   "cell_type": "code",
   "execution_count": 27,
   "id": "e6764bdd",
   "metadata": {},
   "outputs": [
    {
     "name": "stdout",
     "output_type": "stream",
     "text": [
      "Numbers from normal distribution with zero mean & s.d 1 \n",
      " -----------\n",
      "[[-0.36293111 -2.57091976  0.13751474]\n",
      " [-0.71929619  0.72852289  1.62174549]]\n"
     ]
    }
   ],
   "source": [
    "print('Numbers from normal distribution with zero mean & s.d 1 \\n -----------')\n",
    "c = np.random.randn(2,3)\n",
    "print(c)"
   ]
  },
  {
   "cell_type": "code",
   "execution_count": 28,
   "id": "f054b389",
   "metadata": {},
   "outputs": [
    {
     "data": {
      "text/plain": [
       "-0.19422732394170364"
      ]
     },
     "execution_count": 28,
     "metadata": {},
     "output_type": "execute_result"
    }
   ],
   "source": [
    "np.mean(c)"
   ]
  },
  {
   "cell_type": "code",
   "execution_count": 29,
   "id": "769f1abb",
   "metadata": {},
   "outputs": [
    {
     "name": "stdout",
     "output_type": "stream",
     "text": [
      "Random integer vector \n",
      " -------\n",
      "[11  9 16  8  5  6 19  8 17 16]\n"
     ]
    }
   ],
   "source": [
    "print(\"Random integer vector \\n -------\")\n",
    "print(np.random.randint(5,20,10))"
   ]
  },
  {
   "cell_type": "code",
   "execution_count": 30,
   "id": "807a9b59",
   "metadata": {},
   "outputs": [
    {
     "name": "stdout",
     "output_type": "stream",
     "text": [
      "Random integer vector \n",
      " -------\n",
      "[[ 9 14 16 17 13  9 10 11]\n",
      " [12 10  6 18 10 17 13  8]\n",
      " [10 14 19 18  8 15 11 16]\n",
      " [19 17 15 15 19  5 18 18]\n",
      " [ 5 13 18  5 15 19 17  9]]\n"
     ]
    }
   ],
   "source": [
    "print(\"Random integer vector \\n -------\")\n",
    "print(np.random.randint(5,20,(5,8)))"
   ]
  },
  {
   "cell_type": "code",
   "execution_count": 33,
   "id": "48ff81c1",
   "metadata": {},
   "outputs": [
    {
     "name": "stdout",
     "output_type": "stream",
     "text": [
      "Random integer vector \n",
      " -------\n",
      "[[13 15]\n",
      " [15  5]\n",
      " [12 17]\n",
      " [10  9]\n",
      " [ 9 14]]\n"
     ]
    }
   ],
   "source": [
    "print(\"Random integer vector \\n -------\")\n",
    "print(np.random.randint(5,20,(5,2)))"
   ]
  },
  {
   "cell_type": "code",
   "execution_count": 34,
   "id": "bdf19eeb",
   "metadata": {},
   "outputs": [
    {
     "data": {
      "text/plain": [
       "array([19, 69, 63, 34, 63, 53, 40, 48, 67, 31])"
      ]
     },
     "execution_count": 34,
     "metadata": {},
     "output_type": "execute_result"
    }
   ],
   "source": [
    "emp_salary = np.random.randint(8,70,10)\n",
    "emp_salary"
   ]
  },
  {
   "cell_type": "code",
   "execution_count": 37,
   "id": "d69de9d6",
   "metadata": {},
   "outputs": [
    {
     "data": {
      "text/plain": [
       "array([20, 50, 50, 34, 50, 50, 40, 48, 50, 31])"
      ]
     },
     "execution_count": 37,
     "metadata": {},
     "output_type": "execute_result"
    }
   ],
   "source": [
    "np.clip(emp_salary,a_min= 20,a_max= 50)"
   ]
  },
  {
   "cell_type": "code",
   "execution_count": 39,
   "id": "83bb16e5",
   "metadata": {},
   "outputs": [
    {
     "name": "stdout",
     "output_type": "stream",
     "text": [
      "(array([0, 3, 9], dtype=int64),)\n"
     ]
    }
   ],
   "source": [
    "print(np.where(emp_salary < 40))"
   ]
  },
  {
   "cell_type": "code",
   "execution_count": 41,
   "id": "8bc4bb92",
   "metadata": {},
   "outputs": [
    {
     "data": {
      "text/plain": [
       "array([69, 34, 53])"
      ]
     },
     "execution_count": 41,
     "metadata": {},
     "output_type": "execute_result"
    }
   ],
   "source": [
    "emp_salary[[1,3,5]]"
   ]
  },
  {
   "cell_type": "code",
   "execution_count": 52,
   "id": "a1dd6cd3",
   "metadata": {},
   "outputs": [
    {
     "data": {
      "text/plain": [
       "array([93, 20, 84, 37,  6,  1, 40, 40, 57, 28, 50, 25, 67, 11, 10,  7, 59,\n",
       "       53, 19, 52, 38, 11, 38, 16, 14, 86,  8, 65, 44, 49])"
      ]
     },
     "execution_count": 52,
     "metadata": {},
     "output_type": "execute_result"
    }
   ],
   "source": [
    "import numpy as np\n",
    "from numpy.random import randint as ri\n",
    "\n",
    "a = ri(1,99,30)\n",
    "a"
   ]
  },
  {
   "cell_type": "code",
   "execution_count": 44,
   "id": "16ae751c",
   "metadata": {},
   "outputs": [
    {
     "data": {
      "text/plain": [
       "array([[[33, 69, 51, 60, 42],\n",
       "        [64, 80, 83, 32, 23],\n",
       "        [67,  6, 66, 34, 90]],\n",
       "\n",
       "       [[11, 83, 55, 73, 15],\n",
       "        [82, 58, 80, 93, 34],\n",
       "        [88, 42, 87, 57, 85]]])"
      ]
     },
     "execution_count": 44,
     "metadata": {},
     "output_type": "execute_result"
    }
   ],
   "source": [
    "b = a.reshape(2,3,5)\n",
    "b"
   ]
  },
  {
   "cell_type": "code",
   "execution_count": 46,
   "id": "31efda1d",
   "metadata": {},
   "outputs": [
    {
     "data": {
      "text/plain": [
       "array([[33, 69, 51, 60, 42],\n",
       "       [64, 80, 83, 32, 23],\n",
       "       [67,  6, 66, 34, 90],\n",
       "       [11, 83, 55, 73, 15],\n",
       "       [82, 58, 80, 93, 34],\n",
       "       [88, 42, 87, 57, 85]])"
      ]
     },
     "execution_count": 46,
     "metadata": {},
     "output_type": "execute_result"
    }
   ],
   "source": [
    "c = a.reshape(6,5)\n",
    "c"
   ]
  },
  {
   "cell_type": "code",
   "execution_count": 48,
   "id": "b8b8fbdd",
   "metadata": {},
   "outputs": [
    {
     "name": "stdout",
     "output_type": "stream",
     "text": [
      "Max of a =  93\n",
      "Min of b =  6\n"
     ]
    }
   ],
   "source": [
    "print('Max of a = ',c.max())\n",
    "print('Min of b = ',c.min())"
   ]
  },
  {
   "cell_type": "code",
   "execution_count": 54,
   "id": "5c014dc8",
   "metadata": {},
   "outputs": [
    {
     "name": "stdout",
     "output_type": "stream",
     "text": [
      "Here is matrix \n",
      "  ------------------------------ \n",
      " [[11 79 57 72 52]\n",
      " [91 26 75 55 46]\n",
      " [16  1 94 46  1]\n",
      " [58 84 33 37 94]\n",
      " [34  5 27 15  5]]\n",
      "Sorted matrix along row \n",
      "  ------------------------------ \n",
      " [[11 52 57 72 79]\n",
      " [26 46 55 75 91]\n",
      " [ 1  1 16 46 94]\n",
      " [33 37 58 84 94]\n",
      " [ 5  5 15 27 34]]\n",
      "Sorted matrix along cloumn \n",
      " ------------------------------ \n",
      " [[11  1 27 15  1]\n",
      " [16  5 33 37  5]\n",
      " [34 26 57 46 46]\n",
      " [58 79 75 55 52]\n",
      " [91 84 94 72 94]]\n"
     ]
    }
   ],
   "source": [
    "M = ri(1,100,25).reshape(5,5)\n",
    "print(\"Here is matrix \\n \",'-'*30,\"\\n\", M)\n",
    "print(\"Sorted matrix along row \\n \",'-'*30,\"\\n\",np.sort(M))\n",
    "print(\"Sorted matrix along cloumn \\n\",'-'*30,\"\\n\",np.sort(M,axis=0))"
   ]
  },
  {
   "cell_type": "code",
   "execution_count": 55,
   "id": "556af663",
   "metadata": {},
   "outputs": [
    {
     "name": "stdout",
     "output_type": "stream",
     "text": [
      "Array [13 14 15 16 17 18 19 20 21 22 23 24 25 26 27 28 29]\n"
     ]
    }
   ],
   "source": [
    "arr = np.arange(13,30)\n",
    "print(\"Array\",arr)"
   ]
  },
  {
   "cell_type": "code",
   "execution_count": 56,
   "id": "8484aad5",
   "metadata": {},
   "outputs": [
    {
     "name": "stdout",
     "output_type": "stream",
     "text": [
      "element at 7th index is:  20\n"
     ]
    }
   ],
   "source": [
    "print('element at 7th index is: ',arr[7])"
   ]
  },
  {
   "cell_type": "code",
   "execution_count": 57,
   "id": "93230f40",
   "metadata": {},
   "outputs": [
    {
     "name": "stdout",
     "output_type": "stream",
     "text": [
      "element from 3rd to 5th [16 17 18]\n"
     ]
    }
   ],
   "source": [
    "print('element from 3rd to 5th',arr[3:6])"
   ]
  },
  {
   "cell_type": "code",
   "execution_count": 59,
   "id": "b5a4652b",
   "metadata": {},
   "outputs": [
    {
     "name": "stdout",
     "output_type": "stream",
     "text": [
      "element last backward are [29 27 25 23 21 19 17 15 13]\n"
     ]
    }
   ],
   "source": [
    "print('element last backward are',arr[-1::-2])"
   ]
  },
  {
   "cell_type": "code",
   "execution_count": 60,
   "id": "b54673ff",
   "metadata": {},
   "outputs": [
    {
     "name": "stdout",
     "output_type": "stream",
     "text": [
      "new arr [ 0  2  4  6  8 10 12 14 16 18 20]\n"
     ]
    }
   ],
   "source": [
    "arr =np.arange(0,21,2)\n",
    "print('new arr',arr)"
   ]
  },
  {
   "cell_type": "code",
   "execution_count": 61,
   "id": "4e8fd18a",
   "metadata": {},
   "outputs": [
    {
     "name": "stdout",
     "output_type": "stream",
     "text": [
      "element at 2nd,4th,9th index are:  [ 4  8 18]\n"
     ]
    }
   ],
   "source": [
    "print('element at 2nd,4th,9th index are: ',arr[[2,4,9]])"
   ]
  },
  {
   "cell_type": "code",
   "execution_count": 65,
   "id": "581c5cad",
   "metadata": {},
   "outputs": [
    {
     "data": {
      "text/plain": [
       "array([[1, 2, 3],\n",
       "       [4, 5, 6],\n",
       "       [7, 8, 9]])"
      ]
     },
     "execution_count": 65,
     "metadata": {},
     "output_type": "execute_result"
    }
   ],
   "source": [
    "my_mat = [[1,2,3],[4,5,6],[7,8,9]]\n",
    "mat = np.array(my_mat)\n",
    "mat"
   ]
  },
  {
   "cell_type": "code",
   "execution_count": 68,
   "id": "d92773d6",
   "metadata": {},
   "outputs": [
    {
     "name": "stdout",
     "output_type": "stream",
     "text": [
      "élement in row 1 and column 2:  6\n"
     ]
    }
   ],
   "source": [
    "print('élement in row 1 and column 2: ',mat[1][2])"
   ]
  },
  {
   "cell_type": "code",
   "execution_count": 69,
   "id": "c15a09f8",
   "metadata": {},
   "outputs": [
    {
     "name": "stdout",
     "output_type": "stream",
     "text": [
      "element in row 2 : [7 8 9]\n"
     ]
    }
   ],
   "source": [
    "print('element in row 2 :',mat[2])"
   ]
  },
  {
   "cell_type": "code",
   "execution_count": 74,
   "id": "14ce9b89",
   "metadata": {},
   "outputs": [
    {
     "name": "stdout",
     "output_type": "stream",
     "text": [
      "element in row 2 : [7 8 9]\n",
      "cloum at index zero & 1\n",
      " [[2 3]\n",
      " [5 6]\n",
      " [8 9]]\n"
     ]
    }
   ],
   "source": [
    "print('element in row 2 :',mat[2])\n",
    "print('cloum at index zero & 1\\n',mat[:,1:])"
   ]
  },
  {
   "cell_type": "code",
   "execution_count": 75,
   "id": "50e4da38",
   "metadata": {},
   "outputs": [
    {
     "name": "stdout",
     "output_type": "stream",
     "text": [
      "x \n",
      " [[5]]\n"
     ]
    }
   ],
   "source": [
    "print('x \\n',mat[1:2,1:2])"
   ]
  },
  {
   "cell_type": "code",
   "execution_count": 76,
   "id": "3e71c3e8",
   "metadata": {},
   "outputs": [
    {
     "data": {
      "text/plain": [
       "array([[1, 2, 3],\n",
       "       [4, 5, 6],\n",
       "       [7, 8, 9]])"
      ]
     },
     "execution_count": 76,
     "metadata": {},
     "output_type": "execute_result"
    }
   ],
   "source": [
    "mat"
   ]
  },
  {
   "cell_type": "code",
   "execution_count": 78,
   "id": "e841560b",
   "metadata": {},
   "outputs": [
    {
     "name": "stdout",
     "output_type": "stream",
     "text": [
      "y [[2 3]\n",
      " [5 6]]\n"
     ]
    }
   ],
   "source": [
    "print('y',mat[0:2,[1,2]])"
   ]
  },
  {
   "cell_type": "code",
   "execution_count": 79,
   "id": "43a21128",
   "metadata": {},
   "outputs": [
    {
     "data": {
      "text/plain": [
       "array([[1, 2, 3],\n",
       "       [4, 5, 6],\n",
       "       [7, 8, 9]])"
      ]
     },
     "execution_count": 79,
     "metadata": {},
     "output_type": "execute_result"
    }
   ],
   "source": [
    "mat"
   ]
  },
  {
   "cell_type": "code",
   "execution_count": 81,
   "id": "b3e9e436",
   "metadata": {},
   "outputs": [
    {
     "data": {
      "text/plain": [
       "array([[ 1, 35,  3],\n",
       "       [ 4,  5,  6],\n",
       "       [ 7,  8,  9]])"
      ]
     },
     "execution_count": 81,
     "metadata": {},
     "output_type": "execute_result"
    }
   ],
   "source": [
    "mat[0,1] = 35\n",
    "mat"
   ]
  },
  {
   "cell_type": "code",
   "execution_count": 82,
   "id": "52ab1e8e",
   "metadata": {},
   "outputs": [
    {
     "name": "stdout",
     "output_type": "stream",
     "text": [
      "Matrix having 3 row & 5 column :\n",
      " [[51 63 23 34 60]\n",
      " [60 37 79 69 83]\n",
      " [94 81 71 18 91]]\n"
     ]
    }
   ],
   "source": [
    "mat = np.array(ri(10,100,15)).reshape(3,5)\n",
    "print('Matrix having 3 row & 5 column :\\n',mat)"
   ]
  },
  {
   "cell_type": "code",
   "execution_count": 83,
   "id": "5148ccfe",
   "metadata": {},
   "outputs": [
    {
     "data": {
      "text/plain": [
       "array([79, 83, 94, 81, 71, 91])"
      ]
     },
     "execution_count": 83,
     "metadata": {},
     "output_type": "execute_result"
    }
   ],
   "source": [
    "xyz = mat[mat>70]\n",
    "xyz"
   ]
  },
  {
   "cell_type": "code",
   "execution_count": 84,
   "id": "0790a2de",
   "metadata": {},
   "outputs": [
    {
     "name": "stdout",
     "output_type": "stream",
     "text": [
      "(array([0], dtype=int64), array([1], dtype=int64))\n"
     ]
    }
   ],
   "source": [
    "print(np.where(mat==63))"
   ]
  },
  {
   "cell_type": "code",
   "execution_count": 85,
   "id": "6aece931",
   "metadata": {},
   "outputs": [
    {
     "name": "stdout",
     "output_type": "stream",
     "text": [
      "Matrix 1 \n",
      " [[5 3 3]\n",
      " [6 1 8]\n",
      " [6 4 1]]\n",
      "Matrix 2 \n",
      " [[2 8 9]\n",
      " [4 4 4]\n",
      " [1 3 8]]\n"
     ]
    }
   ],
   "source": [
    "mat1 = np.array(ri(1,10,9)).reshape(3,3)\n",
    "mat2 = np.array(ri(1,10,9)).reshape(3,3)\n",
    "print('Matrix 1 \\n',mat1)\n",
    "print('Matrix 2 \\n',mat2)"
   ]
  },
  {
   "cell_type": "code",
   "execution_count": 86,
   "id": "1eb0221f",
   "metadata": {},
   "outputs": [
    {
     "name": "stdout",
     "output_type": "stream",
     "text": [
      "Addition \n",
      " [[ 7 11 12]\n",
      " [10  5 12]\n",
      " [ 7  7  9]]\n"
     ]
    }
   ],
   "source": [
    "print('Addition \\n',mat1+mat2)"
   ]
  },
  {
   "cell_type": "code",
   "execution_count": 87,
   "id": "4bee1963",
   "metadata": {},
   "outputs": [
    {
     "name": "stdout",
     "output_type": "stream",
     "text": [
      "[[0. 0. 0.]\n",
      " [0. 0. 0.]\n",
      " [0. 0. 0.]]\n"
     ]
    }
   ],
   "source": [
    "start = np.zeros((3,3))\n",
    "print(start)\n"
   ]
  },
  {
   "cell_type": "code",
   "execution_count": 89,
   "id": "21d884c2",
   "metadata": {},
   "outputs": [
    {
     "name": "stdout",
     "output_type": "stream",
     "text": [
      "[[1 0 2]]\n"
     ]
    }
   ],
   "source": [
    "rows = np.array([[1,0,2]])\n",
    "print(rows)"
   ]
  },
  {
   "cell_type": "code",
   "execution_count": 90,
   "id": "03f042bc",
   "metadata": {},
   "outputs": [
    {
     "data": {
      "text/plain": [
       "array([[1., 0., 2.],\n",
       "       [1., 0., 2.],\n",
       "       [1., 0., 2.]])"
      ]
     },
     "execution_count": 90,
     "metadata": {},
     "output_type": "execute_result"
    }
   ],
   "source": [
    "y = start + rows\n",
    "y"
   ]
  },
  {
   "cell_type": "code",
   "execution_count": 91,
   "id": "88e881e1",
   "metadata": {},
   "outputs": [
    {
     "data": {
      "text/plain": [
       "array([[1],\n",
       "       [0],\n",
       "       [2]])"
      ]
     },
     "execution_count": 91,
     "metadata": {},
     "output_type": "execute_result"
    }
   ],
   "source": [
    "new_row = rows.T\n",
    "new_row"
   ]
  },
  {
   "cell_type": "code",
   "execution_count": 92,
   "id": "e21c0c6d",
   "metadata": {},
   "outputs": [
    {
     "data": {
      "text/plain": [
       "array([[1., 1., 1.],\n",
       "       [0., 0., 0.],\n",
       "       [2., 2., 2.]])"
      ]
     },
     "execution_count": 92,
     "metadata": {},
     "output_type": "execute_result"
    }
   ],
   "source": [
    "test = new_row + start\n",
    "test"
   ]
  },
  {
   "cell_type": "code",
   "execution_count": 93,
   "id": "cf05db45",
   "metadata": {},
   "outputs": [
    {
     "data": {
      "text/plain": [
       "array([[5, 3, 3],\n",
       "       [6, 1, 8],\n",
       "       [6, 4, 1]])"
      ]
     },
     "execution_count": 93,
     "metadata": {},
     "output_type": "execute_result"
    }
   ],
   "source": [
    "mat1"
   ]
  },
  {
   "cell_type": "code",
   "execution_count": 94,
   "id": "bda7c117",
   "metadata": {},
   "outputs": [
    {
     "name": "stdout",
     "output_type": "stream",
     "text": [
      "square root of mat1: \n",
      " [[2.23606798 1.73205081 1.73205081]\n",
      " [2.44948974 1.         2.82842712]\n",
      " [2.44948974 2.         1.        ]]\n"
     ]
    }
   ],
   "source": [
    "print('square root of mat1: \\n',np.sqrt(mat1))"
   ]
  },
  {
   "cell_type": "code",
   "execution_count": null,
   "id": "4bc9642d",
   "metadata": {},
   "outputs": [],
   "source": []
  }
 ],
 "metadata": {
  "kernelspec": {
   "display_name": "Python 3 (ipykernel)",
   "language": "python",
   "name": "python3"
  },
  "language_info": {
   "codemirror_mode": {
    "name": "ipython",
    "version": 3
   },
   "file_extension": ".py",
   "mimetype": "text/x-python",
   "name": "python",
   "nbconvert_exporter": "python",
   "pygments_lexer": "ipython3",
   "version": "3.9.7"
  }
 },
 "nbformat": 4,
 "nbformat_minor": 5
}
