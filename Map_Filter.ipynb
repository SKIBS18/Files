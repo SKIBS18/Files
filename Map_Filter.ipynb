{
 "cells": [
  {
   "cell_type": "code",
   "execution_count": 4,
   "id": "14c3b05f",
   "metadata": {},
   "outputs": [
    {
     "data": {
      "text/plain": [
       "[45, 50, 35, 35, 35, 41, 35, 66]"
      ]
     },
     "execution_count": 4,
     "metadata": {},
     "output_type": "execute_result"
    }
   ],
   "source": [
    "def grace_marks(marks):\n",
    "    \n",
    "    if marks == 34:\n",
    "        return(marks + 1)\n",
    "    elif marks == 33:\n",
    "        return(marks + 2)\n",
    "    elif marks == 32:\n",
    "        return(marks + 3)\n",
    "    elif marks == 31:\n",
    "        return(marks + 4)\n",
    "    elif marks == 30:\n",
    "        return(marks + 5)\n",
    "    else:\n",
    "        return marks\n",
    "    \n",
    "score =[45, 50, 30, 34, 35, 41, 32, 66]\n",
    "\n",
    "Total = list(map(grace_marks,score))\n",
    "Total"
   ]
  },
  {
   "cell_type": "code",
   "execution_count": 6,
   "id": "f5df035d",
   "metadata": {},
   "outputs": [
    {
     "data": {
      "text/plain": [
       "4"
      ]
     },
     "execution_count": 6,
     "metadata": {},
     "output_type": "execute_result"
    }
   ],
   "source": [
    "Total.count(35)"
   ]
  },
  {
   "cell_type": "code",
   "execution_count": 7,
   "id": "86d63cc9",
   "metadata": {},
   "outputs": [
    {
     "data": {
      "text/plain": [
       "[30, 34, 32]"
      ]
     },
     "execution_count": 7,
     "metadata": {},
     "output_type": "execute_result"
    }
   ],
   "source": [
    "def filter_marks(marks):\n",
    "    \n",
    "    if marks < 35:\n",
    "        return marks\n",
    "    \n",
    "score = [45, 50, 30, 34, 35, 41, 32, 66]\n",
    "\n",
    "Failed = list(filter(filter_marks,score))\n",
    "Failed"
   ]
  },
  {
   "cell_type": "code",
   "execution_count": 8,
   "id": "3de60a5c",
   "metadata": {},
   "outputs": [
    {
     "data": {
      "text/plain": [
       "[True, False, True, False, True]"
      ]
     },
     "execution_count": 8,
     "metadata": {},
     "output_type": "execute_result"
    }
   ],
   "source": [
    "list(map(lambda var: var % 2 ==0, range(5)))"
   ]
  },
  {
   "cell_type": "code",
   "execution_count": 9,
   "id": "c5b0baa8",
   "metadata": {},
   "outputs": [
    {
     "data": {
      "text/plain": [
       "[0, 2, 4]"
      ]
     },
     "execution_count": 9,
     "metadata": {},
     "output_type": "execute_result"
    }
   ],
   "source": [
    "list(filter(lambda var : var% 2 ==0, range(5)))"
   ]
  },
  {
   "cell_type": "code",
   "execution_count": null,
   "id": "3bbd65ef",
   "metadata": {},
   "outputs": [],
   "source": []
  }
 ],
 "metadata": {
  "kernelspec": {
   "display_name": "Python 3 (ipykernel)",
   "language": "python",
   "name": "python3"
  },
  "language_info": {
   "codemirror_mode": {
    "name": "ipython",
    "version": 3
   },
   "file_extension": ".py",
   "mimetype": "text/x-python",
   "name": "python",
   "nbconvert_exporter": "python",
   "pygments_lexer": "ipython3",
   "version": "3.9.7"
  }
 },
 "nbformat": 4,
 "nbformat_minor": 5
}
