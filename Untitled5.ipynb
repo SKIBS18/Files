{
 "cells": [
  {
   "cell_type": "code",
   "execution_count": null,
   "id": "7335a30d",
   "metadata": {},
   "outputs": [
    {
     "name": "stdout",
     "output_type": "stream",
     "text": [
      "Downloading 0 of 10 images\n",
      "Downloading 1 of 10 images\n",
      "Downloading 2 of 10 images\n",
      "Downloading 3 of 10 images\n",
      "Downloading 4 of 10 images\n"
     ]
    }
   ],
   "source": [
    "from selenium import webdriver\n",
    "\n",
    "import time\n",
    "from time import sleep\n",
    "\n",
    "from selenium.webdriver.common.by import By\n",
    "import pandas as pd\n",
    "import warnings\n",
    "warnings.filterwarnings('ignore')\n",
    "\n",
    "from bs4 import BeautifulSoup\n",
    "import requests\n",
    "\n",
    "driver = webdriver.Chrome(r'C:\\Users\\shail\\Downloads\\chromedriver_win32\\chromedriver.exe')\n",
    "\n",
    "url = 'https://images.google.com/'\n",
    "driver.get(url)\n",
    "\n",
    "search_img = driver.find_element(By.XPATH,\"/html/body/div[1]/div[3]/form/div[1]/div[1]/div[1]/div/div[2]/input\")\n",
    "search_img\n",
    "\n",
    "search_img.send_keys('cars')\n",
    "\n",
    "search_btn = driver.find_element(By.XPATH,\"/html/body/div[1]/div[3]/form/div[1]/div[1]/div[1]/button/div/span\")\n",
    "search_btn\n",
    "\n",
    "search_btn.click()\n",
    "\n",
    "total_cars = driver.find_elements(By.XPATH,'//div[@class=\"isv-r PNCib MSM1fd BUooTd\"]')\n",
    "len(total_cars)\n",
    "\n",
    "url = []\n",
    "for i in range(1,14):\n",
    "    xpath = \"//*[@id='islrg']/div[1]/div[%s]\"%(i)\n",
    "    driver.find_element(By.XPATH,xpath).click()\n",
    "    sleep(5)\n",
    "    imageElement = driver.find_element(By.XPATH,'//*[@id=\"Sva75c\"]/div/div/div[3]/div[2]/c-wiz/div/div[1]/div[1]/div[3]/div/a/img')\n",
    "    source = imageElement.get_attribute('src')\n",
    "    if source is not None:\n",
    "        if(source[0:4] == 'http'):\n",
    "            url.append(source)     \n",
    "\n",
    "url\n",
    "\n",
    "l = url[0:10]\n",
    "\n",
    "for p in range(len(l)):\n",
    "    if p > 10:\n",
    "        break\n",
    "    print(\"Downloading {0} of {1} images\".format(p,10))\n",
    "    response = requests.get(l[p])\n",
    "    file = open(r\"C:\\Users\\shail\\Downloads\\cars\" + str(p)+\".jpg\",\"wb\")\n",
    "    file.write(response.content)"
   ]
  },
  {
   "cell_type": "code",
   "execution_count": null,
   "id": "9b7fa0b8",
   "metadata": {},
   "outputs": [],
   "source": []
  }
 ],
 "metadata": {
  "kernelspec": {
   "display_name": "Python 3 (ipykernel)",
   "language": "python",
   "name": "python3"
  },
  "language_info": {
   "codemirror_mode": {
    "name": "ipython",
    "version": 3
   },
   "file_extension": ".py",
   "mimetype": "text/x-python",
   "name": "python",
   "nbconvert_exporter": "python",
   "pygments_lexer": "ipython3",
   "version": "3.9.7"
  }
 },
 "nbformat": 4,
 "nbformat_minor": 5
}
