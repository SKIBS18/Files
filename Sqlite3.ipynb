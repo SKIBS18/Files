{
 "cells": [
  {
   "cell_type": "code",
   "execution_count": 2,
   "id": "7753b065",
   "metadata": {},
   "outputs": [],
   "source": [
    "import sqlite3"
   ]
  },
  {
   "cell_type": "code",
   "execution_count": 3,
   "id": "1fc59f1a",
   "metadata": {},
   "outputs": [],
   "source": [
    "db = sqlite3.connect('my_database3.db')"
   ]
  },
  {
   "cell_type": "code",
   "execution_count": 41,
   "id": "b52785b7",
   "metadata": {},
   "outputs": [],
   "source": [
    "cursor = db.cursor()"
   ]
  },
  {
   "cell_type": "code",
   "execution_count": 49,
   "id": "0935d518",
   "metadata": {},
   "outputs": [
    {
     "data": {
      "text/plain": [
       "<sqlite3.Cursor at 0xab6eeb6b20>"
      ]
     },
     "execution_count": 49,
     "metadata": {},
     "output_type": "execute_result"
    }
   ],
   "source": [
    "cursor.execute(\"create table score1(gender Text, stud_id INT primary key,marks int)\")"
   ]
  },
  {
   "cell_type": "code",
   "execution_count": 6,
   "id": "23e6e7fb",
   "metadata": {},
   "outputs": [
    {
     "data": {
      "text/plain": [
       "<sqlite3.Cursor at 0xd0327b2ab0>"
      ]
     },
     "execution_count": 6,
     "metadata": {},
     "output_type": "execute_result"
    }
   ],
   "source": [
    "cursor.execute(\"insert INTO score1(gender,stud_id,marks) values('Male',196,56)\")"
   ]
  },
  {
   "cell_type": "code",
   "execution_count": 50,
   "id": "b025fba3",
   "metadata": {},
   "outputs": [],
   "source": [
    "db.commit()"
   ]
  },
  {
   "cell_type": "code",
   "execution_count": 51,
   "id": "88613641",
   "metadata": {},
   "outputs": [
    {
     "name": "stdout",
     "output_type": "stream",
     "text": [
      "-1 Row inserted\n"
     ]
    }
   ],
   "source": [
    "print(cursor.rowcount,'Row inserted')"
   ]
  },
  {
   "cell_type": "code",
   "execution_count": 52,
   "id": "bd5a9302",
   "metadata": {},
   "outputs": [],
   "source": [
    "results = cursor.execute(\"insert INTO score1(gender,stud_id,marks)values('Female',197,57),('Male',198,34),('Male',199,56)\")\n",
    "db.commit()"
   ]
  },
  {
   "cell_type": "code",
   "execution_count": 53,
   "id": "56452c6c",
   "metadata": {},
   "outputs": [
    {
     "name": "stdout",
     "output_type": "stream",
     "text": [
      "('Female', 197, 57)\n",
      "('Male', 198, 34)\n",
      "('Male', 199, 56)\n"
     ]
    }
   ],
   "source": [
    "results = cursor.execute(\"select * From score1\")\n",
    "for row in results:\n",
    "    print(row)"
   ]
  },
  {
   "cell_type": "code",
   "execution_count": 54,
   "id": "948d5d6f",
   "metadata": {},
   "outputs": [
    {
     "name": "stdout",
     "output_type": "stream",
     "text": [
      "(197, 57)\n",
      "(198, 34)\n",
      "(199, 56)\n"
     ]
    }
   ],
   "source": [
    "results = cursor.execute(\"select stud_id, marks From score1\")\n",
    "for row in results:\n",
    "    print(row)"
   ]
  },
  {
   "cell_type": "code",
   "execution_count": 55,
   "id": "ebc63b7f",
   "metadata": {},
   "outputs": [
    {
     "name": "stdout",
     "output_type": "stream",
     "text": [
      "9 records_inserted\n"
     ]
    }
   ],
   "source": [
    "with open('C:/Users/shail/Downloads/score_file.csv','r') as file:\n",
    "    no_records = 0\n",
    "    for row in file:\n",
    "        cursor.execute(\"Insert INTO score1 values(?,?,?)\",row.split(\",\"))\n",
    "        db.commit()\n",
    "        no_records+=1\n",
    "        \n",
    "print(no_records,'records_inserted')"
   ]
  },
  {
   "cell_type": "code",
   "execution_count": 56,
   "id": "b8efd6d8",
   "metadata": {},
   "outputs": [
    {
     "name": "stdout",
     "output_type": "stream",
     "text": [
      "('Female', 197, 57)\n",
      "('Male', 198, 34)\n",
      "('Male', 199, 56)\n",
      "('Male', 200, 67)\n",
      "('Female', 201, 76)\n",
      "('Male', 202, 45)\n",
      "('Male', 203, 32)\n",
      "('Female', 204, 67)\n",
      "('Male', 205, 20)\n",
      "('Female', 206, 33)\n",
      "('Male', 207, 76)\n",
      "('Male', 208, 90)\n"
     ]
    }
   ],
   "source": [
    "results = cursor.execute(\"select * From score1\")\n",
    "for row in results:\n",
    "    print(row)"
   ]
  },
  {
   "cell_type": "code",
   "execution_count": 57,
   "id": "45e1236e",
   "metadata": {},
   "outputs": [
    {
     "name": "stdout",
     "output_type": "stream",
     "text": [
      "('Female', 204, 67)\n"
     ]
    }
   ],
   "source": [
    "sql = \"select * FROM score1 Where stud_id = 204\"\n",
    "results = cursor.execute(sql)\n",
    "for row in results:\n",
    "    print(row)"
   ]
  },
  {
   "cell_type": "code",
   "execution_count": 58,
   "id": "86a8c51c",
   "metadata": {},
   "outputs": [
    {
     "data": {
      "text/plain": [
       "<sqlite3.Cursor at 0xab6eeb6b20>"
      ]
     },
     "execution_count": 58,
     "metadata": {},
     "output_type": "execute_result"
    }
   ],
   "source": [
    "sql = \"Delete From score1 Where stud_id = 204\"\n",
    "db.commit()\n",
    "cursor.execute(sql)"
   ]
  },
  {
   "cell_type": "code",
   "execution_count": 59,
   "id": "6f4de36a",
   "metadata": {},
   "outputs": [
    {
     "name": "stdout",
     "output_type": "stream",
     "text": [
      "('Female', 197, 57)\n",
      "('Male', 198, 34)\n",
      "('Male', 199, 56)\n",
      "('Male', 200, 67)\n",
      "('Female', 201, 76)\n",
      "('Male', 202, 45)\n",
      "('Male', 203, 32)\n",
      "('Male', 205, 20)\n",
      "('Female', 206, 33)\n",
      "('Male', 207, 76)\n",
      "('Male', 208, 90)\n"
     ]
    }
   ],
   "source": [
    "results = cursor.execute(\"select * FROM score1\")\n",
    "for row in results:\n",
    "    print(row)"
   ]
  },
  {
   "cell_type": "code",
   "execution_count": 60,
   "id": "85148a51",
   "metadata": {},
   "outputs": [
    {
     "name": "stdout",
     "output_type": "stream",
     "text": [
      "('Male', 208, 90)\n",
      "('Female', 201, 76)\n",
      "('Male', 207, 76)\n",
      "('Male', 200, 67)\n",
      "('Female', 197, 57)\n",
      "('Male', 199, 56)\n",
      "('Male', 202, 45)\n",
      "('Male', 198, 34)\n",
      "('Female', 206, 33)\n",
      "('Male', 203, 32)\n",
      "('Male', 205, 20)\n"
     ]
    }
   ],
   "source": [
    "results = cursor.execute(\"select * FROM score1 order by marks desc\")\n",
    "for row in results:\n",
    "    print(row)"
   ]
  },
  {
   "cell_type": "code",
   "execution_count": 61,
   "id": "22a08327",
   "metadata": {},
   "outputs": [
    {
     "data": {
      "text/plain": [
       "<sqlite3.Cursor at 0xab6eeb6b20>"
      ]
     },
     "execution_count": 61,
     "metadata": {},
     "output_type": "execute_result"
    }
   ],
   "source": [
    "sql = \"Update score1 set marks = 50 Where stud_id = 205\"\n",
    "cursor.execute(sql)"
   ]
  },
  {
   "cell_type": "code",
   "execution_count": 62,
   "id": "46b369a6",
   "metadata": {},
   "outputs": [
    {
     "name": "stdout",
     "output_type": "stream",
     "text": [
      "('Male', 205, 50)\n"
     ]
    }
   ],
   "source": [
    "sql = \"select * FROM score1 Where stud_id = 205\"\n",
    "results = cursor.execute(sql)\n",
    "for row in results:\n",
    "    print(row)"
   ]
  },
  {
   "cell_type": "code",
   "execution_count": 63,
   "id": "2727270e",
   "metadata": {},
   "outputs": [
    {
     "data": {
      "text/plain": [
       "<sqlite3.Cursor at 0xab6eeb6b20>"
      ]
     },
     "execution_count": 63,
     "metadata": {},
     "output_type": "execute_result"
    }
   ],
   "source": [
    "sql = \"update score1 set marks = 35 WHERE stud_id IN(206,203)\"\n",
    "cursor.execute(sql)\n"
   ]
  },
  {
   "cell_type": "code",
   "execution_count": 24,
   "id": "15bb33ab",
   "metadata": {},
   "outputs": [
    {
     "name": "stdout",
     "output_type": "stream",
     "text": [
      "('Male', 196, 56)\n",
      "('Female', 197, 57)\n",
      "('Male', 198, 34)\n",
      "('Male', 199, 56)\n",
      "('Male', 200, 67)\n",
      "('Female', 201, 76)\n",
      "('Male', 202, 45)\n",
      "('Male', 203, 35)\n",
      "('Male', 205, 50)\n",
      "('Female', 206, 35)\n",
      "('Male', 207, 76)\n",
      "('Male', 208, 90)\n"
     ]
    }
   ],
   "source": [
    "sql = \"select * FROM score1 ORDER by stud_id\"\n",
    "results = cursor.execute(sql)\n",
    "for row in results:\n",
    "    print(row)"
   ]
  },
  {
   "cell_type": "code",
   "execution_count": 64,
   "id": "4478f18c",
   "metadata": {},
   "outputs": [
    {
     "data": {
      "text/plain": [
       "<sqlite3.Cursor at 0xab6eeb6b20>"
      ]
     },
     "execution_count": 64,
     "metadata": {},
     "output_type": "execute_result"
    }
   ],
   "source": [
    "sql = \"UPDATE score1 set marks = 50 WHERE stud_id BETWEEN 200 And 203\"\n",
    "cursor.execute(sql)"
   ]
  },
  {
   "cell_type": "code",
   "execution_count": 65,
   "id": "ad6585b4",
   "metadata": {},
   "outputs": [
    {
     "name": "stdout",
     "output_type": "stream",
     "text": [
      "('Male', 200, 50)\n",
      "('Female', 201, 50)\n",
      "('Male', 202, 50)\n",
      "('Male', 203, 50)\n"
     ]
    }
   ],
   "source": [
    "sql = \"select * FROM score1 WHERE stud_id BETWEEN 200 AND 203\"\n",
    "results= cursor.execute(sql)\n",
    "for row in results:\n",
    "    print(row)"
   ]
  },
  {
   "cell_type": "code",
   "execution_count": 66,
   "id": "913e4b90",
   "metadata": {},
   "outputs": [
    {
     "name": "stdout",
     "output_type": "stream",
     "text": [
      "Minimum marks =  (34,)\n"
     ]
    }
   ],
   "source": [
    "results = cursor.execute(\"select MIN(marks) FROM score1\")\n",
    "print('Minimum marks = ', results.fetchone())"
   ]
  },
  {
   "cell_type": "code",
   "execution_count": 67,
   "id": "560df0b9",
   "metadata": {},
   "outputs": [
    {
     "name": "stdout",
     "output_type": "stream",
     "text": [
      "Maximum marks =  (90,)\n"
     ]
    }
   ],
   "source": [
    "results = cursor.execute(\"select MAx(marks) FROM score1\")\n",
    "print('Maximum marks = ', results.fetchone())"
   ]
  },
  {
   "cell_type": "code",
   "execution_count": 7,
   "id": "59086a1b",
   "metadata": {},
   "outputs": [],
   "source": [
    "db = sqlite3.connect(\"student_course.db\")"
   ]
  },
  {
   "cell_type": "code",
   "execution_count": 8,
   "id": "d21429da",
   "metadata": {},
   "outputs": [],
   "source": [
    "cur = db.cursor()"
   ]
  },
  {
   "cell_type": "code",
   "execution_count": 28,
   "id": "580dbd5b",
   "metadata": {},
   "outputs": [
    {
     "ename": "OperationalError",
     "evalue": "table course1 already exists",
     "output_type": "error",
     "traceback": [
      "\u001b[1;31m---------------------------------------------------------------------------\u001b[0m",
      "\u001b[1;31mOperationalError\u001b[0m                          Traceback (most recent call last)",
      "\u001b[1;32m~\\AppData\\Local\\Temp/ipykernel_6860/2168181794.py\u001b[0m in \u001b[0;36m<module>\u001b[1;34m\u001b[0m\n\u001b[1;32m----> 1\u001b[1;33m \u001b[0mcur\u001b[0m\u001b[1;33m.\u001b[0m\u001b[0mexecute\u001b[0m\u001b[1;33m(\u001b[0m\u001b[1;34m\"create table course1(courseid INT primary key,coursename TEXT,duration INT)\"\u001b[0m\u001b[1;33m)\u001b[0m\u001b[1;33m\u001b[0m\u001b[1;33m\u001b[0m\u001b[0m\n\u001b[0m",
      "\u001b[1;31mOperationalError\u001b[0m: table course1 already exists"
     ]
    }
   ],
   "source": [
    "cur.execute(\"create table course1(courseid INT primary key,coursename TEXT,duration INT)\")"
   ]
  },
  {
   "cell_type": "code",
   "execution_count": 29,
   "id": "3e315286",
   "metadata": {},
   "outputs": [
    {
     "ename": "OperationalError",
     "evalue": "table student1 already exists",
     "output_type": "error",
     "traceback": [
      "\u001b[1;31m---------------------------------------------------------------------------\u001b[0m",
      "\u001b[1;31mOperationalError\u001b[0m                          Traceback (most recent call last)",
      "\u001b[1;32m~\\AppData\\Local\\Temp/ipykernel_6860/1296424636.py\u001b[0m in \u001b[0;36m<module>\u001b[1;34m\u001b[0m\n\u001b[1;32m----> 1\u001b[1;33m \u001b[0mcur\u001b[0m\u001b[1;33m.\u001b[0m\u001b[0mexecute\u001b[0m\u001b[1;33m(\u001b[0m\u001b[1;34m\"create table student1(roll_no INT primary key,studentname TEXT,age INT,courseid INT,foreign key(courseid) references course1(courseid))\"\u001b[0m\u001b[1;33m)\u001b[0m\u001b[1;33m\u001b[0m\u001b[1;33m\u001b[0m\u001b[0m\n\u001b[0m",
      "\u001b[1;31mOperationalError\u001b[0m: table student1 already exists"
     ]
    }
   ],
   "source": [
    "cur.execute(\"create table student1(roll_no INT primary key,studentname TEXT,age INT,courseid INT,foreign key(courseid) references course1(courseid))\")"
   ]
  },
  {
   "cell_type": "code",
   "execution_count": 32,
   "id": "e46e6534",
   "metadata": {},
   "outputs": [
    {
     "name": "stdout",
     "output_type": "stream",
     "text": [
      "3 records inserted\n"
     ]
    }
   ],
   "source": [
    "cur.execute(\"insert INTO course1 Values(10,'Physics',50),(11,'Rohit',31),(12,'Surya',36)\")\n",
    "print(cur.rowcount,'records inserted')\n",
    "db.commit()"
   ]
  },
  {
   "cell_type": "code",
   "execution_count": 33,
   "id": "fe69b420",
   "metadata": {},
   "outputs": [
    {
     "name": "stdout",
     "output_type": "stream",
     "text": [
      "4 records inserted\n"
     ]
    }
   ],
   "source": [
    "cur.execute(\"insert INTO student1 values(100,'Virat',20,10),(101,'Sachin',25,11),(102,'Lax',27,10),(103,'Surya',17,11)\")\n",
    "print(cur.rowcount,'records inserted')\n",
    "db.commit()"
   ]
  },
  {
   "cell_type": "code",
   "execution_count": 34,
   "id": "456115b3",
   "metadata": {},
   "outputs": [
    {
     "data": {
      "text/plain": [
       "[(78, 'Data Science', 12),\n",
       " (56, 'python course', 4),\n",
       " (101, 'database', 7),\n",
       " (10, 'Physics', 50),\n",
       " (11, 'Rohit', 31),\n",
       " (12, 'Surya', 36)]"
      ]
     },
     "execution_count": 34,
     "metadata": {},
     "output_type": "execute_result"
    }
   ],
   "source": [
    "results = cur.execute(\"select * FROM course1\")\n",
    "results.fetchall()"
   ]
  },
  {
   "cell_type": "code",
   "execution_count": 35,
   "id": "e22526ea",
   "metadata": {},
   "outputs": [
    {
     "data": {
      "text/plain": [
       "[(1, 'jack', 22, 78),\n",
       " (2, 'john', 21, 56),\n",
       " (3, 'rudolf', 18, 78),\n",
       " (4, 'Jim', 21, 56),\n",
       " (100, 'Virat', 20, 10),\n",
       " (101, 'Sachin', 25, 11),\n",
       " (102, 'Lax', 27, 10),\n",
       " (103, 'Surya', 17, 11)]"
      ]
     },
     "execution_count": 35,
     "metadata": {},
     "output_type": "execute_result"
    }
   ],
   "source": [
    "results = cur.execute(\"select * FROM student1\")\n",
    "results.fetchall()"
   ]
  },
  {
   "cell_type": "code",
   "execution_count": 36,
   "id": "412af5ab",
   "metadata": {},
   "outputs": [
    {
     "name": "stdout",
     "output_type": "stream",
     "text": [
      "(78,)\n"
     ]
    }
   ],
   "source": [
    "results = cur.execute(\"select courseid From course1 Where coursename = 'Data Science'\")\n",
    "\n",
    "for row in results:\n",
    "    print(row)"
   ]
  },
  {
   "cell_type": "code",
   "execution_count": 39,
   "id": "63617fb0",
   "metadata": {},
   "outputs": [
    {
     "data": {
      "text/plain": [
       "[(1, 'jack', 22, 78), (3, 'rudolf', 18, 78)]"
      ]
     },
     "execution_count": 39,
     "metadata": {},
     "output_type": "execute_result"
    }
   ],
   "source": [
    "results = cur.execute('select * FROM student1 Where courseid=(select courseid FROM course1 Where coursename =\"Data Science\")')\n",
    "results.fetchall()"
   ]
  },
  {
   "cell_type": "code",
   "execution_count": 42,
   "id": "4781742b",
   "metadata": {},
   "outputs": [
    {
     "data": {
      "text/plain": [
       "<sqlite3.Cursor at 0xab6eeb6b20>"
      ]
     },
     "execution_count": 42,
     "metadata": {},
     "output_type": "execute_result"
    }
   ],
   "source": [
    "cursor.execute(\"create table students(students_name Text,students_id INT primary key,phone_number INT)\")"
   ]
  },
  {
   "cell_type": "code",
   "execution_count": 73,
   "id": "a6c807f0",
   "metadata": {},
   "outputs": [
    {
     "name": "stdout",
     "output_type": "stream",
     "text": [
      "Name  students_id   phone_number \n",
      " ==================\n",
      "('Ram', 200, 2222222)\n",
      "('Shyam', 201, 3333333)\n",
      "('Usha', 202, 44444)\n",
      "('Lata', 204, 55555)\n",
      "('Ram', 215, 2222222)\n",
      "('Shyam', 219, 3333333)\n",
      "('Usha', 220, 44444)\n",
      "('Lata', 221, 55555)\n",
      "('Ram', 250, 2222222)\n",
      "('Shyam', 251, 3333333)\n",
      "('Usha', 252, 44444)\n",
      "('Lata', 253, 55555)\n"
     ]
    }
   ],
   "source": [
    "cursor.execute(\"insert INTO students(students_name,students_id,phone_number)values('Ram',250,2222222),('Shyam',251,3333333),('Usha',252,44444),('Lata',253,55555)\")\n",
    "db.commit()\n",
    "result =cursor.execute(\"select * FROM students\")\n",
    "print('Name  students_id   phone_number \\n ==================')\n",
    "for row in result:\n",
    "    print(row)"
   ]
  },
  {
   "cell_type": "code",
   "execution_count": 70,
   "id": "eda2a5e1",
   "metadata": {},
   "outputs": [
    {
     "name": "stdout",
     "output_type": "stream",
     "text": [
      "('Female', 197, 57)\n",
      "('Male', 198, 34)\n",
      "('Male', 199, 56)\n",
      "('Male', 200, 50)\n",
      "('Female', 201, 50)\n",
      "('Male', 202, 50)\n",
      "('Male', 203, 50)\n",
      "('Male', 205, 50)\n",
      "('Female', 206, 35)\n",
      "('Male', 207, 76)\n",
      "('Male', 208, 90)\n"
     ]
    }
   ],
   "source": [
    "result = cursor.execute(\"select * FROM score1\")\n",
    "for row in result:\n",
    "    print(row)"
   ]
  },
  {
   "cell_type": "code",
   "execution_count": 75,
   "id": "8d89c589",
   "metadata": {},
   "outputs": [
    {
     "name": "stdout",
     "output_type": "stream",
     "text": [
      "(200, 'Ram', 'Male', 50)\n",
      "(201, 'Shyam', 'Female', 50)\n",
      "(202, 'Usha', 'Male', 50)\n"
     ]
    }
   ],
   "source": [
    "sql = \"select students.students_id,students.students_name,score1.gender,score1.marks FROM score1 INNER JOIN students ON students.students_id = score1.stud_id\"\n",
    "results = cursor.execute(sql)\n",
    "for row in results:\n",
    "    print(row)"
   ]
  },
  {
   "cell_type": "code",
   "execution_count": 76,
   "id": "6a88a55c",
   "metadata": {},
   "outputs": [
    {
     "name": "stdout",
     "output_type": "stream",
     "text": [
      "(200, 'Ram', 'Male', 50)\n",
      "(201, 'Shyam', 'Female', 50)\n",
      "(202, 'Usha', 'Male', 50)\n"
     ]
    }
   ],
   "source": [
    "sql = \"select students.students_id,students.students_name,score1.gender,score1.marks FROM students INNER JOIN score1 ON students.students_id = score1.stud_id\"\n",
    "results = cursor.execute(sql)\n",
    "for row in results:\n",
    "    print(row)"
   ]
  },
  {
   "cell_type": "code",
   "execution_count": 77,
   "id": "26284776",
   "metadata": {},
   "outputs": [
    {
     "name": "stdout",
     "output_type": "stream",
     "text": [
      "(None, None, 'Female', 57)\n",
      "(None, None, 'Male', 34)\n",
      "(None, None, 'Male', 56)\n",
      "(200, 'Ram', 'Male', 50)\n",
      "(201, 'Shyam', 'Female', 50)\n",
      "(202, 'Usha', 'Male', 50)\n",
      "(None, None, 'Male', 50)\n",
      "(None, None, 'Male', 50)\n",
      "(None, None, 'Female', 35)\n",
      "(None, None, 'Male', 76)\n",
      "(None, None, 'Male', 90)\n"
     ]
    }
   ],
   "source": [
    "sql = \"select students.students_id,students.students_name,score1.gender,score1.marks FROM score1 Left JOIN students ON students.students_id = score1.stud_id\"\n",
    "results = cursor.execute(sql)\n",
    "for row in results:\n",
    "    print(row)"
   ]
  },
  {
   "cell_type": "code",
   "execution_count": 78,
   "id": "05266acd",
   "metadata": {},
   "outputs": [
    {
     "name": "stdout",
     "output_type": "stream",
     "text": [
      "(200, 'Ram', 'Male', 50)\n",
      "(201, 'Shyam', 'Female', 50)\n",
      "(202, 'Usha', 'Male', 50)\n",
      "(204, 'Lata', None, None)\n",
      "(215, 'Ram', None, None)\n",
      "(219, 'Shyam', None, None)\n",
      "(220, 'Usha', None, None)\n",
      "(221, 'Lata', None, None)\n",
      "(250, 'Ram', None, None)\n",
      "(251, 'Shyam', None, None)\n",
      "(252, 'Usha', None, None)\n",
      "(253, 'Lata', None, None)\n"
     ]
    }
   ],
   "source": [
    "sql = \"select students.students_id,students.students_name,score1.gender,score1.marks FROM students Left JOIN score1 ON students.students_id = score1.stud_id\"\n",
    "results = cursor.execute(sql)\n",
    "for row in results:\n",
    "    print(row)"
   ]
  },
  {
   "cell_type": "code",
   "execution_count": null,
   "id": "af06abdb",
   "metadata": {},
   "outputs": [],
   "source": []
  }
 ],
 "metadata": {
  "kernelspec": {
   "display_name": "Python 3 (ipykernel)",
   "language": "python",
   "name": "python3"
  },
  "language_info": {
   "codemirror_mode": {
    "name": "ipython",
    "version": 3
   },
   "file_extension": ".py",
   "mimetype": "text/x-python",
   "name": "python",
   "nbconvert_exporter": "python",
   "pygments_lexer": "ipython3",
   "version": "3.9.7"
  }
 },
 "nbformat": 4,
 "nbformat_minor": 5
}
