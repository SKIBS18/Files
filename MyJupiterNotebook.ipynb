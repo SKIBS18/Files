{
 "cells": [
  {
   "cell_type": "code",
   "execution_count": 1,
   "id": "377d41b7",
   "metadata": {},
   "outputs": [
    {
     "data": {
      "text/plain": [
       "False"
      ]
     },
     "execution_count": 1,
     "metadata": {},
     "output_type": "execute_result"
    }
   ],
   "source": [
    "True and False"
   ]
  },
  {
   "cell_type": "code",
   "execution_count": 2,
   "id": "3a423046",
   "metadata": {},
   "outputs": [
    {
     "data": {
      "text/plain": [
       "True"
      ]
     },
     "execution_count": 2,
     "metadata": {},
     "output_type": "execute_result"
    }
   ],
   "source": [
    "True or False"
   ]
  },
  {
   "cell_type": "code",
   "execution_count": 5,
   "id": "203ea19b",
   "metadata": {},
   "outputs": [
    {
     "data": {
      "text/plain": [
       "False"
      ]
     },
     "execution_count": 5,
     "metadata": {},
     "output_type": "execute_result"
    }
   ],
   "source": [
    "not True"
   ]
  },
  {
   "cell_type": "code",
   "execution_count": 6,
   "id": "ce53106b",
   "metadata": {},
   "outputs": [
    {
     "data": {
      "text/plain": [
       "True"
      ]
     },
     "execution_count": 6,
     "metadata": {},
     "output_type": "execute_result"
    }
   ],
   "source": [
    "not False"
   ]
  },
  {
   "cell_type": "code",
   "execution_count": 7,
   "id": "aaddbcde",
   "metadata": {},
   "outputs": [
    {
     "data": {
      "text/plain": [
       "True"
      ]
     },
     "execution_count": 7,
     "metadata": {},
     "output_type": "execute_result"
    }
   ],
   "source": [
    "True is True"
   ]
  },
  {
   "cell_type": "code",
   "execution_count": 8,
   "id": "07b6ba4c",
   "metadata": {},
   "outputs": [
    {
     "data": {
      "text/plain": [
       "False"
      ]
     },
     "execution_count": 8,
     "metadata": {},
     "output_type": "execute_result"
    }
   ],
   "source": [
    "True is False"
   ]
  },
  {
   "cell_type": "code",
   "execution_count": 9,
   "id": "0dced141",
   "metadata": {},
   "outputs": [
    {
     "data": {
      "text/plain": [
       "False"
      ]
     },
     "execution_count": 9,
     "metadata": {},
     "output_type": "execute_result"
    }
   ],
   "source": [
    "False is True"
   ]
  },
  {
   "cell_type": "code",
   "execution_count": 11,
   "id": "be32a9d1",
   "metadata": {},
   "outputs": [
    {
     "name": "stderr",
     "output_type": "stream",
     "text": [
      "<>:1: SyntaxWarning: \"is\" with a literal. Did you mean \"==\"?\n",
      "<>:1: SyntaxWarning: \"is\" with a literal. Did you mean \"==\"?\n",
      "C:\\Users\\shail\\AppData\\Local\\Temp/ipykernel_3444/1694900858.py:1: SyntaxWarning: \"is\" with a literal. Did you mean \"==\"?\n",
      "  'b' is 'x'\n"
     ]
    },
    {
     "data": {
      "text/plain": [
       "False"
      ]
     },
     "execution_count": 11,
     "metadata": {},
     "output_type": "execute_result"
    }
   ],
   "source": [
    "'b' is 'x'"
   ]
  },
  {
   "cell_type": "code",
   "execution_count": 12,
   "id": "bf2c8584",
   "metadata": {},
   "outputs": [
    {
     "name": "stderr",
     "output_type": "stream",
     "text": [
      "<>:1: SyntaxWarning: \"is\" with a literal. Did you mean \"==\"?\n",
      "<>:1: SyntaxWarning: \"is\" with a literal. Did you mean \"==\"?\n",
      "C:\\Users\\shail\\AppData\\Local\\Temp/ipykernel_3444/100162287.py:1: SyntaxWarning: \"is\" with a literal. Did you mean \"==\"?\n",
      "  10 is 11\n"
     ]
    },
    {
     "data": {
      "text/plain": [
       "False"
      ]
     },
     "execution_count": 12,
     "metadata": {},
     "output_type": "execute_result"
    }
   ],
   "source": [
    "10 is 11"
   ]
  },
  {
   "cell_type": "code",
   "execution_count": 13,
   "id": "cba33823",
   "metadata": {},
   "outputs": [
    {
     "name": "stderr",
     "output_type": "stream",
     "text": [
      "<>:1: SyntaxWarning: \"is\" with a literal. Did you mean \"==\"?\n",
      "<>:1: SyntaxWarning: \"is\" with a literal. Did you mean \"==\"?\n",
      "C:\\Users\\shail\\AppData\\Local\\Temp/ipykernel_3444/3976285562.py:1: SyntaxWarning: \"is\" with a literal. Did you mean \"==\"?\n",
      "  'b' is 'c'\n"
     ]
    },
    {
     "data": {
      "text/plain": [
       "False"
      ]
     },
     "execution_count": 13,
     "metadata": {},
     "output_type": "execute_result"
    }
   ],
   "source": [
    "'b' is 'c'"
   ]
  },
  {
   "cell_type": "code",
   "execution_count": 14,
   "id": "949f11a9",
   "metadata": {},
   "outputs": [
    {
     "name": "stderr",
     "output_type": "stream",
     "text": [
      "<>:1: SyntaxWarning: \"is\" with a literal. Did you mean \"==\"?\n",
      "<>:1: SyntaxWarning: \"is\" with a literal. Did you mean \"==\"?\n",
      "C:\\Users\\shail\\AppData\\Local\\Temp/ipykernel_3444/4034184141.py:1: SyntaxWarning: \"is\" with a literal. Did you mean \"==\"?\n",
      "  'b' is 'b'\n"
     ]
    },
    {
     "data": {
      "text/plain": [
       "True"
      ]
     },
     "execution_count": 14,
     "metadata": {},
     "output_type": "execute_result"
    }
   ],
   "source": [
    "'b' is 'b'"
   ]
  },
  {
   "cell_type": "code",
   "execution_count": 15,
   "id": "29090d8a",
   "metadata": {},
   "outputs": [
    {
     "data": {
      "text/plain": [
       "True"
      ]
     },
     "execution_count": 15,
     "metadata": {},
     "output_type": "execute_result"
    }
   ],
   "source": [
    "'b' == 'b'"
   ]
  },
  {
   "cell_type": "code",
   "execution_count": 16,
   "id": "0300f5fc",
   "metadata": {},
   "outputs": [
    {
     "data": {
      "text/plain": [
       "2"
      ]
     },
     "execution_count": 16,
     "metadata": {},
     "output_type": "execute_result"
    }
   ],
   "source": [
    "True + True"
   ]
  },
  {
   "cell_type": "code",
   "execution_count": 17,
   "id": "8c63a272",
   "metadata": {},
   "outputs": [
    {
     "data": {
      "text/plain": [
       "-1"
      ]
     },
     "execution_count": 17,
     "metadata": {},
     "output_type": "execute_result"
    }
   ],
   "source": [
    "False - True"
   ]
  },
  {
   "cell_type": "code",
   "execution_count": 18,
   "id": "2306c46b",
   "metadata": {},
   "outputs": [
    {
     "data": {
      "text/plain": [
       "True"
      ]
     },
     "execution_count": 18,
     "metadata": {},
     "output_type": "execute_result"
    }
   ],
   "source": [
    "True and False or True"
   ]
  },
  {
   "cell_type": "code",
   "execution_count": 19,
   "id": "61c9e9d9",
   "metadata": {},
   "outputs": [
    {
     "data": {
      "text/plain": [
       "True"
      ]
     },
     "execution_count": 19,
     "metadata": {},
     "output_type": "execute_result"
    }
   ],
   "source": [
    "True or False and False"
   ]
  },
  {
   "cell_type": "code",
   "execution_count": 20,
   "id": "3889ef16",
   "metadata": {},
   "outputs": [
    {
     "data": {
      "text/plain": [
       "False"
      ]
     },
     "execution_count": 20,
     "metadata": {},
     "output_type": "execute_result"
    }
   ],
   "source": [
    "True and False"
   ]
  },
  {
   "cell_type": "code",
   "execution_count": 21,
   "id": "1c1c8668",
   "metadata": {},
   "outputs": [
    {
     "data": {
      "text/plain": [
       "False"
      ]
     },
     "execution_count": 21,
     "metadata": {},
     "output_type": "execute_result"
    }
   ],
   "source": [
    "False and False"
   ]
  },
  {
   "cell_type": "code",
   "execution_count": 22,
   "id": "60d2ca86",
   "metadata": {},
   "outputs": [
    {
     "name": "stdout",
     "output_type": "stream",
     "text": [
      "['False', 'None', 'True', '__peg_parser__', 'and', 'as', 'assert', 'async', 'await', 'break', 'class', 'continue', 'def', 'del', 'elif', 'else', 'except', 'finally', 'for', 'from', 'global', 'if', 'import', 'in', 'is', 'lambda', 'nonlocal', 'not', 'or', 'pass', 'raise', 'return', 'try', 'while', 'with', 'yield']\n"
     ]
    }
   ],
   "source": [
    "import keyword \n",
    "print (keyword.kwlist)"
   ]
  },
  {
   "cell_type": "code",
   "execution_count": 23,
   "id": "da3a4292",
   "metadata": {},
   "outputs": [
    {
     "name": "stdout",
     "output_type": "stream",
     "text": [
      "20\n"
     ]
    }
   ],
   "source": [
    "a = 20\n",
    "print(a)"
   ]
  },
  {
   "cell_type": "code",
   "execution_count": 24,
   "id": "f99542bb",
   "metadata": {},
   "outputs": [
    {
     "data": {
      "text/plain": [
       "int"
      ]
     },
     "execution_count": 24,
     "metadata": {},
     "output_type": "execute_result"
    }
   ],
   "source": [
    "type(a)"
   ]
  },
  {
   "cell_type": "code",
   "execution_count": 25,
   "id": "29e38bd3",
   "metadata": {},
   "outputs": [
    {
     "data": {
      "text/plain": [
       "20"
      ]
     },
     "execution_count": 25,
     "metadata": {},
     "output_type": "execute_result"
    }
   ],
   "source": [
    "a = 20\n",
    "a"
   ]
  },
  {
   "cell_type": "code",
   "execution_count": 30,
   "id": "cb39dfd8",
   "metadata": {},
   "outputs": [
    {
     "name": "stdout",
     "output_type": "stream",
     "text": [
      "20.5\n"
     ]
    }
   ],
   "source": [
    "a = 20.5\n",
    "print(a)"
   ]
  },
  {
   "cell_type": "code",
   "execution_count": 32,
   "id": "e21b0f73",
   "metadata": {},
   "outputs": [
    {
     "name": "stdout",
     "output_type": "stream",
     "text": [
      "21.5\n"
     ]
    }
   ],
   "source": [
    "b = 21.5\n",
    "print(b)"
   ]
  },
  {
   "cell_type": "code",
   "execution_count": 33,
   "id": "c1d7a0fd",
   "metadata": {},
   "outputs": [
    {
     "data": {
      "text/plain": [
       "float"
      ]
     },
     "execution_count": 33,
     "metadata": {},
     "output_type": "execute_result"
    }
   ],
   "source": [
    "type(b)"
   ]
  },
  {
   "cell_type": "code",
   "execution_count": 36,
   "id": "690e7519",
   "metadata": {},
   "outputs": [
    {
     "data": {
      "text/plain": [
       "23.4"
      ]
     },
     "execution_count": 36,
     "metadata": {},
     "output_type": "execute_result"
    }
   ],
   "source": [
    "c = 23.4\n",
    "c"
   ]
  },
  {
   "cell_type": "code",
   "execution_count": 37,
   "id": "65f98b7c",
   "metadata": {},
   "outputs": [
    {
     "data": {
      "text/plain": [
       "float"
      ]
     },
     "execution_count": 37,
     "metadata": {},
     "output_type": "execute_result"
    }
   ],
   "source": [
    "type(c)"
   ]
  },
  {
   "cell_type": "code",
   "execution_count": 50,
   "id": "cc2765c2",
   "metadata": {},
   "outputs": [
    {
     "data": {
      "text/plain": [
       "23.4"
      ]
     },
     "execution_count": 50,
     "metadata": {},
     "output_type": "execute_result"
    }
   ],
   "source": [
    "d = 23.4\n",
    "d"
   ]
  },
  {
   "cell_type": "code",
   "execution_count": 51,
   "id": "9a8698d3",
   "metadata": {},
   "outputs": [
    {
     "data": {
      "text/plain": [
       "float"
      ]
     },
     "execution_count": 51,
     "metadata": {},
     "output_type": "execute_result"
    }
   ],
   "source": [
    "type(d)"
   ]
  },
  {
   "cell_type": "code",
   "execution_count": 52,
   "id": "cd357f72",
   "metadata": {},
   "outputs": [
    {
     "data": {
      "text/plain": [
       "50"
      ]
     },
     "execution_count": 52,
     "metadata": {},
     "output_type": "execute_result"
    }
   ],
   "source": [
    "a = 20\n",
    "b = 30\n",
    "c = a + b\n",
    "c"
   ]
  },
  {
   "cell_type": "code",
   "execution_count": 53,
   "id": "7da37b1d",
   "metadata": {},
   "outputs": [
    {
     "data": {
      "text/plain": [
       "int"
      ]
     },
     "execution_count": 53,
     "metadata": {},
     "output_type": "execute_result"
    }
   ],
   "source": [
    "type(c)"
   ]
  },
  {
   "cell_type": "code",
   "execution_count": 54,
   "id": "deecd0d3",
   "metadata": {},
   "outputs": [
    {
     "name": "stdout",
     "output_type": "stream",
     "text": [
      "500\n"
     ]
    }
   ],
   "source": [
    "print (c*10)"
   ]
  },
  {
   "cell_type": "code",
   "execution_count": 55,
   "id": "b659d5a2",
   "metadata": {},
   "outputs": [
    {
     "name": "stdout",
     "output_type": "stream",
     "text": [
      "-50\n"
     ]
    }
   ],
   "source": [
    "print (c-100)"
   ]
  },
  {
   "cell_type": "code",
   "execution_count": 56,
   "id": "7a97ca11",
   "metadata": {},
   "outputs": [
    {
     "name": "stdout",
     "output_type": "stream",
     "text": [
      "Phytonis powerful laguage \n"
     ]
    }
   ],
   "source": [
    "string_first = 'Phyton'\n",
    "string_second = 'is'\n",
    "string_third = ' powerful laguage '\n",
    "print (string_first + string_second + string_third)"
   ]
  },
  {
   "cell_type": "code",
   "execution_count": 60,
   "id": "f8b74cf7",
   "metadata": {},
   "outputs": [
    {
     "ename": "NameError",
     "evalue": "name 'Print' is not defined",
     "output_type": "error",
     "traceback": [
      "\u001b[1;31m---------------------------------------------------------------------------\u001b[0m",
      "\u001b[1;31mNameError\u001b[0m                                 Traceback (most recent call last)",
      "\u001b[1;32m~\\AppData\\Local\\Temp/ipykernel_3444/2694521870.py\u001b[0m in \u001b[0;36m<module>\u001b[1;34m\u001b[0m\n\u001b[1;32m----> 1\u001b[1;33m \u001b[0mPrint\u001b[0m \u001b[1;33m(\u001b[0m\u001b[1;34m'Phyton'\u001b[0m \u001b[1;33m+\u001b[0m \u001b[1;34m'is powerful '\u001b[0m\u001b[1;33m,\u001b[0m \u001b[1;34m'language '\u001b[0m\u001b[1;33m)\u001b[0m\u001b[1;33m\u001b[0m\u001b[1;33m\u001b[0m\u001b[0m\n\u001b[0m",
      "\u001b[1;31mNameError\u001b[0m: name 'Print' is not defined"
     ]
    }
   ],
   "source": [
    "Print ('Phyton' + 'is powerful ', 'language ')"
   ]
  },
  {
   "cell_type": "code",
   "execution_count": 61,
   "id": "6f2f1899",
   "metadata": {},
   "outputs": [
    {
     "ename": "NameError",
     "evalue": "name 'Print' is not defined",
     "output_type": "error",
     "traceback": [
      "\u001b[1;31m---------------------------------------------------------------------------\u001b[0m",
      "\u001b[1;31mNameError\u001b[0m                                 Traceback (most recent call last)",
      "\u001b[1;32m~\\AppData\\Local\\Temp/ipykernel_3444/2054182182.py\u001b[0m in \u001b[0;36m<module>\u001b[1;34m\u001b[0m\n\u001b[1;32m----> 1\u001b[1;33m \u001b[0mPrint\u001b[0m \u001b[1;33m(\u001b[0m\u001b[1;34m'Wow'\u001b[0m \u001b[1;33m+\u001b[0m \u001b[1;34m'python is'\u001b[0m \u001b[1;33m,\u001b[0m \u001b[1;34m'easy'\u001b[0m\u001b[1;33m)\u001b[0m\u001b[1;33m\u001b[0m\u001b[1;33m\u001b[0m\u001b[0m\n\u001b[0m",
      "\u001b[1;31mNameError\u001b[0m: name 'Print' is not defined"
     ]
    }
   ],
   "source": [
    "Print ('Wow' + 'python is' , 'easy')"
   ]
  },
  {
   "cell_type": "code",
   "execution_count": 65,
   "id": "5180dddb",
   "metadata": {},
   "outputs": [
    {
     "name": "stdout",
     "output_type": "stream",
     "text": [
      " Day Day Day Day Day\n"
     ]
    }
   ],
   "source": [
    "print (' Day' *  5)"
   ]
  },
  {
   "cell_type": "code",
   "execution_count": 66,
   "id": "8571604f",
   "metadata": {},
   "outputs": [
    {
     "ename": "TypeError",
     "evalue": "can only concatenate str (not \"int\") to str",
     "output_type": "error",
     "traceback": [
      "\u001b[1;31m---------------------------------------------------------------------------\u001b[0m",
      "\u001b[1;31mTypeError\u001b[0m                                 Traceback (most recent call last)",
      "\u001b[1;32m~\\AppData\\Local\\Temp/ipykernel_3444/1530668463.py\u001b[0m in \u001b[0;36m<module>\u001b[1;34m\u001b[0m\n\u001b[1;32m----> 1\u001b[1;33m \u001b[0mprint\u001b[0m \u001b[1;33m(\u001b[0m\u001b[1;34m' Day '\u001b[0m \u001b[1;33m+\u001b[0m \u001b[1;36m2\u001b[0m\u001b[1;33m)\u001b[0m\u001b[1;33m\u001b[0m\u001b[1;33m\u001b[0m\u001b[0m\n\u001b[0m",
      "\u001b[1;31mTypeError\u001b[0m: can only concatenate str (not \"int\") to str"
     ]
    }
   ],
   "source": [
    "print (' Day ' + 2)"
   ]
  },
  {
   "cell_type": "code",
   "execution_count": 67,
   "id": "1c451b6d",
   "metadata": {},
   "outputs": [
    {
     "name": "stdout",
     "output_type": "stream",
     "text": [
      " Day 2\n"
     ]
    }
   ],
   "source": [
    "print (' Day ' + str(2))"
   ]
  },
  {
   "cell_type": "code",
   "execution_count": 68,
   "id": "f830f6ef",
   "metadata": {},
   "outputs": [
    {
     "name": "stdout",
     "output_type": "stream",
     "text": [
      "Your Dob is 1990\n"
     ]
    }
   ],
   "source": [
    "print ('Your Dob is ' + str(1990))"
   ]
  },
  {
   "cell_type": "code",
   "execution_count": 69,
   "id": "abe4b47b",
   "metadata": {},
   "outputs": [
    {
     "data": {
      "text/plain": [
       "[]"
      ]
     },
     "execution_count": 69,
     "metadata": {},
     "output_type": "execute_result"
    }
   ],
   "source": [
    "l = []\n",
    "l"
   ]
  },
  {
   "cell_type": "code",
   "execution_count": 72,
   "id": "489cda68",
   "metadata": {},
   "outputs": [
    {
     "data": {
      "text/plain": [
       "['a', 'b', 'c']"
      ]
     },
     "execution_count": 72,
     "metadata": {},
     "output_type": "execute_result"
    }
   ],
   "source": [
    "l = ['a','b', 'c']\n",
    "l"
   ]
  },
  {
   "cell_type": "code",
   "execution_count": 76,
   "id": "6ec461b3",
   "metadata": {},
   "outputs": [
    {
     "name": "stdout",
     "output_type": "stream",
     "text": [
      "['a', 6, 9.16]\n"
     ]
    }
   ],
   "source": [
    "l = ['a', 6, 9.16]\n",
    "print (l)"
   ]
  },
  {
   "cell_type": "code",
   "execution_count": 80,
   "id": "f7887b59",
   "metadata": {},
   "outputs": [
    {
     "data": {
      "text/plain": [
       "['a', 6, 9.16]"
      ]
     },
     "execution_count": 80,
     "metadata": {},
     "output_type": "execute_result"
    }
   ],
   "source": [
    "l2 = list(l)\n",
    "l2"
   ]
  },
  {
   "cell_type": "code",
   "execution_count": 81,
   "id": "94e97693",
   "metadata": {},
   "outputs": [
    {
     "data": {
      "text/plain": [
       "[35, 40, 60, 80, 100]"
      ]
     },
     "execution_count": 81,
     "metadata": {},
     "output_type": "execute_result"
    }
   ],
   "source": [
    "marks = [ 35, 40, 60, 80, 100]\n",
    "marks"
   ]
  },
  {
   "cell_type": "code",
   "execution_count": 83,
   "id": "57ea76db",
   "metadata": {},
   "outputs": [
    {
     "data": {
      "text/plain": [
       "[35, 40, 60, 80, 100]"
      ]
     },
     "execution_count": 83,
     "metadata": {},
     "output_type": "execute_result"
    }
   ],
   "source": [
    "copy_marks = marks.copy()\n",
    "copy_marks"
   ]
  },
  {
   "cell_type": "code",
   "execution_count": 84,
   "id": "cc3fc5d0",
   "metadata": {},
   "outputs": [
    {
     "data": {
      "text/plain": [
       "['s', 'h', 'a', 'n', 'k', 'a', 'r']"
      ]
     },
     "execution_count": 84,
     "metadata": {},
     "output_type": "execute_result"
    }
   ],
   "source": [
    "list('shankar')"
   ]
  },
  {
   "cell_type": "code",
   "execution_count": 93,
   "id": "75a65bc6",
   "metadata": {},
   "outputs": [
    {
     "name": "stdout",
     "output_type": "stream",
     "text": [
      "['Radha']\n"
     ]
    }
   ],
   "source": [
    "employee = []\n",
    "employee.append('Radha')\n",
    "print (employee)"
   ]
  },
  {
   "cell_type": "code",
   "execution_count": 94,
   "id": "adb5be24",
   "metadata": {},
   "outputs": [
    {
     "name": "stdout",
     "output_type": "stream",
     "text": [
      "['Radha', 'Ramesh', 'Salman']\n"
     ]
    }
   ],
   "source": [
    "employee.append('Ramesh')\n",
    "employee.append('Salman')\n",
    "print (employee)"
   ]
  },
  {
   "cell_type": "code",
   "execution_count": 95,
   "id": "4952aff9",
   "metadata": {},
   "outputs": [
    {
     "data": {
      "text/plain": [
       "['Radha', \"D'Souza\", 'Ramesh', 'Salman']"
      ]
     },
     "execution_count": 95,
     "metadata": {},
     "output_type": "execute_result"
    }
   ],
   "source": [
    "employee.insert(1,\"D'Souza\")\n",
    "employee"
   ]
  },
  {
   "cell_type": "code",
   "execution_count": 120,
   "id": "82e76e96",
   "metadata": {},
   "outputs": [],
   "source": [
    "emp_salary= [15000,28000,19000]"
   ]
  },
  {
   "cell_type": "code",
   "execution_count": 121,
   "id": "bfde70d4",
   "metadata": {},
   "outputs": [
    {
     "data": {
      "text/plain": [
       "[48000, 15000, 28000, 19000]"
      ]
     },
     "execution_count": 121,
     "metadata": {},
     "output_type": "execute_result"
    }
   ],
   "source": [
    "emp_salary.insert(0,48000)\n",
    "emp_salary"
   ]
  },
  {
   "cell_type": "code",
   "execution_count": 122,
   "id": "759a3c3f",
   "metadata": {},
   "outputs": [
    {
     "data": {
      "text/plain": [
       "[48000, 22000, 15000, 28000, 19000]"
      ]
     },
     "execution_count": 122,
     "metadata": {},
     "output_type": "execute_result"
    }
   ],
   "source": [
    "emp_salary.insert(1,22000)\n",
    "emp_salary"
   ]
  },
  {
   "cell_type": "code",
   "execution_count": 3,
   "id": "82671c78",
   "metadata": {},
   "outputs": [
    {
     "data": {
      "text/plain": [
       "['sachin', 'Dravid', 'Ganguly', 'Lax']"
      ]
     },
     "execution_count": 3,
     "metadata": {},
     "output_type": "execute_result"
    }
   ],
   "source": [
    "Bat =['sachin', 'Dravid', 'Ganguly', 'Lax']\n",
    "Bat"
   ]
  },
  {
   "cell_type": "code",
   "execution_count": 5,
   "id": "4e50613b",
   "metadata": {},
   "outputs": [
    {
     "data": {
      "text/plain": [
       "'Ganguly'"
      ]
     },
     "execution_count": 5,
     "metadata": {},
     "output_type": "execute_result"
    }
   ],
   "source": [
    "Bat[-2]"
   ]
  },
  {
   "cell_type": "code",
   "execution_count": 6,
   "id": "dc7c8609",
   "metadata": {},
   "outputs": [
    {
     "data": {
      "text/plain": [
       "'sachin'"
      ]
     },
     "execution_count": 6,
     "metadata": {},
     "output_type": "execute_result"
    }
   ],
   "source": [
    "Bat[0]"
   ]
  },
  {
   "cell_type": "code",
   "execution_count": 10,
   "id": "1e504113",
   "metadata": {},
   "outputs": [
    {
     "data": {
      "text/plain": [
       "['sachin', 'kumble', 'Ganguly', 'Lax']"
      ]
     },
     "execution_count": 10,
     "metadata": {},
     "output_type": "execute_result"
    }
   ],
   "source": [
    "Bat[1] = 'kumble'\n",
    "Bat"
   ]
  },
  {
   "cell_type": "code",
   "execution_count": 13,
   "id": "8f28563f",
   "metadata": {},
   "outputs": [
    {
     "ename": "NameError",
     "evalue": "name 'emp_salary' is not defined",
     "output_type": "error",
     "traceback": [
      "\u001b[1;31m---------------------------------------------------------------------------\u001b[0m",
      "\u001b[1;31mNameError\u001b[0m                                 Traceback (most recent call last)",
      "\u001b[1;32m~\\AppData\\Local\\Temp/ipykernel_1008/354758440.py\u001b[0m in \u001b[0;36m<module>\u001b[1;34m\u001b[0m\n\u001b[1;32m----> 1\u001b[1;33m \u001b[0memp_salary\u001b[0m\u001b[1;33m\u001b[0m\u001b[1;33m\u001b[0m\u001b[0m\n\u001b[0m",
      "\u001b[1;31mNameError\u001b[0m: name 'emp_salary' is not defined"
     ]
    }
   ],
   "source": [
    "emp_salary"
   ]
  },
  {
   "cell_type": "code",
   "execution_count": 18,
   "id": "eaf6bfef",
   "metadata": {},
   "outputs": [
    {
     "data": {
      "text/plain": [
       "[2, 3, 5, 7, 9]"
      ]
     },
     "execution_count": 18,
     "metadata": {},
     "output_type": "execute_result"
    }
   ],
   "source": [
    "E_salary = [2,3,5,7,9]\n",
    "E_salary"
   ]
  },
  {
   "cell_type": "code",
   "execution_count": 2,
   "id": "e613ee81",
   "metadata": {},
   "outputs": [
    {
     "data": {
      "text/plain": [
       "[9, 34, 56, 76, 87]"
      ]
     },
     "execution_count": 2,
     "metadata": {},
     "output_type": "execute_result"
    }
   ],
   "source": [
    "E_salary = [9,34,56,76,87]\n",
    "E_salary"
   ]
  },
  {
   "cell_type": "code",
   "execution_count": 3,
   "id": "167f158e",
   "metadata": {},
   "outputs": [
    {
     "data": {
      "text/plain": [
       "[34, 56, 76, 87]"
      ]
     },
     "execution_count": 3,
     "metadata": {},
     "output_type": "execute_result"
    }
   ],
   "source": [
    "E_salary[1:]"
   ]
  },
  {
   "cell_type": "code",
   "execution_count": 4,
   "id": "7f6e23ad",
   "metadata": {},
   "outputs": [
    {
     "data": {
      "text/plain": [
       "[9, 34, 56]"
      ]
     },
     "execution_count": 4,
     "metadata": {},
     "output_type": "execute_result"
    }
   ],
   "source": [
    "E_salary[:3]"
   ]
  },
  {
   "cell_type": "code",
   "execution_count": 5,
   "id": "29d10d02",
   "metadata": {},
   "outputs": [
    {
     "data": {
      "text/plain": [
       "[34, 56]"
      ]
     },
     "execution_count": 5,
     "metadata": {},
     "output_type": "execute_result"
    }
   ],
   "source": [
    "E_salary[1:3]"
   ]
  },
  {
   "cell_type": "code",
   "execution_count": 6,
   "id": "cedad5a3",
   "metadata": {},
   "outputs": [
    {
     "data": {
      "text/plain": [
       "[9, 34, 56, 76, 87, 25]"
      ]
     },
     "execution_count": 6,
     "metadata": {},
     "output_type": "execute_result"
    }
   ],
   "source": [
    "E_salary + [25]"
   ]
  },
  {
   "cell_type": "code",
   "execution_count": 7,
   "id": "497dcc14",
   "metadata": {},
   "outputs": [
    {
     "data": {
      "text/plain": [
       "[9, 34, 56, 76, 87]"
      ]
     },
     "execution_count": 7,
     "metadata": {},
     "output_type": "execute_result"
    }
   ],
   "source": [
    "E_salary"
   ]
  },
  {
   "cell_type": "code",
   "execution_count": 10,
   "id": "d7b5f5c9",
   "metadata": {},
   "outputs": [
    {
     "data": {
      "text/plain": [
       "[9, 34, 56, 76, 87, 25, 25]"
      ]
     },
     "execution_count": 10,
     "metadata": {},
     "output_type": "execute_result"
    }
   ],
   "source": [
    "E_salary"
   ]
  },
  {
   "cell_type": "code",
   "execution_count": 12,
   "id": "6a8748a2",
   "metadata": {},
   "outputs": [
    {
     "data": {
      "text/plain": [
       "[3, 4, 5, 6, 7, 9]"
      ]
     },
     "execution_count": 12,
     "metadata": {},
     "output_type": "execute_result"
    }
   ],
   "source": [
    "E_salary = [3,4,5,6,7]\n",
    "E_salary = E_salary + [9]\n",
    "E_salary"
   ]
  },
  {
   "cell_type": "code",
   "execution_count": 13,
   "id": "db98effd",
   "metadata": {},
   "outputs": [
    {
     "data": {
      "text/plain": [
       "[3, 4, 5, 6, 7, 9]"
      ]
     },
     "execution_count": 13,
     "metadata": {},
     "output_type": "execute_result"
    }
   ],
   "source": [
    "E_salary"
   ]
  },
  {
   "cell_type": "code",
   "execution_count": 14,
   "id": "7213be1c",
   "metadata": {},
   "outputs": [
    {
     "data": {
      "text/plain": [
       "[3, 4, 5, 6, 7, 9, 10]"
      ]
     },
     "execution_count": 14,
     "metadata": {},
     "output_type": "execute_result"
    }
   ],
   "source": [
    "E_salary.append(10)\n",
    "E_salary"
   ]
  },
  {
   "cell_type": "code",
   "execution_count": 16,
   "id": "f0fb4a3b",
   "metadata": {},
   "outputs": [
    {
     "data": {
      "text/plain": [
       "[3, 4, 5, 6, 7, 9, 10]"
      ]
     },
     "execution_count": 16,
     "metadata": {},
     "output_type": "execute_result"
    }
   ],
   "source": [
    "E_salary"
   ]
  },
  {
   "cell_type": "code",
   "execution_count": 19,
   "id": "0b0a0e0a",
   "metadata": {},
   "outputs": [
    {
     "data": {
      "text/plain": [
       "[3, 4, 5, 6, 7, 9, 10, 3, 4, 5, 6, 7, 9, 10]"
      ]
     },
     "execution_count": 19,
     "metadata": {},
     "output_type": "execute_result"
    }
   ],
   "source": [
    "E_salary * 2"
   ]
  },
  {
   "cell_type": "code",
   "execution_count": 20,
   "id": "94fc5727",
   "metadata": {},
   "outputs": [
    {
     "name": "stdout",
     "output_type": "stream",
     "text": [
      "==========================================================================================\n",
      "                           Data Trained                                            \n",
      "==========================================================================================\n"
     ]
    }
   ],
   "source": [
    "print ('=' * 90)\n",
    "print ('                           Data Trained                                            ')\n",
    "print ('=' * 90)"
   ]
  },
  {
   "cell_type": "code",
   "execution_count": 21,
   "id": "c0190d11",
   "metadata": {},
   "outputs": [
    {
     "data": {
      "text/plain": [
       "2"
      ]
     },
     "execution_count": 21,
     "metadata": {},
     "output_type": "execute_result"
    }
   ],
   "source": [
    "m = [4, 5, 6, 4, 10, 9, 6]\n",
    "m.count(6)"
   ]
  },
  {
   "cell_type": "code",
   "execution_count": 23,
   "id": "e9cc2d7c",
   "metadata": {},
   "outputs": [
    {
     "data": {
      "text/plain": [
       "2"
      ]
     },
     "execution_count": 23,
     "metadata": {},
     "output_type": "execute_result"
    }
   ],
   "source": [
    "s =[ 'Rahul','Rahul','Sundar', 'Virat']\n",
    "s.count('Rahul')"
   ]
  },
  {
   "cell_type": "code",
   "execution_count": 24,
   "id": "7a18b069",
   "metadata": {},
   "outputs": [
    {
     "data": {
      "text/plain": [
       "[4, 5, 6, 4, 10, 9, 6]"
      ]
     },
     "execution_count": 24,
     "metadata": {},
     "output_type": "execute_result"
    }
   ],
   "source": [
    "m"
   ]
  },
  {
   "cell_type": "code",
   "execution_count": 25,
   "id": "c1510c25",
   "metadata": {},
   "outputs": [
    {
     "data": {
      "text/plain": [
       "4"
      ]
     },
     "execution_count": 25,
     "metadata": {},
     "output_type": "execute_result"
    }
   ],
   "source": [
    "m.index(10)"
   ]
  },
  {
   "cell_type": "code",
   "execution_count": 39,
   "id": "4e96a8c7",
   "metadata": {},
   "outputs": [
    {
     "data": {
      "text/plain": [
       "['Radha', 'Shyam', 'Laxman', 'Dev']"
      ]
     },
     "execution_count": 39,
     "metadata": {},
     "output_type": "execute_result"
    }
   ],
   "source": [
    "N = ['Radha','Shyam', 'Laxman','Dev']\n",
    "N"
   ]
  },
  {
   "cell_type": "code",
   "execution_count": 33,
   "id": "6f43fa0a",
   "metadata": {},
   "outputs": [
    {
     "data": {
      "text/plain": [
       "['Radha', 'Shyam', 'Laxman', 'Dev']"
      ]
     },
     "execution_count": 33,
     "metadata": {},
     "output_type": "execute_result"
    }
   ],
   "source": [
    "N = ['Radha','Shyam', 'Laxman','Dev']\n",
    "N"
   ]
  },
  {
   "cell_type": "code",
   "execution_count": 40,
   "id": "53523324",
   "metadata": {},
   "outputs": [
    {
     "data": {
      "text/plain": [
       "['Radha', 'Shyam', 'Laxman', 'Dev', 'Anju', 'Sapna']"
      ]
     },
     "execution_count": 40,
     "metadata": {},
     "output_type": "execute_result"
    }
   ],
   "source": [
    "N.extend(['Anju','Sapna'])\n",
    "N"
   ]
  },
  {
   "cell_type": "code",
   "execution_count": 41,
   "id": "0bc23488",
   "metadata": {},
   "outputs": [
    {
     "data": {
      "text/plain": [
       "['Radha', 'Shyam', 'Laxman', 'Dev', 'Anju', 'Sapna']"
      ]
     },
     "execution_count": 41,
     "metadata": {},
     "output_type": "execute_result"
    }
   ],
   "source": [
    "N"
   ]
  },
  {
   "cell_type": "code",
   "execution_count": 49,
   "id": "8766fb7a",
   "metadata": {},
   "outputs": [
    {
     "data": {
      "text/plain": [
       "['Radha', 'Shyam', 'Laxman', 'Dev', 'Anju', 'Sapna']"
      ]
     },
     "execution_count": 49,
     "metadata": {},
     "output_type": "execute_result"
    }
   ],
   "source": [
    "N = ['Radha', 'Shyam', 'Laxman', 'Dev', 'Anju', 'Sapna']\n",
    "N"
   ]
  },
  {
   "cell_type": "code",
   "execution_count": 50,
   "id": "1dd7b641",
   "metadata": {},
   "outputs": [
    {
     "data": {
      "text/plain": [
       "'Sapna'"
      ]
     },
     "execution_count": 50,
     "metadata": {},
     "output_type": "execute_result"
    }
   ],
   "source": [
    "N.pop()"
   ]
  },
  {
   "cell_type": "code",
   "execution_count": 51,
   "id": "6b77c687",
   "metadata": {},
   "outputs": [
    {
     "data": {
      "text/plain": [
       "['Radha', 'Shyam', 'Laxman', 'Dev', 'Anju']"
      ]
     },
     "execution_count": 51,
     "metadata": {},
     "output_type": "execute_result"
    }
   ],
   "source": [
    "N"
   ]
  },
  {
   "cell_type": "code",
   "execution_count": 52,
   "id": "e6f824a1",
   "metadata": {},
   "outputs": [
    {
     "data": {
      "text/plain": [
       "'Anju'"
      ]
     },
     "execution_count": 52,
     "metadata": {},
     "output_type": "execute_result"
    }
   ],
   "source": [
    "pop_last = N.pop()\n",
    "pop_last"
   ]
  },
  {
   "cell_type": "code",
   "execution_count": 53,
   "id": "9a8cd49a",
   "metadata": {},
   "outputs": [
    {
     "data": {
      "text/plain": [
       "['Radha', 'Shyam', 'Laxman', 'Dev']"
      ]
     },
     "execution_count": 53,
     "metadata": {},
     "output_type": "execute_result"
    }
   ],
   "source": [
    "N"
   ]
  },
  {
   "cell_type": "code",
   "execution_count": 58,
   "id": "ea5c605e",
   "metadata": {},
   "outputs": [
    {
     "data": {
      "text/plain": [
       "'Laxman'"
      ]
     },
     "execution_count": 58,
     "metadata": {},
     "output_type": "execute_result"
    }
   ],
   "source": [
    "N = ['Radha', 'Shyam', 'Laxman', 'Dev']\n",
    "pop_index = N.pop(2)"
   ]
  },
  {
   "cell_type": "code",
   "execution_count": 61,
   "id": "12ccfe81",
   "metadata": {},
   "outputs": [
    {
     "data": {
      "text/plain": [
       "[3, 4, 5, 2]"
      ]
     },
     "execution_count": 61,
     "metadata": {},
     "output_type": "execute_result"
    }
   ],
   "source": [
    "r_n = [2,3, 4, 5,2]\n",
    "r_n.remove(2)\n",
    "r_n"
   ]
  },
  {
   "cell_type": "code",
   "execution_count": 62,
   "id": "229c0e93",
   "metadata": {},
   "outputs": [
    {
     "data": {
      "text/plain": [
       "[3, 4, 5, 2]"
      ]
     },
     "execution_count": 62,
     "metadata": {},
     "output_type": "execute_result"
    }
   ],
   "source": [
    "r_n"
   ]
  },
  {
   "cell_type": "code",
   "execution_count": 63,
   "id": "7ad61f69",
   "metadata": {},
   "outputs": [
    {
     "data": {
      "text/plain": [
       "[2, 5, 4, 3]"
      ]
     },
     "execution_count": 63,
     "metadata": {},
     "output_type": "execute_result"
    }
   ],
   "source": [
    "r_n.reverse()\n",
    "r_n"
   ]
  },
  {
   "cell_type": "code",
   "execution_count": 68,
   "id": "af3b4626",
   "metadata": {},
   "outputs": [
    {
     "data": {
      "text/plain": [
       "[1, 2, 3, 6, 8, 9]"
      ]
     },
     "execution_count": 68,
     "metadata": {},
     "output_type": "execute_result"
    }
   ],
   "source": [
    "r_n = [3,6,8,9,2,1]\n",
    "r_n.sort()\n",
    "r_n"
   ]
  },
  {
   "cell_type": "code",
   "execution_count": 69,
   "id": "2e8907a2",
   "metadata": {},
   "outputs": [
    {
     "data": {
      "text/plain": [
       "[9, 8, 6, 3, 2, 1]"
      ]
     },
     "execution_count": 69,
     "metadata": {},
     "output_type": "execute_result"
    }
   ],
   "source": [
    "r_n = [3,6,8,9,2,1]\n",
    "r_n.sort(reverse = True)\n",
    "r_n"
   ]
  },
  {
   "cell_type": "code",
   "execution_count": 70,
   "id": "ccb92589",
   "metadata": {},
   "outputs": [
    {
     "data": {
      "text/plain": [
       "('A', 'D', 'H', 'k')"
      ]
     },
     "execution_count": 70,
     "metadata": {},
     "output_type": "execute_result"
    }
   ],
   "source": [
    "work_l =('A', 'D','H','k')\n",
    "work_l"
   ]
  },
  {
   "cell_type": "code",
   "execution_count": 71,
   "id": "925608c8",
   "metadata": {},
   "outputs": [
    {
     "data": {
      "text/plain": [
       "tuple"
      ]
     },
     "execution_count": 71,
     "metadata": {},
     "output_type": "execute_result"
    }
   ],
   "source": [
    "type(work_l)"
   ]
  },
  {
   "cell_type": "code",
   "execution_count": 72,
   "id": "58007526",
   "metadata": {},
   "outputs": [
    {
     "data": {
      "text/plain": [
       "['A', 'D', 'H', 'k']"
      ]
     },
     "execution_count": 72,
     "metadata": {},
     "output_type": "execute_result"
    }
   ],
   "source": [
    "work_l = list(work_l)\n",
    "work_l"
   ]
  },
  {
   "cell_type": "code",
   "execution_count": 73,
   "id": "08b135aa",
   "metadata": {},
   "outputs": [
    {
     "data": {
      "text/plain": [
       "'D'"
      ]
     },
     "execution_count": 73,
     "metadata": {},
     "output_type": "execute_result"
    }
   ],
   "source": [
    "work_l[1]"
   ]
  },
  {
   "cell_type": "code",
   "execution_count": 75,
   "id": "858b5a1c",
   "metadata": {},
   "outputs": [
    {
     "data": {
      "text/plain": [
       "['A', 'D', 'H', 'k', 'B']"
      ]
     },
     "execution_count": 75,
     "metadata": {},
     "output_type": "execute_result"
    }
   ],
   "source": [
    "work_l = ['A', 'D', 'H', 'k']\n",
    "work_l.append('B')\n",
    "work_l"
   ]
  },
  {
   "cell_type": "code",
   "execution_count": 76,
   "id": "2d169a43",
   "metadata": {},
   "outputs": [
    {
     "data": {
      "text/plain": [
       "('A', 'D', 'H', 'k', 'B')"
      ]
     },
     "execution_count": 76,
     "metadata": {},
     "output_type": "execute_result"
    }
   ],
   "source": [
    "work_l = tuple(work_l)\n",
    "work_l"
   ]
  },
  {
   "cell_type": "code",
   "execution_count": 78,
   "id": "6cfd893f",
   "metadata": {},
   "outputs": [
    {
     "data": {
      "text/plain": [
       "3"
      ]
     },
     "execution_count": 78,
     "metadata": {},
     "output_type": "execute_result"
    }
   ],
   "source": [
    "work_l.index('k')"
   ]
  },
  {
   "cell_type": "code",
   "execution_count": 79,
   "id": "ffd8bf75",
   "metadata": {},
   "outputs": [
    {
     "data": {
      "text/plain": [
       "1"
      ]
     },
     "execution_count": 79,
     "metadata": {},
     "output_type": "execute_result"
    }
   ],
   "source": [
    "work_l.count('D')"
   ]
  },
  {
   "cell_type": "code",
   "execution_count": 1,
   "id": "d86467f7",
   "metadata": {},
   "outputs": [
    {
     "data": {
      "text/plain": [
       "set"
      ]
     },
     "execution_count": 1,
     "metadata": {},
     "output_type": "execute_result"
    }
   ],
   "source": [
    "roll_num = set()\n",
    "type(roll_num)"
   ]
  },
  {
   "cell_type": "code",
   "execution_count": 2,
   "id": "de203f9a",
   "metadata": {},
   "outputs": [
    {
     "data": {
      "text/plain": [
       "{1, 2}"
      ]
     },
     "execution_count": 2,
     "metadata": {},
     "output_type": "execute_result"
    }
   ],
   "source": [
    "roll_num.add(1)\n",
    "roll_num.add(2)\n",
    "roll_num.add(1)\n",
    "roll_num"
   ]
  },
  {
   "cell_type": "code",
   "execution_count": 3,
   "id": "3c55fb95",
   "metadata": {},
   "outputs": [
    {
     "data": {
      "text/plain": [
       "{0, 1, 2, 4, 6, 7, 8, 9, 10}"
      ]
     },
     "execution_count": 3,
     "metadata": {},
     "output_type": "execute_result"
    }
   ],
   "source": [
    "id= [1,1,2,4,7,8,9,2,6,0,10]\n",
    "set(id)"
   ]
  },
  {
   "cell_type": "code",
   "execution_count": 4,
   "id": "797a0989",
   "metadata": {},
   "outputs": [
    {
     "data": {
      "text/plain": [
       "{'abhi', 'bolly', 'cat', 'nilesh', 'shailly', 'tushar'}"
      ]
     },
     "execution_count": 4,
     "metadata": {},
     "output_type": "execute_result"
    }
   ],
   "source": [
    "name = ['abhi','shailly','bolly','cat','abhi','bolly','tushar','nilesh']\n",
    "set(name)"
   ]
  },
  {
   "cell_type": "code",
   "execution_count": 5,
   "id": "9ba475d4",
   "metadata": {},
   "outputs": [
    {
     "data": {
      "text/plain": [
       "'value2'"
      ]
     },
     "execution_count": 5,
     "metadata": {},
     "output_type": "execute_result"
    }
   ],
   "source": [
    "my_dict ={'key1': 'value1', 'key2': 'value2'}\n",
    "my_dict['key2']"
   ]
  },
  {
   "cell_type": "code",
   "execution_count": 7,
   "id": "46cfd078",
   "metadata": {},
   "outputs": [
    {
     "data": {
      "text/plain": [
       "'value1'"
      ]
     },
     "execution_count": 7,
     "metadata": {},
     "output_type": "execute_result"
    }
   ],
   "source": [
    "my_dict['key1']"
   ]
  },
  {
   "cell_type": "code",
   "execution_count": 8,
   "id": "602efe6c",
   "metadata": {},
   "outputs": [
    {
     "data": {
      "text/plain": [
       "['maths', 'physics', 'chem']"
      ]
     },
     "execution_count": 8,
     "metadata": {},
     "output_type": "execute_result"
    }
   ],
   "source": [
    "pef = {'roll_num':123,'marks':[40,50,60],'subject':['maths', 'physics','chem']}\n",
    "pef['subject']"
   ]
  },
  {
   "cell_type": "code",
   "execution_count": 9,
   "id": "fb8acb68",
   "metadata": {},
   "outputs": [
    {
     "data": {
      "text/plain": [
       "[40, 50, 60]"
      ]
     },
     "execution_count": 9,
     "metadata": {},
     "output_type": "execute_result"
    }
   ],
   "source": [
    "pef['marks']"
   ]
  },
  {
   "cell_type": "code",
   "execution_count": 10,
   "id": "d97aa651",
   "metadata": {},
   "outputs": [
    {
     "data": {
      "text/plain": [
       "123"
      ]
     },
     "execution_count": 10,
     "metadata": {},
     "output_type": "execute_result"
    }
   ],
   "source": [
    "pef['roll_num']"
   ]
  },
  {
   "cell_type": "code",
   "execution_count": 11,
   "id": "5daa4942",
   "metadata": {},
   "outputs": [
    {
     "data": {
      "text/plain": [
       "['maths', 'physics', 'chem']"
      ]
     },
     "execution_count": 11,
     "metadata": {},
     "output_type": "execute_result"
    }
   ],
   "source": [
    "pef['subject']"
   ]
  },
  {
   "cell_type": "code",
   "execution_count": 12,
   "id": "6d3b30d9",
   "metadata": {},
   "outputs": [
    {
     "data": {
      "text/plain": [
       "'chem'"
      ]
     },
     "execution_count": 12,
     "metadata": {},
     "output_type": "execute_result"
    }
   ],
   "source": [
    "pef['subject'][2]"
   ]
  },
  {
   "cell_type": "code",
   "execution_count": 13,
   "id": "1cc641d8",
   "metadata": {},
   "outputs": [
    {
     "data": {
      "text/plain": [
       "40"
      ]
     },
     "execution_count": 13,
     "metadata": {},
     "output_type": "execute_result"
    }
   ],
   "source": [
    "pef['marks'][0]"
   ]
  },
  {
   "cell_type": "code",
   "execution_count": 16,
   "id": "f71c6610",
   "metadata": {},
   "outputs": [
    {
     "data": {
      "text/plain": [
       "'PHYSICS'"
      ]
     },
     "execution_count": 16,
     "metadata": {},
     "output_type": "execute_result"
    }
   ],
   "source": [
    "pef['subject'][1].upper()\n"
   ]
  },
  {
   "cell_type": "code",
   "execution_count": 19,
   "id": "b5b73dd9",
   "metadata": {},
   "outputs": [
    {
     "data": {
      "text/plain": [
       "[100, 50, 60]"
      ]
     },
     "execution_count": 19,
     "metadata": {},
     "output_type": "execute_result"
    }
   ],
   "source": [
    "pef['marks'][0] = pef['marks'][0] + 20\n",
    "pef['marks']"
   ]
  },
  {
   "cell_type": "code",
   "execution_count": 20,
   "id": "a372a30f",
   "metadata": {},
   "outputs": [
    {
     "data": {
      "text/plain": [
       "[60, 50, 60]"
      ]
     },
     "execution_count": 20,
     "metadata": {},
     "output_type": "execute_result"
    }
   ],
   "source": [
    "pef = {'roll_num':123,'marks':[40,50,60],'subject':['maths', 'physics','chem']}\n",
    "pef['marks'][0] = pef['marks'][0] + 20\n",
    "pef['marks']"
   ]
  },
  {
   "cell_type": "code",
   "execution_count": 21,
   "id": "8b9f86ef",
   "metadata": {},
   "outputs": [
    {
     "data": {
      "text/plain": [
       "[60, 30, 60]"
      ]
     },
     "execution_count": 21,
     "metadata": {},
     "output_type": "execute_result"
    }
   ],
   "source": [
    "pef['marks'][1] -= 20\n",
    "pef['marks']"
   ]
  },
  {
   "cell_type": "code",
   "execution_count": 23,
   "id": "4a73f2b0",
   "metadata": {},
   "outputs": [
    {
     "data": {
      "text/plain": [
       "{'roll_num': 123,\n",
       " 'marks': [60, 30, 60],\n",
       " 'subject': ['maths', 'physics', 'chem'],\n",
       " 'year': '3rd'}"
      ]
     },
     "execution_count": 23,
     "metadata": {},
     "output_type": "execute_result"
    }
   ],
   "source": [
    "pef['year'] = '3rd'\n",
    "pef"
   ]
  },
  {
   "cell_type": "code",
   "execution_count": 25,
   "id": "d0180096",
   "metadata": {},
   "outputs": [
    {
     "data": {
      "text/plain": [
       "{'roll_num': 100,\n",
       " 'marks': [60, 30, 60],\n",
       " 'subject': ['maths', 'physics', 'chem'],\n",
       " 'year': '3rd'}"
      ]
     },
     "execution_count": 25,
     "metadata": {},
     "output_type": "execute_result"
    }
   ],
   "source": [
    "pef.update({'roll_num': 100})\n",
    "pef\n"
   ]
  },
  {
   "cell_type": "code",
   "execution_count": 30,
   "id": "40e75439",
   "metadata": {},
   "outputs": [
    {
     "ename": "ValueError",
     "evalue": "dictionary update sequence element #0 has length 8; 2 is required",
     "output_type": "error",
     "traceback": [
      "\u001b[1;31m---------------------------------------------------------------------------\u001b[0m",
      "\u001b[1;31mValueError\u001b[0m                                Traceback (most recent call last)",
      "\u001b[1;32m~\\AppData\\Local\\Temp/ipykernel_988/2675867652.py\u001b[0m in \u001b[0;36m<module>\u001b[1;34m\u001b[0m\n\u001b[1;32m----> 1\u001b[1;33m \u001b[0mpef\u001b[0m\u001b[1;33m.\u001b[0m\u001b[0mupdate\u001b[0m\u001b[1;33m(\u001b[0m\u001b[1;33m[\u001b[0m\u001b[1;34m'computer'\u001b[0m\u001b[1;33m]\u001b[0m\u001b[1;33m)\u001b[0m\u001b[1;33m[\u001b[0m\u001b[1;34m'subject'\u001b[0m\u001b[1;33m]\u001b[0m\u001b[1;33m[\u001b[0m\u001b[1;36m0\u001b[0m\u001b[1;33m]\u001b[0m\u001b[1;33m\u001b[0m\u001b[1;33m\u001b[0m\u001b[0m\n\u001b[0m",
      "\u001b[1;31mValueError\u001b[0m: dictionary update sequence element #0 has length 8; 2 is required"
     ]
    }
   ],
   "source": [
    "pef.update(['computer'])['subject'][0]"
   ]
  },
  {
   "cell_type": "code",
   "execution_count": 34,
   "id": "6c0217f5",
   "metadata": {},
   "outputs": [
    {
     "data": {
      "text/plain": [
       "['computer', 'physics', 'chem']"
      ]
     },
     "execution_count": 34,
     "metadata": {},
     "output_type": "execute_result"
    }
   ],
   "source": [
    "pef = {'roll_num':123,'marks':[40,50,60],'subject':['maths', 'physics','chem']}\n",
    "pef['subject'][0] = 'computer'\n",
    "pef['subject']"
   ]
  },
  {
   "cell_type": "code",
   "execution_count": null,
   "id": "834067ad",
   "metadata": {},
   "outputs": [],
   "source": []
  },
  {
   "cell_type": "code",
   "execution_count": null,
   "id": "98256585",
   "metadata": {},
   "outputs": [],
   "source": []
  }
 ],
 "metadata": {
  "kernelspec": {
   "display_name": "Python 3 (ipykernel)",
   "language": "python",
   "name": "python3"
  },
  "language_info": {
   "codemirror_mode": {
    "name": "ipython",
    "version": 3
   },
   "file_extension": ".py",
   "mimetype": "text/x-python",
   "name": "python",
   "nbconvert_exporter": "python",
   "pygments_lexer": "ipython3",
   "version": "3.9.7"
  }
 },
 "nbformat": 4,
 "nbformat_minor": 5
}
