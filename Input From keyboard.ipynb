{
 "cells": [
  {
   "cell_type": "code",
   "execution_count": 1,
   "id": "008bee0b",
   "metadata": {},
   "outputs": [
    {
     "name": "stdout",
     "output_type": "stream",
     "text": [
      "Enter your NameShailesh\n",
      "user entered Shailesh\n"
     ]
    }
   ],
   "source": [
    "name = input('Enter your Name')\n",
    "\n",
    "print('user entered', name)"
   ]
  },
  {
   "cell_type": "code",
   "execution_count": 3,
   "id": "90f95c74",
   "metadata": {},
   "outputs": [
    {
     "name": "stdout",
     "output_type": "stream",
     "text": [
      "Enter maths score40\n",
      "Enter science score30\n",
      " Your total marks = 70\n"
     ]
    }
   ],
   "source": [
    "maths = int(input('Enter maths score'))\n",
    "\n",
    "science = int(input('Enter science score'))\n",
    "\n",
    "total = maths + science\n",
    "\n",
    "print(' Your total marks =', total)"
   ]
  },
  {
   "cell_type": "code",
   "execution_count": 1,
   "id": "cdd6cc48",
   "metadata": {},
   "outputs": [
    {
     "name": "stdout",
     "output_type": "stream",
     "text": [
      "enter your name2shailesh\n",
      "enter only alpha character\n"
     ]
    }
   ],
   "source": [
    "name =input('enter your name')\n",
    "\n",
    "if name.isalpha():\n",
    "    print('you entered ', name)\n",
    "else:\n",
    "    print('enter only alpha character')"
   ]
  },
  {
   "cell_type": "code",
   "execution_count": 3,
   "id": "fd75d493",
   "metadata": {},
   "outputs": [],
   "source": [
    "def phone_price(phone_make,phone_age,phone_GB):\n",
    "    if phone_make == 'iphone 11':\n",
    "        if 0 < phone_age <= 6:\n",
    "            if phone_GB == 64:\n",
    "                print('Rs 39,245 - Rs 41,345')\n",
    "            elif phone_GB == 128:\n",
    "                print('Rs 45,654 -Rs 48,545')\n",
    "                \n",
    "        if 6 < phone_age <= 12:\n",
    "            if phone_GB == 64:\n",
    "                print('Rs 29,456 -Rs 31,654')\n",
    "            elif phone_GB == 128:\n",
    "                print('Rs 34,567 - Rs 36,432')\n",
    "    \n",
    "    elif phone_make == 'Samsung B110':\n",
    "        if 0 < phone_age <= 6:\n",
    "            print('Rs 853 - Rs 906')\n",
    "        elif phone_age > 12:\n",
    "            print('Rs 711 - Rs 755')\n",
    "    else:\n",
    "        print('No stock right now,visit after few days')"
   ]
  },
  {
   "cell_type": "code",
   "execution_count": 4,
   "id": "5e3ae980",
   "metadata": {},
   "outputs": [
    {
     "name": "stdout",
     "output_type": "stream",
     "text": [
      "enter phone_namesamsung\n",
      "how old your phone is- 5\n",
      "enter Gb- 5\n",
      "No stock right now,visit after few days\n"
     ]
    }
   ],
   "source": [
    "phone = input('enter phone_name')\n",
    "age = int(input('how old your phone is- '))\n",
    "capacity = int(input('enter Gb- '))\n",
    "\n",
    "phone_price(phone, age, capacity)"
   ]
  },
  {
   "cell_type": "code",
   "execution_count": null,
   "id": "5f1220eb",
   "metadata": {},
   "outputs": [],
   "source": []
  }
 ],
 "metadata": {
  "kernelspec": {
   "display_name": "Python 3 (ipykernel)",
   "language": "python",
   "name": "python3"
  },
  "language_info": {
   "codemirror_mode": {
    "name": "ipython",
    "version": 3
   },
   "file_extension": ".py",
   "mimetype": "text/x-python",
   "name": "python",
   "nbconvert_exporter": "python",
   "pygments_lexer": "ipython3",
   "version": "3.9.7"
  }
 },
 "nbformat": 4,
 "nbformat_minor": 5
}
